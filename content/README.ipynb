{
 "cells": [
  {
   "cell_type": "markdown",
   "id": "c70e2595-8acc-4787-b1b6-764398f44387",
   "metadata": {
    "tags": []
   },
   "source": [
    "# README\n",
    "\n",
    "These Jupyter notebooks and related resources introduce the Python programming language as a general-purpose tool for solving everyday problems. \n",
    "\n",
    "Our focus is data journalism but the skills covered are useful for any project that calls for data acquisition and analysis.\n",
    "\n",
    "## Basic Python\n",
    "\n",
    "* [Python overview](python_overview.ipynb)\n",
    "  * What is Python?\n",
    "  * Coding contexts and workflow\n",
    "* Core [Python syntax](python_syntax_crash_course.ipynb) and features\n",
    "  * Basic data types (integers, strings, lists, [dicts](python_dict_basics.ipynb))\n",
    "  * Expressions and statements\n",
    "  * Variables as storage containers\n",
    "  * Flow control (\"for\" loops and if/elif/else)\n",
    "  * Built-in functions such as `len` and `print`\n",
    "* [Importing and using libraries](python_libraries.ipynb) (Python Standard Library and 3rd-party packages)\n",
    "* [Functions](art_of_functions.ipynb)\n",
    "* [Demystifyng Dot Notation](classes_and_oop/README.ipynb)\n",
    "  * [Modules](classes_and_oop/module_dot_something.ipynb)\n",
    "  * [The Hidden Life of Objects](classes_and_oop/hidden_life_of_objects.ipynb) - Classes and OOP\n",
    "  * [Elections OOP Coding Challenge](classes_and_oop/elections_oop_code_challenge.ipynb)\n",
    "  * [Method chaining](classes_and_oop/method_chaining.ipynb)\n",
    "  * [Why bother with classes and OOP at all?](classes_and_oop/why_bother.ipynb) - It's a fair question.\n",
    "\n",
    "## Practical Skills\n",
    "\n",
    "Practical skills for getting things done.\n",
    "\n",
    "* [Embracing errors](embracing_errors.ipynb)\n",
    "* [Counting and filtering](python_count_filter.ipynb)\n",
    "* [Reading and writing text files](python_file_io.ipynb), [CSVs](python_csv.ipynb) and JSON\n",
    "* [Fetching remote files on the Web](python_remote_files.ipynb) (**_Local / GitHub Codespaces only_**)\n",
    "* [APIs](apis/README.ipynb) (**_Local / GitHub Codespaces only_**)\n",
    "  \n",
    "## Data Wrangling and Analysis\n",
    "\n",
    "Resources for learning the [pandas](https://pandas.pydata.org/pandas-docs/stable/index.html) data analysis library.\n",
    "\n",
    "### Tutorials\n",
    "\n",
    "* **[First Python Notebook](https://palewi.re/docs/first-python-notebook/index.html)** - Perhaps the best starting point for a `pandas` intro in a news context.\n",
    "* [Homicide Rates](pandas_basics_with_homicide_rates.ipynb) - Basic wrangling and analysis with the `pandas` library. Skills covered include creating a DataFrame from scratch, subsetting rows and columns, adding calculations to new columns and merging datasets.\n",
    "### Key Skills\n",
    "\n",
    "* [Filtering Data](pandas_filtering.ipynb)\n",
    "* [Stacking Data](pandas_stacking.ipynb)\n",
    "* [Group By](pandas_groupby.ipynb)\n",
    "* [Reshaping Data](pandas_reshaping.ipynb) - Melting \"wide\" data, pivoting \"long\" data\n",
    "\n"
   ]
  }
 ],
 "metadata": {
  "kernelspec": {
   "display_name": "Python 3 (ipykernel)",
   "language": "python",
   "name": "python3"
  },
  "language_info": {
   "codemirror_mode": {
    "name": "ipython",
    "version": 3
   },
   "file_extension": ".py",
   "mimetype": "text/x-python",
   "name": "python",
   "nbconvert_exporter": "python",
   "pygments_lexer": "ipython3",
   "version": "3.11.4"
  }
 },
 "nbformat": 4,
 "nbformat_minor": 5
}
