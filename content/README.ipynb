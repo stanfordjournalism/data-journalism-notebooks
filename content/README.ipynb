{
 "cells": [
  {
   "cell_type": "markdown",
   "id": "c70e2595-8acc-4787-b1b6-764398f44387",
   "metadata": {},
   "source": [
    "# README\n",
    "\n",
    "These Jupyter notebooks introduce the Python programming language as a general-purpose tool for solving everyday problems. Our focus is data journalism but the skills covered are generally useful for any project that calls for data acquisition and analysis.\n",
    "\n",
    "Below are the major topics we'll cover:\n",
    "\n",
    "* [Python overview](python_overview.ipynb)\n",
    "  * What is Python?\n",
    "  * Coding contexts and workflow\n",
    "* Core [Python syntax](python_syntax_crash_course.ipynb) and features\n",
    "  * Basic data types (integers, strings, lists, [dicts](python_dict_basics.ipynb))\n",
    "  * Expressions and statements\n",
    "  * Variables as storage containers\n",
    "  * Flow control (\"for\" loops and if/elif/else)\n",
    "  * Built-in functions such as `len` and `print`\n",
    "  * [What is the \"dot\" thing all about?](demystifying_dot_notation.ipynb)\n",
    "  * [Importing and using libraries](python_libraries.ipynb) (Python Standard Library and 3rd-party packages)\n",
    "* Python features for readable, reusable code\n",
    "  * [Functions](art_of_functions.ipynb)\n",
    "  * Modules\n",
    "  * Packages\n",
    "* Practical skills for getting things done\n",
    "  * [Embracing errors](embracing_errors.ipynb)\n",
    "  * [Counting and filtering](python_count_filter.ipynb)\n",
    "  * [Reading and writing text files](python_file_io.ipynb), [CSVs](python_csv.ipynb) and JSON\n",
    "* Data Anlysis and Wrangling with Pandas\n",
    "  * [Homicide Rates](pandas_basics_with_homicide_rates.ipynb) - Basic wrangling and analysis with the `pandas` library\n"
   ]
  },
  {
   "cell_type": "markdown",
   "id": "42f66539-369d-4448-a1c2-c802a4a72c18",
   "metadata": {},
   "source": []
  }
 ],
 "metadata": {
  "kernelspec": {
   "display_name": "Python 3 (ipykernel)",
   "language": "python",
   "name": "python3"
  },
  "language_info": {
   "codemirror_mode": {
    "name": "ipython",
    "version": 3
   },
   "file_extension": ".py",
   "mimetype": "text/x-python",
   "name": "python",
   "nbconvert_exporter": "python",
   "pygments_lexer": "ipython3",
   "version": "3.11.4"
  }
 },
 "nbformat": 4,
 "nbformat_minor": 5
}
