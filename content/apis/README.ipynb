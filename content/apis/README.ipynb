{
 "cells": [
  {
   "cell_type": "markdown",
   "id": "7df258e7-8ecf-4c54-96f6-096af5ebaf04",
   "metadata": {},
   "source": [
    "# APIs\n",
    "\n",
    "The Jupyter Notebooks in this section cover various aspects of APIs in a news context.\n",
    "\n",
    "- [APIs and the News](apis_and_the_news.ipynb)\n",
    "- [Working with APIs](working_with_apis.ipynb)\n",
    "- [API Services](api_services.ipynb)  - Exercises in this notebook require an OpenCorporates API key\n",
    "- [Code challenge: Build Your Own Quakebot](quakebot.ipynb)\n",
    "\n",
    "## **IMPORTANT**\n",
    "\n",
    "You can *read* these notebooks on the JupyterLite version of Data Journalism Notebooks (ie the site that requires zero install and is available at https://stanfordjournalism.github.io/data-journalism-notebooks/lab/).\n",
    "\n",
    "**BUT** many of the code cells will likely raise errors - primarily those that use the `requests` library - due to limitations of JupyterLite as a browser-based coding environment.\n",
    "\n",
    "Smart folks are actively working to solve this issue and it may [change in the near future](https://news.ycombinator.com/item?id=39192587)).\n",
    "\n",
    "But in the meantime, the safest option for now (circa April 2024) is to run the API notebooks in this section either locally on your own machine, or using GitHub Codespaces."
   ]
  },
  {
   "cell_type": "code",
   "execution_count": null,
   "id": "bc7da237-85e7-42fe-9bb2-f9331352294b",
   "metadata": {},
   "outputs": [],
   "source": []
  }
 ],
 "metadata": {
  "kernelspec": {
   "display_name": "Python 3 (ipykernel)",
   "language": "python",
   "name": "python3"
  },
  "language_info": {
   "codemirror_mode": {
    "name": "ipython",
    "version": 3
   },
   "file_extension": ".py",
   "mimetype": "text/x-python",
   "name": "python",
   "nbconvert_exporter": "python",
   "pygments_lexer": "ipython3",
   "version": "3.11.4"
  }
 },
 "nbformat": 4,
 "nbformat_minor": 5
}
