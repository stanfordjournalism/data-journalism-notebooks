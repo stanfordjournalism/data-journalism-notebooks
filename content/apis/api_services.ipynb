{
 "cells": [
  {
   "cell_type": "markdown",
   "id": "27871c57",
   "metadata": {},
   "source": [
    "# API Services\n",
    "\n",
    "So far we've learned how to use the web as a data source by querying APIs and scraping websites. Many sites also offer a myriad of *services* via API, which can help us extract or transform information from a variety of sources such as text, images, audio and video.\n",
    "\n",
    "A few examples of API-based services:\n",
    "\n",
    "- [Geocoding](https://developers.google.com/maps/documentation/geocoding/overview)\n",
    "- [Speech-to-Text transcription](https://cloud.google.com/speech-to-text/)\n",
    "- [OCR and image detection](https://cloud.google.com/vision/docs/reference/rest/)\n",
    "- [Entity Extraction/Linking/Concept identification](https://developers.refinitiv.com/en/api-catalog/open-perm-id/intelligent-tagging-restful-api)\n",
    "- [Infrastructure](https://docs.aws.amazon.com/index.html#lang/en_us) (e.g. spinning up machines in the cloud for data processing or storing files)\n",
    "\n",
    "Such tools are critical for the day-to-day work of journalism. For example, the [Refinitiv Intelligent Tagging API](https://developers.refinitiv.com/en/api-catalog/open-perm-id/intelligent-tagging-restful-api) extracts discrete data -- or entities -- about people, places and organizations found in uploaded documents. It also attempts to [link those entities](https://en.wikipedia.org/wiki/Entity_linking) to canonical records and provide related [concepts or topics for a document](https://en.wikipedia.org/wiki/Concept_mining).\n",
    "\n",
    "Here's an excerpt from their documentation about the socialTag information provided by the API:\n",
    "\n",
    "> *A Social Tag is an association of the submitted text to related Wikipedia categories, or articles. Social tags attempt to emulate how a person would tag a specific piece of content. For example, if you submit a story about Barak Obama and a piece of legislation, at least one reasonable tag would be “U.S. Legislation….The SocialTag function does not identify individual items within the text, but rather attempts to provide common sense tags for the piece of content as a whole. Social tags are derived from the Wikipedia folksonomy. They are periodically updated to keep them current.*\n",
    "\n",
    "Social tags and topics could be used in a document analysis or news app project to link and discover documents that might otherwise not share common words or phrases."
   ]
  }
 ],
 "metadata": {
  "kernelspec": {
   "display_name": "Python 3 (ipykernel)",
   "language": "python",
   "name": "python3"
  },
  "language_info": {
   "codemirror_mode": {
    "name": "ipython",
    "version": 3
   },
   "file_extension": ".py",
   "mimetype": "text/x-python",
   "name": "python",
   "nbconvert_exporter": "python",
   "pygments_lexer": "ipython3",
   "version": "3.11.4"
  }
 },
 "nbformat": 4,
 "nbformat_minor": 5
}
