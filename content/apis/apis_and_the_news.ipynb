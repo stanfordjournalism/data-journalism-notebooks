{
 "cells": [
  {
   "cell_type": "markdown",
   "id": "b1ea83a8",
   "metadata": {},
   "source": [
    "# APIs and the News\n",
    "\n",
    "> *An application programming interface (API) is an interface or communication protocol between different parts of a computer program intended to simplify the implementation and maintenance of software. An API may be for a web-based system, operating system, database system, computer hardware, or software library.* ~ [Wikipedia](https://en.wikipedia.org/wiki/Application_programming_interface)\n",
    "\n",
    "Put simply, an API provides a way for machines to \"speak\" to each other. Unlike humans, machines do not fare well with ambiguity. APIs allow machines to communicate in a clear, standardized way.\n",
    "\n",
    "Below is an example of a software API provided by the Python [requests](https://requests.readthedocs.io/en/latest/) library. \n",
    "\n",
    "The [requests.get](https://requests.readthedocs.io/en/latest/user/quickstart/#make-a-request) function is an API that allows other code (and of course the human writing the code) to easily obtain a file on the Web by supplying a URL."
   ]
  },
  {
   "cell_type": "code",
   "execution_count": null,
   "id": "c913b7bb",
   "metadata": {},
   "outputs": [],
   "source": [
    "import requests\n",
    "requests.get(\"http://example.com\")"
   ]
  },
  {
   "cell_type": "markdown",
   "id": "23f44114",
   "metadata": {},
   "source": [
    "These days, we most often hear about APIs in a web context. [Government](https://www.data.gov/developers/apis) [agencies](http://datasf.org/opendata/developers/), [social](https://developers.facebook.com/docs) [media](https://developers.facebook.com/docs/instagram-basic-display-api/) [sites](https://developers.tiktok.com/), [corporations](https://www.lyft.com/business/resources/ebooks/the-abcs-of-lyfts-api), [news](https://www.propublica.org/datastore/apis) [organizations](https://developer.nytimes.com/docs/articlesearch-product/1/overview) and countless others provide APIs for working with their data and platforms.\n",
    "\n",
    "Web APIs require machines to exchange information over the Internet. These APIs allow us to [\"like\" a Tweet](https://developer.twitter.com/en/docs/twitter-api/v1/tweets/post-and-engage/api-reference/post-favorites-create), [stash data in the cloud](https://docs.aws.amazon.com/AmazonS3/latest/API/Welcome.html), and download [campaign finance information](https://api.open.fec.gov/developers) for a presidential campaign.\n",
    "\n",
    "APIs are an invaluable resource for newsrooms. These [slides](https://tinyurl.com/apis-and-the-news) offer some more background on APIs and their relevance to journalism.\n",
    "\n",
    "<a href=\"hhttps://tinyurl.com/apis-and-the-news\"><img src=\"../files/apis_and_news.png\" alt=\"apis and news first slide\" height=\"350\" width=\"350\"></a>"
   ]
  }
 ],
 "metadata": {
  "kernelspec": {
   "display_name": "Python 3 (ipykernel)",
   "language": "python",
   "name": "python3"
  },
  "language_info": {
   "codemirror_mode": {
    "name": "ipython",
    "version": 3
   },
   "file_extension": ".py",
   "mimetype": "text/x-python",
   "name": "python",
   "nbconvert_exporter": "python",
   "pygments_lexer": "ipython3",
   "version": "3.11.4"
  }
 },
 "nbformat": 4,
 "nbformat_minor": 5
}
