{
 "cells": [
  {
   "cell_type": "markdown",
   "id": "87f40e15",
   "metadata": {},
   "source": [
    "# Build Your Own Quakebot\n",
    "\n",
    "For this exercise, let's create our own basic [Quakebot](https://www.latimes.com/people/quakebot).\n",
    "\n",
    "## Preliminary study\n",
    "\n",
    "You'll need a combination of skills to complete this exercise:\n",
    "\n",
    "* How to [request remote data](../python_remote_files.ipynb) using the `requests` library\n",
    "* How to convert a timestamp (*see bottom of this page*)\n",
    "* An understanding of how to [work with JSON data](https://realpython.com/python-json/)\n",
    "* How to create a story template using [\"f-strings\"](https://docs.python.org/3/tutorial/inputoutput.html#formatted-string-literals)\n",
    "\n",
    "## Coding\n",
    "\n",
    "Your mission:\n",
    "\n",
    "- Use the `requests` library to ingest the \"All earthquakes\" feed for\n",
    "the past hour from the [USGS](https://earthquake.usgs.gov/earthquakes/feed/v1.0/atom.php). The feed you want to use is ` https://earthquake.usgs.gov/earthquakes/feed/v1.0/summary/all_hour.geojson`\n",
    "- Use Python `f` strings to write text that looks like the *Example output* below. You'll need to convert the timestamp to UTC along th way (see *Converting the quake timestamp* below for help on that front).\n",
    "\n",
    "**IMPORTANT**: Before proceeding with the code, examine the *Example output* below carefully. Your code will need to perform a variety of tasks in order to match the output. This includes:\n",
    "\n",
    "- Counting the number of quakes in the last hour\n",
    "- Plucking the relevant data points to generate lines beginning with `- Magnitude..`\n",
    "\n",
    "### Example output\n",
    "\n",
    "> Your data values will vary as this feed updates frequently.\n",
    "\n",
    "```\n",
    "There were 6 earthquakes in the last hour:\n",
    "- Magnitude 2.00999999 4 km S of Pāhala, Hawaii at 2021-02-01 20:16:02 UTC\n",
    "- Magnitude 1.07 17km E of Ocotillo, CA at 2021-02-01 20:03:18 UTC\n",
    "- Magnitude 2.83 4 km W of Lucien, Oklahoma at 2021-02-01 19:49:10 UTC\n",
    "- Magnitude 1.94000006 8 km ENE of Pāhala, Hawaii at 2021-02-01 19:47:54 UTC\n",
    "- Magnitude 0.82 13km N of Borrego Springs, CA at 2021-02-01 19:42:53 UTC\n",
    "- Magnitude 1.8 8 km WNW of Houston, Alaska at 2021-02-01 19:37:00 UTC\n",
    "```"
   ]
  },
  {
   "cell_type": "code",
   "execution_count": 1,
   "id": "d499d823",
   "metadata": {},
   "outputs": [],
   "source": [
    "# Here's some scratch space for you to work"
   ]
  },
  {
   "cell_type": "markdown",
   "id": "399109fb",
   "metadata": {},
   "source": [
    "### Converting the quake timestamp\n",
    "\n",
    "The USGS provides the time of quakes in what's known as [epoch time](https://en.wikipedia.org/wiki/Epoch_(computing)), typically\n",
    "the number of *seconds* since the beginning of the year 1970. The USGS time is actually in milliseconds since 1970, so you'll need to \n",
    "divide the time by 1000 and then investigate the [utcfromtimestamp](https://docs.python.org/3/library/datetime.html#datetime.datetime.utcfromtimestamp) method in the datetime module to convert the time.\n",
    "\n",
    "\n",
    "[USGS]: https://earthquake.usgs.gov/earthquakes/feed/v1.0/geojson.php\n",
    "[Quakebot]: https://slate.com/technology/2014/03/quakebot-los-angeles-times-robot-journalist-writes-article-on-la-earthquake.html"
   ]
  }
 ],
 "metadata": {
  "kernelspec": {
   "display_name": "Python 3 (ipykernel)",
   "language": "python",
   "name": "python3"
  },
  "language_info": {
   "codemirror_mode": {
    "name": "ipython",
    "version": 3
   },
   "file_extension": ".py",
   "mimetype": "text/x-python",
   "name": "python",
   "nbconvert_exporter": "python",
   "pygments_lexer": "ipython3",
   "version": "3.11.4"
  }
 },
 "nbformat": 4,
 "nbformat_minor": 5
}
