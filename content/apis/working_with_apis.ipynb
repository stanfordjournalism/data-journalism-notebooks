{
 "cells": [
  {
   "cell_type": "markdown",
   "id": "537bb9bf",
   "metadata": {},
   "source": [
    "# Working with APIs\n",
    "\n",
    "## Overview\n",
    "\n",
    "Working with [APIs](apis_and_the_news.ipynb) can be tricky. They typically require some form of authentication (e.g. an API key) and provide numerous URL-based resources -- commonly called [endpoints][] -- for different types of data.\n",
    "\n",
    "[endpoints]:https://en.wikipedia.org/wiki/Web_API#Endpoints\n",
    "\n",
    "The [OpenCorporates API](https://api.opencorporates.com/), which provides data on companies registered all over the world, is a good example. \n",
    "\n",
    "Its [company search endpoint](https://api.opencorporates.com/documentation/API-Reference#get-companies/search) returns a list of companies:\n",
    "\n",
    "> https://api.opencorporates.com/v0.4/companies/search?q=trump+organization\n",
    "\n",
    "Whereas the [company detail endpoint](https://api.opencorporates.com/documentation/API-Reference#get-companies/:jurisdiction_code/:company_number) provides a bit more information on each entity such as officers and number of employees:\n",
    "\n",
    "> https://api.opencorporates.com/companies/us_ny/694908\n",
    "\n",
    "Below, we'll work through an example using OpenCorporates data to get familiar with the process of using APIs. OpenCorporates is a great service and provides data free for public journalism projects. If you plan to use their data for a private or commercial project, please make sure you obey their [terms of use](https://opencorporates.com/terms-of-use/).\n",
    "\n",
    "\n",
    "## Leveling up on an API\n",
    "\n",
    "Before we can start using an API, we typically have to spend some time getting acquainted with its offerings and requirements. \n",
    "\n",
    "Below are some strategies for leveling up on an API:\n",
    "\n",
    "* Read the docs thoroughly.\n",
    "* Identify API [endpoints][] of interest (i.e. ones that address the story or topic you're exploring).\n",
    "* API providers sometimes offer example API calls that you can try in a browser. Other providers even offer an interactive console in the browser for experimenting. Try kicking the tires by customizing example API calls.\n",
    "* JSON and XML data can be brutal to read. Use a Web browser (or [browser plugin](https://chrome.google.com/webstore/detail/json-formatter/bcjindcccaagfpapjjmafapmmgkkhgoa?hl=en)) that formats the data for readability and lets you expand/collapse nested data.\n",
    "* Experiment in the interactive Python shell. Make an API call to fetch some data. Then [introspect](https://en.wikipedia.org/wiki/Type_introspection) the data using the [type function][] and [list](https://docs.python.org/3.8/tutorial/datastructures.html#more-on-lists) and [dictionary](https://docs.python.org/3.8/tutorial/datastructures.html#dictionaries) methods such as `.keys()`.\n",
    "* Look for Python “[client](https://github.com/datamade/census)” libraries that ease use of the API.\n",
    "\n",
    "[type function]: https://www.w3schools.com/python/ref_func_type.asp\n",
    "\n",
    "## Trump Organization example\n",
    "\n",
    "Let's try out some of the techniques mentioned above using OpenCorporates data on [The Trump Organization, Inc.](https://opencorporates.com/companies/us_ny/694908).\n",
    "\n",
    "> Note, you must install `requests` before running the below code.\n",
    "\n",
    "First let's grab the data. Note that below, we use the `response.json()` method to automatically transform the JSON string to a Python data structure. The `requests` library provides this as a handy feature because it's so often used to request JSON. Farther down, we'll also see how to use Python's built-in [json library][] to write data to a file. \n",
    "\n",
    "[json library]: https://docs.python.org/3/library/json.html"
   ]
  },
  {
   "cell_type": "code",
   "execution_count": null,
   "id": "4899f1f9",
   "metadata": {},
   "outputs": [],
   "source": [
    "import requests\n",
    "url = \"https://api.opencorporates.com/companies/us_ny/694908\"\n",
    "response = requests.get(url)\n",
    "data = response.json()"
   ]
  },
  {
   "cell_type": "markdown",
   "id": "a1a6812a",
   "metadata": {},
   "source": [
    "Now let's poke around the data to get a sense of its structure. We'll use the [type function][] to determine if a given layer of this nested data structure is a list or dictionary (these are the typical data structures used in JSON to organize data).\n",
    "\n",
    "That information will give us a sense of what types of Python functionality are available to us. For example, a list will require grabbing items by index; a dictionary will require looking up items using keys."
   ]
  },
  {
   "cell_type": "code",
   "execution_count": null,
   "id": "79287e88-8f08-4336-a42d-de4015f8ffe0",
   "metadata": {},
   "outputs": [],
   "source": [
    "type(data)"
   ]
  },
  {
   "cell_type": "code",
   "execution_count": null,
   "id": "b2082bd9-4c98-4ea1-971c-d5ea85cd04fc",
   "metadata": {},
   "outputs": [],
   "source": [
    "data.keys()"
   ]
  },
  {
   "cell_type": "code",
   "execution_count": null,
   "id": "b0938443-6bfd-4205-9c4a-bad9ec54d4e7",
   "metadata": {},
   "outputs": [],
   "source": [
    "# Let's poke around the 'results'\n",
    "type(data['results'])"
   ]
  },
  {
   "cell_type": "code",
   "execution_count": null,
   "id": "cb011f6a-79aa-45d9-8b3f-c5538cfd9f94",
   "metadata": {},
   "outputs": [],
   "source": [
    "# Yet another dictionary, but with only \n",
    "# a single key so our path forward is clear.\n",
    "data['results'].keys()"
   ]
  },
  {
   "cell_type": "code",
   "execution_count": null,
   "id": "0a567c17-c7c0-4e40-9484-6c3b375dceef",
   "metadata": {},
   "outputs": [],
   "source": [
    "# Now we're in business\n",
    "type(data['results']['company'])"
   ]
  },
  {
   "cell_type": "code",
   "execution_count": null,
   "id": "b9f0c39a",
   "metadata": {},
   "outputs": [],
   "source": [
    "data['results']['company'].keys()"
   ]
  },
  {
   "cell_type": "markdown",
   "id": "5020bc2d",
   "metadata": {},
   "source": [
    "So we clearly have to dig down a ways through some nested dictionaries before arriving at our target data. Here's a sample of what that data looks like. Note we've cleaned up the output using the `pprint` function."
   ]
  },
  {
   "cell_type": "code",
   "execution_count": null,
   "id": "7f3f1a41",
   "metadata": {},
   "outputs": [],
   "source": [
    "from pprint import pprint\n",
    "pprint(data['results']['company'])"
   ]
  },
  {
   "cell_type": "markdown",
   "id": "072423ff",
   "metadata": {},
   "source": [
    "Note that above, the `corporate_groupings` key is a list of dictionaries. We'd access these using list index lookups (or simply by looping through them)."
   ]
  },
  {
   "cell_type": "code",
   "execution_count": null,
   "id": "c4c22ccd",
   "metadata": {},
   "outputs": [],
   "source": [
    "pprint(data['results']['company']['corporate_groupings'][0])"
   ]
  },
  {
   "cell_type": "markdown",
   "id": "02877e93",
   "metadata": {},
   "source": [
    "Finally, let's say we wanted to save all this data to a local file. We can easily do this using the [json library][]."
   ]
  },
  {
   "cell_type": "code",
   "execution_count": null,
   "id": "570d9a38",
   "metadata": {},
   "outputs": [],
   "source": [
    "# Import json library and use \"indent=4\" to \n",
    "# nicely format the output\n",
    "import json\n",
    "with open('trump_org_inc.json', 'w') as outfile:\n",
    "    json.dump(data, outfile, indent=4)  "
   ]
  },
  {
   "cell_type": "markdown",
   "id": "6e96b7f4",
   "metadata": {},
   "source": [
    "## Trump entities exercise\n",
    "\n",
    "Now it's your turn to give it a try. Let's say we want to generate a CSV containing a list of all the corporate entities associated with Donald Trump. OpenCorporates provides a [CorporateGroupings endpoint](https://api.opencorporates.com/documentation/API-Reference#get-corporate_groupings/:name) that lets us do just that.\n",
    "\n",
    "Here is the endpoint you'll need.\n",
    "\n",
    "> https://api.opencorporates.com/v0.4/corporate_groupings/Donald+Trump\n",
    "\n",
    "Try writing the code to:\n",
    "\n",
    "* Request the data\n",
    "* Transform the returned JSON from a string to native Python data structures\n",
    "* Save the JSON to a local file called `trump_entities.json`. Make sure the data is nicely formatted using `indent=4`\n",
    "* Generate a CSV called `trump_entities.csv` that contains the below fields. You'll need to dig these out of the `membership` dictionary inside of each item inside of `memberships`):\n",
    "  * `name`\n",
    "  * `jurisdiction_code`\n",
    "  * `company_number`\n",
    "  * `opencorporates_url`"
   ]
  }
 ],
 "metadata": {
  "kernelspec": {
   "display_name": "Python 3 (ipykernel)",
   "language": "python",
   "name": "python3"
  },
  "language_info": {
   "codemirror_mode": {
    "name": "ipython",
    "version": 3
   },
   "file_extension": ".py",
   "mimetype": "text/x-python",
   "name": "python",
   "nbconvert_exporter": "python",
   "pygments_lexer": "ipython3",
   "version": "3.11.4"
  }
 },
 "nbformat": 4,
 "nbformat_minor": 5
}
