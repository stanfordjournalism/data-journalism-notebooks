{
  "metadata": {
    "kernelspec": {
      "name": "python",
      "display_name": "Python (Pyodide)",
      "language": "python"
    },
    "language_info": {
      "codemirror_mode": {
        "name": "python",
        "version": 3
      },
      "file_extension": ".py",
      "mimetype": "text/x-python",
      "name": "python",
      "nbconvert_exporter": "python",
      "pygments_lexer": "ipython3",
      "version": "3.8"
    }
  },
  "nbformat_minor": 5,
  "nbformat": 4,
  "cells": [
    {
      "cell_type": "markdown",
      "source": "# The Art of Writing Functions\n\n\n```python\ndef do_stuff():\n    print(\"Totally doing stuff\")\n```\n\n## What *is* a function and why the heck do we need them?\n\nAs you gain experience with code, your scripts (or notebook cells) will invariably grow larger. Programs will balloon from a few dozen lines of code to hundreds or thousands. As code expands in size, so too does the complexity and mental burden of making sense of all those fancy lines of Python syntax.\n\nFunctions are a first line of defense against that complexity. They're an invaluable tool that helps us write **readable**, **reliable** and **reusable** code.\n\nFunctions help decompose a large coding problem into smaller, more manageable chunks. They help you reason more clearly about each step in a program. Even if you rarely create your own functions, it's important to understand the basics of this Python feature since you'll frequently be using functions built into Python and from third-party libraries in your own code.\n\n## Magic little bags\n\nBut what exactly *are* functions? \n\nIt's a bit silly, but it can be helpful to think of them as magic little bags (yes, ✨MAGIC✨). \n\nYou can put stuff into them and, quite often, you'll get some useful thing back out of them.\n\nYou've already encountered several functions built into Python itself. The [print](https://docs.python.org/3/library/functions.html#print) function, for example, allows you to print one or more values and can be incredibly helpful with debugging code.",
      "metadata": {},
      "id": "e99ba3df"
    },
    {
      "cell_type": "code",
      "source": "print(\"thing 1\")",
      "metadata": {},
      "execution_count": null,
      "outputs": [],
      "id": "ef563140-a5da-4ab2-b1e1-99bfd80eda8c"
    },
    {
      "cell_type": "code",
      "source": "print(\"thing 1\", \"thing 2\")",
      "metadata": {},
      "execution_count": null,
      "outputs": [],
      "id": "e6b004c1-4b74-45b6-91a4-6a8597a0ac37"
    },
    {
      "cell_type": "markdown",
      "source": "You've also seen the handy [len](https://docs.python.org/3/library/functions.html#len) function, which counts the number of items in sequences such as strings or lists.",
      "metadata": {},
      "id": "f7caf89d-d6dd-4d32-83d0-7c7ffb1f5a15"
    },
    {
      "cell_type": "code",
      "source": "len(\"How many characters is this?\")",
      "metadata": {},
      "execution_count": null,
      "outputs": [],
      "id": "835156cc-90c6-4a97-9cb0-514b31f4c207"
    },
    {
      "cell_type": "code",
      "source": "first_list = [1,2]\nsecond_list = [1,2,3]\nlen(first_list) < len(second_list)",
      "metadata": {},
      "execution_count": null,
      "outputs": [],
      "id": "098254a8-3fbc-4178-ba70-a990b71f9740"
    },
    {
      "cell_type": "markdown",
      "source": "## Bring your own functions to the party\n\nBut you're not limited to functions that ship with Python. You can also define your own functions using the [def](https://docs.python.org/3/reference/lexical_analysis.html#keywords) keyword:",
      "metadata": {},
      "id": "3db7afe8-681d-4796-bbef-b6d17a6cbb7a"
    },
    {
      "cell_type": "code",
      "source": "def hello():\n    print(\"Howdy!\")",
      "metadata": {},
      "execution_count": null,
      "outputs": [],
      "id": "e862febf-5632-4f69-87cb-726d8b7eea42"
    },
    {
      "cell_type": "markdown",
      "source": "A few important things to note about the (admittedly not-so-useful) function above:\n\n1. The `def` keyword is used to say \"Hey Python, I'm defining a function\"\n1. After `def` comes the **name** of the function\n1. The function name is followed by a pair of parentheses (more on that later) and a colon (`:`), which signals to Python that the body of the function (ie the code that does stuff) will follow after that point, typically starting on the next line\n1. You can include any other Python code in the **body** of the function, which should be _indented 4 spaces_. In this case the body is simply `print(\"Howdy!\")`, but typically you can perform other useful actions in the body, including calling other functions!\n\nSimilar to Python's built-in functions, we \"invoke\" (aka call or execute) a function by referencing its name (`hello`) followed by parentheses `()`.",
      "metadata": {
        "tags": []
      },
      "id": "e122eec4-843d-4b9b-a01c-441414632e55"
    },
    {
      "cell_type": "code",
      "source": "hello()",
      "metadata": {},
      "execution_count": null,
      "outputs": [],
      "id": "0341cdfc-0335-4323-880a-9f9e45733c82"
    },
    {
      "cell_type": "markdown",
      "source": "## Function inputs\n\nFunctions become much more interesting when you begin sending strings, integers and other data types into them. To allow one or more items to be passed into a function, we must specify parameter names in the function definition.\n\nThese items then become available for use *inside the body of the function* using the parameter names. You can think of these parameters as a way of pre-defining variables for use in a function.\n\nLet's say we wanted to create a function that doubles a number.",
      "metadata": {},
      "id": "20a0aeec-7db3-4305-a264-9a97ace0031f"
    },
    {
      "cell_type": "code",
      "source": "def double(number):\n    print(number * 2)",
      "metadata": {},
      "execution_count": null,
      "outputs": [],
      "id": "0ba761fa-d5b8-40d0-b527-78019aaa549b"
    },
    {
      "cell_type": "markdown",
      "source": "Above, we specified the parameter `number` inside the parenthesis on the `def` line. The `print` statement can then make use of the number inside the body of the function. Go ahead and try calling `double` by passing it some integer as an argument.\n\n> NOTE: We use the term parameter when defining a function, and we say \"passing an argument\" when we call a function with some input value. See [Automate the Boring Stuff](https://automatetheboringstuff.com/2e/chapter3/#calibre_link-134) for an excellent overview of these terms.",
      "metadata": {},
      "id": "a632bd7e-5212-4784-a375-3209a6382d6b"
    },
    {
      "cell_type": "code",
      "source": "double(2)",
      "metadata": {},
      "execution_count": null,
      "outputs": [],
      "id": "9c3f8ff3-7dd4-4491-b8cf-bababf39af6c"
    },
    {
      "cell_type": "markdown",
      "source": "## Positional arguments\n\nOne parameter is good, but wouldn't it be handy if we could pass multiple arguments to a function? Well, you _can_ do that by simply specifying more than one parameter, each separated by a comma (`,`). \n\nLet's define a new function to demonstrate.",
      "metadata": {},
      "id": "5f3fa276-7a06-42b3-8eb0-043a01e82e30"
    },
    {
      "cell_type": "code",
      "source": "def repeat_shouty_greeting(greeting, times): # Note the comma separating the parameters\n    print(greeting.upper() * times)",
      "metadata": {},
      "execution_count": null,
      "outputs": [],
      "id": "8c227e0e-75e7-45fd-a56c-c7a75cc4e8c0"
    },
    {
      "cell_type": "markdown",
      "source": "Now let's use our handy new function.",
      "metadata": {},
      "id": "588cf8a8-cddd-42eb-ae5d-5ed8be2a55e9"
    },
    {
      "cell_type": "code",
      "source": "repeat_shouty_greeting('howdy', 4)",
      "metadata": {},
      "execution_count": null,
      "outputs": [],
      "id": "6139fb40-0684-4c55-ac52-94b6eeb0f5b1"
    },
    {
      "cell_type": "markdown",
      "source": "It's important to note that the *order of the arguments matters* -- which is why we call these positional parameters or arguments.\n\nTry calling the function again -- but this time switch the order of the arguments and watch what happens.",
      "metadata": {},
      "id": "63e22800-b062-44ce-a789-a0eaec649f14"
    },
    {
      "cell_type": "code",
      "source": "# ruhroh\nrepeat_shouty_greeting(4, 'howdy')",
      "metadata": {},
      "execution_count": null,
      "outputs": [],
      "id": "c0019247-fdee-4cfa-985f-7af738ac9d9d"
    },
    {
      "cell_type": "markdown",
      "source": "## Keyword arguments\n\nAs functions grow in size, often the list of inputs we're passing into them can grow unwieldy and hard to manage. Further, we may want the flexibility of providing a default value for certain parameters. By using so-called _keyword arguments_, we give ourselves the ability to call a function with the parameters in any order we want, and even set default values so we don't have to pass in all the arguments.\n\nLet's demonstrate by reworking our greeting function to use keyword arguments.\n\nNotice that the syntax is very similar to defining a variable (`name=value`), with each parameter separated by a comma.",
      "metadata": {},
      "id": "97b7048e-220f-4c63-98b1-0c7bef6e8954"
    },
    {
      "cell_type": "code",
      "source": "def repeat_shouty_greeting(greeting='howdy', times=4):\n    print(greeting.upper() * times)",
      "metadata": {},
      "execution_count": null,
      "outputs": [],
      "id": "21b684eb-ea38-47d1-a4b3-cdac40ee90ef"
    },
    {
      "cell_type": "markdown",
      "source": "Now we can call the function without any arguments, which causes the default values to be used.",
      "metadata": {},
      "id": "f293c2b1-c475-4f74-ba1c-3b068cbfb0c0"
    },
    {
      "cell_type": "code",
      "source": "repeat_shouty_greeting()",
      "metadata": {},
      "execution_count": null,
      "outputs": [],
      "id": "f9be890f-80f3-4685-b9dd-c81cc7b648c4"
    },
    {
      "cell_type": "markdown",
      "source": "Or we can customize the greeting...",
      "metadata": {},
      "id": "24ade9ab-fe29-499e-a0c7-8dc8f3f8df73"
    },
    {
      "cell_type": "code",
      "source": "repeat_shouty_greeting(greeting='Hello') # We get the default repetition of 4 times",
      "metadata": {},
      "execution_count": null,
      "outputs": [],
      "id": "4e58cab0-58b4-4e98-b21e-c36acef51075"
    },
    {
      "cell_type": "markdown",
      "source": "Or specify the number of times to repeat the greeting...",
      "metadata": {},
      "id": "0b9c548f-c1c7-4ce7-a4c8-f735a1927b53"
    },
    {
      "cell_type": "code",
      "source": "repeat_shouty_greeting(times=2) # We get the default greeting",
      "metadata": {},
      "execution_count": null,
      "outputs": [],
      "id": "1db43c9d-0043-4325-b336-bd99efde9559"
    },
    {
      "cell_type": "markdown",
      "source": "Or we can customize both!",
      "metadata": {},
      "id": "10263a00-7eac-4e7d-bbc3-733307cd4c48"
    },
    {
      "cell_type": "code",
      "source": "repeat_shouty_greeting(times=10, greeting='hola') # And the order of arguments doesn't matter",
      "metadata": {},
      "execution_count": null,
      "outputs": [],
      "id": "bb952b7b-0936-4b15-8753-56922c37ecc9"
    },
    {
      "cell_type": "markdown",
      "source": "## Positional and Keyword args\n\nIt's quite common to see functions that take both positional and keyword arguments. The former are typically used to specify \"required\" parameters -- ie items that must be passed into the function, without which the function could not do its work -- while the latter are often used for optional arguments, often with sensible defaults.\n\nLet's create one final greeting function to illustrate. We'll make this version much more sensible -- ie non-shouty and non-repeating -- but will give our users the abilithy to jazz things up with optional keyword arguments.\n\n> Note that in this version, we require the user to supply a greeting rather than offering a default.",
      "metadata": {},
      "id": "46636c91-0a0f-4fb6-b4ec-9aeec9318e8d"
    },
    {
      "cell_type": "code",
      "source": "def greet(greeting, repeat=1, shouty=False):\n    greeting_multiplied = greeting * repeat\n    if shouty:\n        final_greeting = greeting_multiplied.upper()\n    else:\n        final_greeting = greeting_multiplied\n    print(final_greeting)",
      "metadata": {},
      "execution_count": null,
      "outputs": [],
      "id": "f319f1ba-d153-428f-a141-766928043098"
    },
    {
      "cell_type": "markdown",
      "source": "Let's take `greet` out for a spin.",
      "metadata": {},
      "id": "1b37af2b-e41c-4222-9599-8568ec1cdd16"
    },
    {
      "cell_type": "code",
      "source": "greet('howdy')",
      "metadata": {},
      "execution_count": null,
      "outputs": [],
      "id": "705ae2bb-f636-4c39-a59f-9f0f4a492dfb"
    },
    {
      "cell_type": "markdown",
      "source": "Now let's have some fun with it. Try tinkering with the positional and keyword arguments below to get a feel for things.",
      "metadata": {},
      "id": "6d36c539-ff49-414e-ac1b-29d256576b48"
    },
    {
      "cell_type": "code",
      "source": "greet('howdy', repeat=2)",
      "metadata": {},
      "execution_count": null,
      "outputs": [],
      "id": "f5b8293e-5641-44a6-8dcf-d607b75451e7"
    },
    {
      "cell_type": "code",
      "source": "greet('hola', repeat=4, shouty=True)",
      "metadata": {},
      "execution_count": null,
      "outputs": [],
      "id": "b16169e8-c5ef-416d-88d1-8a077986ea32"
    },
    {
      "cell_type": "markdown",
      "source": "> One final but important note: Positional arguments must always come *before* keyword arguments!",
      "metadata": {},
      "id": "5d1c090e-d04e-4e17-88f3-ad4645eefcaa"
    },
    {
      "cell_type": "markdown",
      "source": "## Return values \n\nPrinting values is fun, but it's not the most useful in the broader context of a script or notebook. The true power of functions come into play when you explicitly return values from them. These so-called [return values](https://realpython.com/python-return-statement/) are typically the final product of some series of coding steps.\n\nAnd often, these steps are bits of code you typically would have to use in multiple places. By bundling them up into a single function, you can write fewer lines of code and isolate the changes to one location. That way if something goes wrong with the code, you only have to fix it in one location.\n\nThat's what we mean when we say functions allow you to write more _readable, reliable, and reusable_ code.\n\nIn terms of syntax, to send data or, in Python lingo, objects back out of a function, you simply use the `return` statement. For example, `return some_variable`.\n\nLet's try an example. Imagine you're trying to match a list of cities to their population counts, but the list of cities is suffering from common data entry mistakes such as inconsistent casing and extraneous whitespace. ",
      "metadata": {},
      "id": "d438ecae-ad8b-480b-9a62-56dc5d233d44"
    },
    {
      "cell_type": "code",
      "source": "cities = [\n    'San francisco', # casing issue\n    'new York',  # casing issue\n    '  houston ' # Note the leading/trailing whitespace\n]\n\ncity_pops = {\n    'Houston': 2288000,\n    'New York': 8468000,\n    'San Francisco': 815000\n}",
      "metadata": {},
      "execution_count": null,
      "outputs": [],
      "id": "7f8b42f2-5cc8-4364-ae6f-9ef20d03e51d"
    },
    {
      "cell_type": "markdown",
      "source": "You could write a simple function to:\n\n- clean the data\n- perform the lookup\n- and return the population",
      "metadata": {},
      "id": "3868d599-b23c-4131-a077-f6b78025bfa6"
    },
    {
      "cell_type": "code",
      "source": "# Note we're passing in the city name and the dictionary of pops\ndef pop_for_city(city, pop_dict):\n    # Standardize the city name\n    city_clean = city.strip().title()\n    # lookup the city population\n    pop = pop_dict[city_clean]\n    # Return the population number for the city\n    return pop",
      "metadata": {},
      "execution_count": null,
      "outputs": [],
      "id": "c8f363be-1908-4212-a1d0-f1d589ff2d22"
    },
    {
      "cell_type": "markdown",
      "source": "Now we can use that function to get the population for each of our cities.",
      "metadata": {},
      "id": "9a360123-92fc-4601-b613-278cc37cf784"
    },
    {
      "cell_type": "code",
      "source": "for city in cities:\n    pop = pop_for_city(city, city_pops)\n    print(f\"The population of {city} is {pop}\")",
      "metadata": {},
      "execution_count": null,
      "outputs": [],
      "id": "a3312966-0790-44ea-9d9e-7adee743a625"
    },
    {
      "cell_type": "markdown",
      "source": "That worked, but wouldn't it be nice if we could also get the cleaned up city name from our function? Well, you _can_ by simply returning more than one item in the form of a list.",
      "metadata": {},
      "id": "f98438d7-5d22-4846-a824-1d2bef31e952"
    },
    {
      "cell_type": "code",
      "source": "def pop_for_city(city, pop_dict):\n    city_clean = city.strip().title()\n    pop = pop_dict[city_clean]\n    # Return both the clean name and the population\n    return [city_clean, pop]",
      "metadata": {},
      "execution_count": null,
      "outputs": [],
      "id": "50650857-d5f3-41fb-8c51-f5ead6d48be7"
    },
    {
      "cell_type": "markdown",
      "source": "Since our return value is now a list, we can access each item in the list using the index position of each value. ",
      "metadata": {},
      "id": "e9cb9233-e771-4263-969e-f5cabced9d34"
    },
    {
      "cell_type": "code",
      "source": "for city in cities:\n    results = pop_for_city(city, city_pops)\n    print(f\"The population of {results[0]} is {results[1]}\")",
      "metadata": {},
      "execution_count": null,
      "outputs": [],
      "id": "c33abc9c-5ecc-4ae5-860a-39a8bbeb8a4a"
    },
    {
      "cell_type": "markdown",
      "source": "Ultimately, a function can return any type of valid Python object -- strings, integers, floats, lists, dicts, classes and even other functions.\n\nAnd one last tidbit -- functions *always* return some value, even if you don't explicitly use `return`.\n\nCan you figure out what that \"implicit\" or default return value is?\n\n> HINT: It's not the string `blerf`",
      "metadata": {},
      "id": "5d4f0657-bb2f-4f5e-ba66-19be88d9251e"
    },
    {
      "cell_type": "code",
      "source": "def not_so_useful():\n    print('blerf')\n    \nmy_var = not_so_useful()",
      "metadata": {},
      "execution_count": null,
      "outputs": [],
      "id": "51480945-cbd1-4bbb-8dfb-acf3f17dadeb"
    },
    {
      "cell_type": "markdown",
      "source": "## Naming things is hard",
      "metadata": {},
      "id": "2a04dc5d-4923-46ec-8154-6fed95fd29ad"
    },
    {
      "cell_type": "markdown",
      "source": "Naming functions can be hard. Try to be descriptive but concise. The intent of the function should be clear.\n\nAnd please, PLEASE use snake_case in Python :)\n\nHere are some functions that illustrate good habits:\n\n```python\ndef download_json():\n    # code that downloads JSON\n    # and saves it to local file\n    pass\n\ndef convert_json(json_file):\n    # code that reads JSON file\n    # and converts to a CSV\n    pass\n```\n\nFunctions should generally have clear inputs and outputs.\n\n```python\ndef convert_json(json_path):\n    # code to read local JSON fle\n    # and convert to list\n    rows = [\n        ['ca', 'san fran'],\n        ['ca', 'los angeles']\n    ]\n    return rows\n```\n\nHaving a hard time naming a function? It may be doing too much! Try breaking large functions into smaller functions. \n\n```python\n### BAD ###\n\ndef scrape_and_process_and_load():\n    # bunch of code to scrape a website,\n    # process the data, and load it\n    # into a database.\n    pass\n\t\n\t\n### BETTER ###\n\ndef scrape():\n    pass\n    \ndef process_data():\n    pass\n\t\ndef load_database():\n    pass\n```\n\nThis strategy of decomposing large functions mirrors the process of chopping up a large programming problem into smaller sub-problems. By creating smaller functions devoted to particular tasks, we can more easily reason through our problem in code.",
      "metadata": {},
      "id": "3128ab06-58e7-4e79-9991-e8396768ac6b"
    },
    {
      "cell_type": "markdown",
      "source": "## The main function\n\nIt's quite likely you'll end up with code that has a number of functions performing very specific tasks. You may even have functions calling other functions.\n\nAlthough we encourage using functions, orchestrating them can become a challenge. Even reading code with lots of functions can become difficult.\n\nWhen writing a script that contains lots of functions, it's wise to create a \"top-level\" [entry point](https://en.wikipedia.org/wiki/Entry_point) function that serves as a sort of maestro. Its job is to kick off the chain of action and orchestrate lower-level functions devoted to specific tasks.\n\nTraditionally, this high-level orchestrator is called `main`. It's defined in the same way as other Python functions and is really no different, except in its role.\n\n```python\n# Below, the main function calls a series of functions\n# defined elsewhere\ndef main():\n    download_json()\n    transform_json()\n    generate_csv()\n    \n# We call \"main\" at the end of our script or notebook cell,\n# which kicks off all the other functions\nmain()\n```\n\n## Exercise\n\nThe code below extracts and counts the words from the source code for a [very basic web page](http://example.com).\n\nSpend a few minutes reviewing the page's underlying HTML and the code below to get a sense of what it does.\n\nThen try rewriting the code to use multiple, clearly defined functions. \n\nIt can be helpful to print out the code (or use a whiteboard) to group related code into functions and give them clear names.\n\nAlong the way, think about what if any inputs and outputs each function should have. For example, does one function return a value that must be passed to another function?\n\nOnce you've defined the functions and their interplay, create a [`main`](#the-main-function) function to orchestrate the other functions. Remember, the job of `main` is to invoke these functions in the expected manner, handling inputs and outputs as needed.\n\nLastly, don't forget to call `main()` to kick things off.",
      "metadata": {},
      "id": "03fd5ff8"
    },
    {
      "cell_type": "code",
      "source": "import bs4\n\nwith open('files/data/example.html', 'r') as infile:\n    html = infile.read()\nsoup = bs4.BeautifulSoup(html, \"html.parser\")\nwords = []\nwords.extend(soup.find('h1').text.split())\nfor paragraph in soup.find_all('p'):\n    text = paragraph.text\n    para_words = text.replace('.',' ').replace('\\n', ' ').split()\n    words.extend(para_words)\n\nprint(\"There are {} words on example.com\".format(len(words)))",
      "metadata": {},
      "execution_count": null,
      "outputs": [],
      "id": "c7c03df8"
    },
    {
      "cell_type": "markdown",
      "source": "## Further reading\n\n* [W3Schools Python Functions](https://www.w3schools.com/python/python_functions.asp)\n* [Chapter 3 - Functions](https://automatetheboringstuff.com/2e/chapter3/) of *Automate the Boring Stuff*.",
      "metadata": {},
      "id": "41bb471b"
    }
  ]
}