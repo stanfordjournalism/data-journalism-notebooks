{
 "cells": [
  {
   "cell_type": "markdown",
   "id": "b2950dc1-2fe8-41c5-bdfe-417ae5f895b6",
   "metadata": {},
   "source": [
    "# Demystifying Dot Notation\n",
    "## AKA What *is* that \"dot\" thing all about?\n",
    "\n",
    "Early in your Python coding journey, you’ll begin encountering bits of code that use a dot (`.`).\n",
    "\n",
    "- [`requests.get`](https://requests.readthedocs.io/en/latest/user/quickstart/#make-a-request)\n",
    "- [`\"some string”.upper()`](https://docs.python.org/3/library/stdtypes.html#str.upper)\n",
    "- [`csv.DictWriter`](https://docs.python.org/3/library/csv.html#csv.DictReader)\n",
    "- [`import sys; print(sys.path)`](https://docs.python.org/3/library/sys.html#sys.path)\n",
    " \n",
    "You may even have the misfortune of running into snippets such as below, common in data analysis code using [pandas](https://pandas.pydata.org/):\n",
    "\n",
    "```\n",
    "# This is an example of \"method chaining\"\n",
    "dataframe.groupby(\"some_field”).size().rename(\"new_name\").reset_index()\n",
    "```\n",
    "\n",
    "Such code snippets use a `.` to access [functions](art_of_functions.ipynb), [methods](https://docs.python.org/3/tutorial/modules.html), [classes](https://docs.python.org/3/tutorial/classes.html) and variables inside of Python [objects](https://docs.python.org/3/glossary.html#term-object) such as classes and [modules](https://docs.python.org/3/tutorial/modules.html).\n",
    "\n",
    "It can all get quite confusing, especially if you're unfamiliar with terms such as _class_, _method_, _module_, _object_ - and the dastardly term of art: *method chaining*.\n",
    "\n",
    "This lesson aims to illustrate various scenarios where you'll encounter the *dot notation*, as it's formally known, and demystify some of these terms and the role the `.` plays in various contexts. \n",
    "\n",
    "Along the way, you'll get a brief primer on some of the more advanced features of Python, including *classes* and *Object-Oriented Programming (OOP)*.\n",
    "\n",
    "You don't have to memorize these techniques or even use them in your own code, but understanding them will dramatically improve your ability to read other people's code and make use of third-party [libraries](python_libraries.ipynb).\n",
    "\n",
    "### Lessons\n",
    "\n",
    "Here's the menu. Work through these resources sequentially if you're new to these concepts. Or jump into a particular topic if you just need a refresher.\n",
    "\n",
    "- [module.something](module_dot_something.ipynb)\n",
    "- [The Hidden Life of Objects](hidden_life_of_objects.ipynb) - Classes and OOP\n",
    "- [Elections OOP Coding Challenge](elections_oop_code_challenge.ipynb)\n",
    "- [Method chaining](method_chaining.ipynb)\n",
    "- [Why bother with classes and OOP at all?](why_bother.ipynb) - It's a fair question."
   ]
  },
  {
   "cell_type": "code",
   "execution_count": null,
   "id": "8dc1b005-9e77-45e8-847f-a2a688fb4147",
   "metadata": {},
   "outputs": [],
   "source": []
  }
 ],
 "metadata": {
  "kernelspec": {
   "display_name": "Python 3 (ipykernel)",
   "language": "python",
   "name": "python3"
  },
  "language_info": {
   "codemirror_mode": {
    "name": "ipython",
    "version": 3
   },
   "file_extension": ".py",
   "mimetype": "text/x-python",
   "name": "python",
   "nbconvert_exporter": "python",
   "pygments_lexer": "ipython3",
   "version": "3.11.4"
  }
 },
 "nbformat": 4,
 "nbformat_minor": 5
}
