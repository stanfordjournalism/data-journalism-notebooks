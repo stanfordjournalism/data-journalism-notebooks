{
 "cells": [
  {
   "cell_type": "markdown",
   "id": "766b1bf2-2e94-4b21-b918-a55eeea0fdc0",
   "metadata": {},
   "source": [
    "# The Hidden Life of Objects\n",
    "\n",
    "Like many programming languages, Python supports a style of coding known as [object-oriented programming](https://en.wikipedia.org/wiki/Object-oriented_programming), or **OOP**. \n",
    "\n",
    "This powerful coding paradigm allows you to combine data and code into objects.\n",
    "\n",
    "The mechanism for this blending of data and code is a [class](https://docs.python.org/3/tutorial/classes.html). We typically create classes to model some entity and its related attributes and behaviors.\n",
    "\n",
    "For example, we've included a fun little `Bird` class in the [awesome.py](awesome.py) module. To use this class, you simply call it using parentheses `()`, the same way that you would call a function."
   ]
  },
  {
   "cell_type": "code",
   "execution_count": 1,
   "id": "99b11ab8-a578-4b16-8d2c-81fbf0173161",
   "metadata": {},
   "outputs": [],
   "source": [
    "import awesome\n",
    "my_bird = awesome.Bird()"
   ]
  },
  {
   "cell_type": "markdown",
   "id": "e87a5be9-5e21-487b-90d3-3b02babef7fe",
   "metadata": {},
   "source": [
    "## Instances of a class\n",
    "\n",
    "Above, we created what is known as an _instance_ of the `Bird` class. Think of the class as a mold that can be used to create many individual *instances* of birds. Each one is its own special snowflake.\n",
    "\n",
    "Once \"instantiated\", you can access the data and code related to your bird instance using the `.` notation:"
   ]
  },
  {
   "cell_type": "code",
   "execution_count": 3,
   "id": "417f4554-4834-442b-b54e-4b8ce04a8992",
   "metadata": {},
   "outputs": [
    {
     "data": {
      "text/plain": [
       "'Robin'"
      ]
     },
     "execution_count": 3,
     "metadata": {},
     "output_type": "execute_result"
    }
   ],
   "source": [
    "my_bird.name # print the default name for the bird"
   ]
  },
  {
   "cell_type": "code",
   "execution_count": 4,
   "id": "303303ef-e049-443b-adba-55f7d67980d5",
   "metadata": {},
   "outputs": [
    {
     "name": "stdout",
     "output_type": "stream",
     "text": [
      "I'm flying!! WEEE!!!\n"
     ]
    }
   ],
   "source": [
    "my_bird.fly() # call the bird's fly \"method\""
   ]
  },
  {
   "cell_type": "code",
   "execution_count": 5,
   "id": "69e8477b-60ef-4f11-8313-1b6707106e94",
   "metadata": {},
   "outputs": [
    {
     "name": "stdout",
     "output_type": "stream",
     "text": [
      "I'm eating a worm! YUM\n"
     ]
    }
   ],
   "source": [
    "my_bird.eat_worm() # your bird is hungry"
   ]
  },
  {
   "cell_type": "markdown",
   "id": "556f38b0-9dd9-42a4-88ba-c85ca24ad0ea",
   "metadata": {
    "tags": []
   },
   "source": [
    "## Attributes (aka variables)\n",
    "\n",
    "Above, `my_bird.name` resembles a plain-old *Python variable*. It simply stores a bit of data - in this case the default `name` of `Robin`-- associated with this particular instance of the `Bird` class.\n",
    "\n",
    "> Data stored on a class instance is referred to formally as an [instance attribute](https://docs.python.org/3/tutorial/classes.html#class-and-instance-variables).\n",
    "\n",
    "And we now know that can we access data on an instance using the `.` notation.\n",
    "\n",
    "## Methods (aka functions)\n",
    "\n",
    "> If you're shaky on Python functions, check out the [Art of Functions](../art_of_functions.ipynb) before moving forward.\n",
    "\n",
    "What about the `my_bird.fly()` and `my_bird.eat_worm()` snippets? Did they look and behave suspiciously similar to standard Python functions?\n",
    "\n",
    "That's because they *are* functions, with an extra ingredient (see section on `self` below) that links them to a particular instance of a class.\n",
    "\n",
    "Let's take a closer look at the `Bird` class. You'll notice that `fly` and `eat_worm` do in fact look exactly like a function.\n",
    "\n",
    "For example, here is the code for `fly`:\n",
    "\n",
    "```python\n",
    "def fly(self): # <- Wait, what heck is this \"self\" thing all about?!? Read on...\n",
    "    print(\"I'm flying!! WEEE!!!\")\n",
    "```\n",
    "\n",
    "## Always refer to your \"self\"\n",
    "\n",
    "The `fly` method looks, feels and acts like a function because it basically is a function. However, when a function lives inside of a class, we call it a **method**.\n",
    "\n",
    "The strange and often confusing nuance about methods is the use of the `self` argument. `self` is always required as the first argument on methods, and is assumed to be present by Python's class/OOP mechanisms.\n",
    "\n",
    "If you forget to include `self` as the first argument to your method, Python will raise an error.\n",
    "\n",
    "> You could in theory name `self` something else (e.g. `this`, `that` or `owl`). But the use of `self` is a universal convention. If you use a different name, be prepared for Pythonistas to come after you with pitchforks.\n",
    "\n",
    "`self` is required as the first argument in a method because it gives Python a way to link methods with *a particular instance of the class*, and all the bits of data that are associated with that instance. In this way, when you call a method on an instance, Python knows which bundle of data to operate on.\n",
    "\n",
    "This point may not be obvious in the case of the `fly` method, which is quite simple. Below we'll look at a different method on the `Bird` class that helps clarify why we need the `self` argument.\n",
    "\n",
    "## The widget factory\n",
    "\n",
    "It can be helpful to think of classes as the molds in a widget factory, used to stamp out new widgets on the assembly line.\n",
    "\n",
    "Understanding `self` in the abstract can be challenging so let's dive into a concrete example: the `Bird.change_name` method. \n",
    "\n",
    "Here is the code for that method:\n",
    "\n",
    "```python\n",
    "def change_name(self, new_name):\n",
    "    # Set the new name on the *instance* using \"self\"\n",
    "    self.name = new_name\n",
    "    print(f'My name is now {self.name}')\n",
    "```\n",
    "\n",
    "This method allows you to change the name of a specific bird by replacing the default name (`Robin`) that was set when we created the instance.\n",
    "\n",
    "> **IMPORTANT**: You don't ever need to actually supply a value for `self` when calling the method. Python does this auto-magically behind the scenes. When calling the method, you can ignore `self` and assume Python will do the right thing. You only need to supply any other required arguments in the expected order."
   ]
  },
  {
   "cell_type": "code",
   "execution_count": 8,
   "id": "bcba5f3d-b807-4b41-ba4d-ccfc503f4143",
   "metadata": {},
   "outputs": [
    {
     "name": "stdout",
     "output_type": "stream",
     "text": [
      "My name is now Debbie\n"
     ]
    }
   ],
   "source": [
    "my_bird.change_name('Debbie')"
   ]
  },
  {
   "cell_type": "markdown",
   "id": "5900edaf-7933-4b56-bde8-95fea8b38cb7",
   "metadata": {},
   "source": [
    "You can verify the name is different by directly accessing the `name` attribute:"
   ]
  },
  {
   "cell_type": "code",
   "execution_count": 9,
   "id": "c98c93b1-b645-4428-b1c1-884e1beb5b12",
   "metadata": {},
   "outputs": [
    {
     "data": {
      "text/plain": [
       "'Debbie'"
      ]
     },
     "execution_count": 9,
     "metadata": {},
     "output_type": "execute_result"
    }
   ],
   "source": [
    "my_bird.name"
   ]
  },
  {
   "cell_type": "markdown",
   "id": "ba2bd228-10ef-4c5d-b1e1-3f2518028a5d",
   "metadata": {},
   "source": [
    "It's important to emphasize that we have *not* changed the `Bird` class itself. Instead, we simply updated one instance of the bird class stored in the variable `my_bird`.\n",
    "\n",
    "Let's create another bird to illustrate:"
   ]
  },
  {
   "cell_type": "code",
   "execution_count": 10,
   "id": "51f7b5ba-5569-4396-9136-b2bf85b91ee7",
   "metadata": {},
   "outputs": [
    {
     "data": {
      "text/plain": [
       "'Robin'"
      ]
     },
     "execution_count": 10,
     "metadata": {},
     "output_type": "execute_result"
    }
   ],
   "source": [
    "your_bird = awesome.Bird()\n",
    "your_bird.name"
   ]
  },
  {
   "cell_type": "markdown",
   "id": "0074c435-99bf-4f47-8062-b4adfc1a517e",
   "metadata": {},
   "source": [
    "Above, we see that `your_bird` has the default name of `Robin`. But we can of course change that:"
   ]
  },
  {
   "cell_type": "code",
   "execution_count": 11,
   "id": "47680a56-51f7-4743-b0ba-8a208c818ea6",
   "metadata": {},
   "outputs": [
    {
     "name": "stdout",
     "output_type": "stream",
     "text": [
      "My name is now Suzie\n"
     ]
    }
   ],
   "source": [
    "your_bird.change_name('Suzie')"
   ]
  },
  {
   "cell_type": "code",
   "execution_count": 12,
   "id": "59c3632b-5711-4ed9-83dd-95b2af2a12b6",
   "metadata": {},
   "outputs": [
    {
     "data": {
      "text/plain": [
       "'Suzie'"
      ]
     },
     "execution_count": 12,
     "metadata": {},
     "output_type": "execute_result"
    }
   ],
   "source": [
    "your_bird.name"
   ]
  },
  {
   "cell_type": "markdown",
   "id": "2afc1451-456a-4000-bd5f-168d02dac095",
   "metadata": {},
   "source": [
    "This example is arguably more complex than needed, since it's also possible to directly change the value of an attribute without the use of a method.\n",
    "\n",
    "Updating an instance attribute works the same way as updating a variable. You simply assign a new value by using the `=` sign:"
   ]
  },
  {
   "cell_type": "code",
   "execution_count": 13,
   "id": "e2c063c2-6d42-4c5e-82f7-0dbc07216bb9",
   "metadata": {},
   "outputs": [],
   "source": [
    "my_bird.name = 'Lenny'"
   ]
  },
  {
   "cell_type": "code",
   "execution_count": 14,
   "id": "0e24ba2a-8a61-40e9-8063-deaae58d5a81",
   "metadata": {},
   "outputs": [
    {
     "data": {
      "text/plain": [
       "'Lenny'"
      ]
     },
     "execution_count": 14,
     "metadata": {},
     "output_type": "execute_result"
    }
   ],
   "source": [
    "my_bird.name"
   ]
  },
  {
   "cell_type": "markdown",
   "id": "765ad2b7-1659-4693-8b27-d256f147bbd6",
   "metadata": {},
   "source": [
    "## Instances born with data\n",
    "\n",
    "The `Bird` class used what's known as a *class attribute* to configure the default name of a bird.\n",
    "\n",
    "This allows all `Bird` instances to automatically share a default name. This type of functionality can be quite useful for more generic data, but in this case it's not the most appropriate solution since it doesn't make a great deal of sense for all birds to have a common default name.\n",
    "\n",
    "It would make more sense to name each bird when you create its instance.\n",
    "\n",
    "And sure enough, Python classes provide a mechanism to supply data to a class instance at the time of creation.\n",
    "\n",
    "It requires using a gnarly bit of syntax known as the [`__init__` method](https://docs.python.org/3/tutorial/classes.html#class-and-instance-variables).\n",
    "\n",
    "Here's a reworked version of the bird class.\n",
    "\n",
    "> Note the use of `self` as an argument to `__init__` *and* to store the incoming `bird_name` on an instance variable called `name`."
   ]
  },
  {
   "cell_type": "code",
   "execution_count": 29,
   "id": "175df7d7-1111-4373-98a1-9b6ea7218c83",
   "metadata": {},
   "outputs": [],
   "source": [
    "class NewBird():\n",
    "    \n",
    "    def __init__(self, bird_name): # Remember, \"self\" always must be the first argument for methods\n",
    "        self.name = bird_name      # Save the bird_name argument to the name attribute on the instance"
   ]
  },
  {
   "cell_type": "markdown",
   "id": "40a6fa2f-a622-465c-9cd3-1271109da3ae",
   "metadata": {},
   "source": [
    "You can use this variable to create new birds.\n",
    "\n",
    "> Remember, you don't need to supply a `self` argument when using a method! Just pass in the other required arguments. In this case, `bird_name`."
   ]
  },
  {
   "cell_type": "code",
   "execution_count": 31,
   "id": "4a366e86-bbbc-4715-8c9e-8f3472390758",
   "metadata": {},
   "outputs": [
    {
     "data": {
      "text/plain": [
       "'Ayla'"
      ]
     },
     "execution_count": 31,
     "metadata": {},
     "output_type": "execute_result"
    }
   ],
   "source": [
    "ayla = NewBird('Ayla')\n",
    "ayla.name"
   ]
  },
  {
   "cell_type": "markdown",
   "id": "ff3cee36-b717-4b5a-84e2-9e144a01d75d",
   "metadata": {},
   "source": [
    "The `__init__` method and `self` are among the most confusing aspects of classes and OOP in general. These concepts will become much more clear as you practice building and using your own classes. Check out the *Coding Challenge* below to get some reps.\n",
    "\n",
    "But first, let's tie together what we've learned so far."
   ]
  },
  {
   "cell_type": "markdown",
   "id": "9cd8cd28-6796-4abf-ba31-2dcb60d523f4",
   "metadata": {},
   "source": [
    "## Classes in the wild\n",
    "\n",
    "The `Bird` example is admittedly contrived and a bit silly, but it hopefully conveys the critical point that classes can be used to stamp out many instances. And once you understand these basics about classes, instances, attributes and methods, all sorts of dot-notation syntax starts to make sense.\n",
    "\n",
    "For example, Python's [string data type](https://docs.python.org/3/library/string.html) has oodles of useful methods that can be called on instances of a string:\n",
    "\n",
    "> Note: Basic data types are \"objects\" too..."
   ]
  },
  {
   "cell_type": "code",
   "execution_count": 32,
   "id": "3ce9ed6e-7480-4be7-8c02-10ef9d683cd6",
   "metadata": {},
   "outputs": [
    {
     "data": {
      "text/plain": [
       "'HELLO'"
      ]
     },
     "execution_count": 32,
     "metadata": {},
     "output_type": "execute_result"
    }
   ],
   "source": [
    "my_string = 'hello' # create a string instance\n",
    "my_string.upper()   # make it loud and screamy"
   ]
  },
  {
   "cell_type": "code",
   "execution_count": 33,
   "id": "fc7d4309-1781-4997-8ba4-411ae4a655f3",
   "metadata": {},
   "outputs": [
    {
     "data": {
      "text/plain": [
       "True"
      ]
     },
     "execution_count": 33,
     "metadata": {},
     "output_type": "execute_result"
    }
   ],
   "source": [
    "my_string.startswith(\"h\") # check the first letter"
   ]
  },
  {
   "cell_type": "code",
   "execution_count": 34,
   "id": "12822058-7321-4435-9b10-5beec443d8be",
   "metadata": {},
   "outputs": [
    {
     "data": {
      "text/plain": [
       "False"
      ]
     },
     "execution_count": 34,
     "metadata": {},
     "output_type": "execute_result"
    }
   ],
   "source": [
    "my_string.endswith(\"l\") # check the last letter. ruhroh"
   ]
  },
  {
   "cell_type": "markdown",
   "id": "e23daf3e-d1ec-4480-b900-be5cfde6be4b",
   "metadata": {},
   "source": [
    "And the fun doesn't stop with strings. [Lists](https://www.w3schools.com/python/python_lists_methods.asp) and [dictionaries](python_dict_basics.ipynb) have their own unique methods as well:"
   ]
  },
  {
   "cell_type": "code",
   "execution_count": 35,
   "id": "01e38fd6-67a6-4db1-9b40-5166bc4ffd39",
   "metadata": {},
   "outputs": [],
   "source": [
    "numbers = [1,2,3]\n",
    "person = {\n",
    "    'name': 'Joe',\n",
    "    'age': 30,\n",
    "    'favorite color': 'mauve?'\n",
    "}"
   ]
  },
  {
   "cell_type": "code",
   "execution_count": 36,
   "id": "dfc7b1f0-90cd-416c-b58e-964778bb9805",
   "metadata": {},
   "outputs": [
    {
     "data": {
      "text/plain": [
       "[1, 2, 3, 4]"
      ]
     },
     "execution_count": 36,
     "metadata": {},
     "output_type": "execute_result"
    }
   ],
   "source": [
    "numbers.append(4) # add a number to the end of the list\n",
    "numbers"
   ]
  },
  {
   "cell_type": "code",
   "execution_count": 37,
   "id": "29df58a2-ca7c-4a30-9114-36d0a6d2cfcb",
   "metadata": {},
   "outputs": [
    {
     "data": {
      "text/plain": [
       "[2, 3, 4]"
      ]
     },
     "execution_count": 37,
     "metadata": {},
     "output_type": "execute_result"
    }
   ],
   "source": [
    "numbers.pop(0) # remove the number in the first position\n",
    "numbers"
   ]
  },
  {
   "cell_type": "code",
   "execution_count": 38,
   "id": "88b083fb-d56b-4ebe-b4ef-eb3fcb63a74b",
   "metadata": {},
   "outputs": [
    {
     "data": {
      "text/plain": [
       "dict_keys(['name', 'age', 'favorite color'])"
      ]
     },
     "execution_count": 38,
     "metadata": {},
     "output_type": "execute_result"
    }
   ],
   "source": [
    "person.keys() # list the keys in the dictionary"
   ]
  },
  {
   "cell_type": "code",
   "execution_count": 39,
   "id": "9e416e49-ad66-4bea-b710-95902d4937a1",
   "metadata": {},
   "outputs": [
    {
     "data": {
      "text/plain": [
       "dict_values(['Joe', 30, 'mauve?'])"
      ]
     },
     "execution_count": 39,
     "metadata": {},
     "output_type": "execute_result"
    }
   ],
   "source": [
    "person.values() # list the values in the dictionary"
   ]
  },
  {
   "cell_type": "markdown",
   "id": "013966e4-ed26-485f-8d7e-aa796c3f4a14",
   "metadata": {},
   "source": [
    "And of course, libraries make extensive use of classes. For example, the Python [csv](../python_csv.ipynb) module's [DictReader](https://docs.python.org/3/library/csv.html#csv.DictReader) class."
   ]
  },
  {
   "cell_type": "code",
   "execution_count": 40,
   "id": "053bd265-d0a7-4be4-b883-8cb95201d45d",
   "metadata": {},
   "outputs": [
    {
     "name": "stdout",
     "output_type": "stream",
     "text": [
      "Cat has an awesomeness rating of 5\n",
      "Cougar has an awesomeness rating of 10\n",
      "Dog has an awesomeness rating of 8\n",
      "Snake has an awesomeness rating of 2\n",
      "Narwhal has an awesomeness rating of 11\n"
     ]
    }
   ],
   "source": [
    "import csv\n",
    "\n",
    "with open('../files/data/animal_ratings.csv') as infile:\n",
    "    # Create an instance of the DictReader class\n",
    "    reader = csv.DictReader(infile)\n",
    "    # Then loop through the rows and do stuff\n",
    "    for row in reader:\n",
    "        animal = row['animal'].title()\n",
    "        rating = row['awesomeness']\n",
    "        print(f\"{animal} has an awesomeness rating of {rating}\")"
   ]
  },
  {
   "cell_type": "markdown",
   "id": "8e0212b6-6477-49f5-9427-a26e3442e0db",
   "metadata": {},
   "source": [
    "## Coding challenge\n",
    "\n",
    "So you now have a basic grounding in Python classes and OOP. Let's try to burn this new info into your synapses through a coding challenge.\n",
    "\n",
    "Below you'll find some toy election data. We're keeping it simple for now, but many hundreds -- or thousands? millions? -- of lines of code have been written in the real world to manage the complexities of elections. This code has been written by software vendors to help election officials administer local races, along with lowly newsroom coders (including yours truly) to power election night maps and analysis.\n",
    "\n",
    "The challenges for any given election include:\n",
    "\n",
    "- Organizing candidates by race (e.g. city council, gubernatorial, U.S. senator, U.S. president)\n",
    "- Organizing races by a specific election (e.g. comparing presidential results by state, county, precinct over multiple elections)\n",
    "- Tallying votes by candidate to determine winners, ties/runoffs, and other fun edge cases\n",
    "\n",
    "### The Data\n",
    "\n",
    "But enough preamble. Here's our extremely simplifed data.\n",
    "\n",
    "Each row represents the number of votes a presidential candidate received in a particular county.\n",
    "\n",
    "The data is structured as a list of [dictionaries](../python_dict_basics.ipynb), with each containing the following data points:\n",
    "\n",
    "- Election `date` and the `office` for the race\n",
    "- `candidate` name and `party`\n",
    "- `State` and `County` where each candidate received a specific numvber of `votes`\n",
    "\n",
    "> Note: This data is *totally* fabricated. And yet you feel the nostalgia for simpler times, no?"
   ]
  },
  {
   "cell_type": "code",
   "execution_count": 26,
   "id": "29960bea-168f-4613-a20c-ef1f524b122f",
   "metadata": {},
   "outputs": [],
   "source": [
    "votes = [\n",
    "    {'date': '2012-11-06', 'office': 'President', 'county': 'Fairfax', 'state': 'VA', 'candidate': 'Romney', 'party': 'GOP', 'votes': '1000'},\n",
    "    {'date': '2012-11-06', 'office': 'President', 'county': 'Fairfax', 'state': 'VA', 'candidate': 'Obama', 'party': 'DEM', 'votes': '2000'},\n",
    "    {'date': '2012-11-06', 'office': 'President', 'county': 'Shenandoah', 'state': 'VA', 'candidate': 'Romney', 'party': 'GOP', 'votes': '800'},\n",
    "    {'date': '2012-11-06', 'office': 'President', 'county': 'Shenandoah', 'state': 'VA', 'candidate': 'Obama', 'party': 'DEM', 'votes': '800'},\n",
    "    {'date': '2012-11-06', 'office': 'President', 'county': 'Lee', 'state': 'VA', 'candidate': 'Romney', 'party': 'GOP', 'votes': '900'},\n",
    "    {'date': '2012-11-06', 'office': 'President', 'county': 'Lee', 'state': 'VA', 'candidate': 'Obama', 'party': 'DEM', 'votes': '500'}\n",
    "]"
   ]
  },
  {
   "cell_type": "markdown",
   "id": "7a253f02-1165-4394-9620-2a6c6bf40a8b",
   "metadata": {},
   "source": [
    "### The Challenge - Part 1\n",
    "\n",
    "For this first part, we're going to provide a bit of starter code. Your task is to:\n",
    "\n",
    "- Update the `Candidate` class to flesh out the following methods: \n",
    "  - `add_votes` - add the vote record to the `Candidate.votes` list\n",
    "  - `total_votes` - tally up and return the total votes based on records stored in `Candidate.votes`\n",
    "\n",
    "> A bit of advice: Don't try to flesh out both methods at once. Work incrementally. Start with `add_votes`. Create a class instance for a candidate and test the method. Then repeat those steps for `total_votes`."
   ]
  },
  {
   "cell_type": "code",
   "execution_count": 45,
   "id": "bdf535d9-928a-422b-9d8d-20ae3ccfb0dd",
   "metadata": {},
   "outputs": [],
   "source": [
    "class Candidate:\n",
    "    \n",
    "    def __init__(self, candidate_name):\n",
    "        self.name = candidate_name\n",
    "        self.votes = [] # An empty list where you can store vote records\n",
    "        \n",
    "    def add_votes(self, vote_record):\n",
    "        # Add code here to add the vote record to self.votes\n",
    "        pass  # NOTE: \"pass\" is a placeholder that does nothing. It's useful to design code before you actually implement the functionality\n",
    "    \n",
    "    def total_votes(self):\n",
    "        # Add code here to tally all votes in self.votes\n",
    "        pass"
   ]
  },
  {
   "cell_type": "markdown",
   "id": "8a953799-0c6a-4c25-bff7-66c87ceb5f84",
   "metadata": {},
   "source": [
    "Now, try plucking the first vote record from `votes` list (of dictionaries) and create a `Candidate` instance.\n",
    "\n",
    "- Use the list index position to retrieve the first vote record\n",
    "- Use the record's `candidate` key to access the candidate's name\n",
    "- Create an instance of the `Candidate` class by supplying the `candidate` value to the class\n",
    "- Call `Candidate.name` to verify the name\n"
   ]
  },
  {
   "cell_type": "code",
   "execution_count": 42,
   "id": "592fb46e-28ad-4a60-9a7e-6bc0a854a3d1",
   "metadata": {},
   "outputs": [],
   "source": [
    "# Here's some scratch space for you to work"
   ]
  },
  {
   "cell_type": "markdown",
   "id": "c37fd86f-26ef-4411-bf72-238ca04d1b2c",
   "metadata": {},
   "source": [
    "## TK\n",
    "\n",
    "- Flesh out the `add_votes` method and test on two records plucked from the list\n",
    "- Flesh out the `total_votes` method\n",
    "- Process all candidate records and determine who won the race\n",
    " - Provide a dictionary that stores the `Candidate` class by name\n",
    " - Loop through the `votes`. For each record:\n",
    "    - Look up the `Candidate` class in the dictionary.\n",
    "      - If it's not there:\n",
    "        - create a Candidate instance\n",
    "        - Call `Candidate.add_votes` with the current record.\n",
    "        - Insert the `Candidate` instance into the dictionary, using `candidate` name as the key and the instance as the value\n",
    "      -  If the candidate *is* in the dictionary, simply call `candidate.add_votes` with the current record\n",
    "      \n",
    "- Loop through the candidates dictionary and call `candidate.total_votes()` to see the overall vote count\n",
    "- Who won our fictional race? What was the vote count difference?\n",
    "     "
   ]
  },
  {
   "cell_type": "code",
   "execution_count": null,
   "id": "ca860fc5-aaba-41f0-ac80-2d82dde34a27",
   "metadata": {},
   "outputs": [],
   "source": []
  }
 ],
 "metadata": {
  "kernelspec": {
   "display_name": "Python 3 (ipykernel)",
   "language": "python",
   "name": "python3"
  },
  "language_info": {
   "codemirror_mode": {
    "name": "ipython",
    "version": 3
   },
   "file_extension": ".py",
   "mimetype": "text/x-python",
   "name": "python",
   "nbconvert_exporter": "python",
   "pygments_lexer": "ipython3",
   "version": "3.11.4"
  }
 },
 "nbformat": 4,
 "nbformat_minor": 5
}
