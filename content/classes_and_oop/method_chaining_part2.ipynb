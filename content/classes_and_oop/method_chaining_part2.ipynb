{
 "cells": [
  {
   "cell_type": "markdown",
   "id": "453d00ff-5d94-4d3b-be5d-022cee9519ce",
   "metadata": {
    "tags": []
   },
   "source": [
    "# Method Chaining - Part 2\n",
    "\n"
   ]
  },
  {
   "cell_type": "code",
   "execution_count": 21,
   "id": "b8578d75-06b6-426a-a5c4-f035251cdaed",
   "metadata": {},
   "outputs": [],
   "source": [
    "class Number:\n",
    "    \n",
    "    def __init__(self, number):\n",
    "        # Store the number in \"value\" when you create the instance\n",
    "        self.value = number\n",
    "        \n",
    "    def add(self, other_number):\n",
    "        # Add our original number (stored in self.value) to some other_number\n",
    "        # and return the solution\n",
    "        return self.value + other_number"
   ]
  },
  {
   "cell_type": "markdown",
   "id": "b8c75e91-5115-4a82-9bac-5311dc5c8079",
   "metadata": {},
   "source": [
    "**Important**: Note that above, our `add` method plucks its value from...well...the `value` attribute, which is stored when we create the instance. The `add` method then adds its own stored value to `other_number` and returns the solution.\n",
    "\n",
    "Ok, let's create an instance of `Number`. Note that because our special `__init__` method requires a number argument, we must pass this argument when we create the instance."
   ]
  },
  {
   "cell_type": "code",
   "execution_count": null,
   "id": "970227c6-01d7-4514-9c67-493d764678b1",
   "metadata": {},
   "outputs": [],
   "source": [
    "num = Number(2) # The parens are reminiscent of a function call, right?\n",
    "num.value"
   ]
  },
  {
   "cell_type": "markdown",
   "id": "02b0d478-09fb-4392-8a7e-bea6d1bc03d4",
   "metadata": {},
   "source": [
    "We can see that by passing `2` to the `Number` class when we create the instance, the number gets stored in the `value` attribute. Now let's do some addition."
   ]
  },
  {
   "cell_type": "code",
   "execution_count": null,
   "id": "5d9ae5d5-1e8f-44a0-96f9-27b70cc9ae64",
   "metadata": {},
   "outputs": [],
   "source": [
    "num.add(3) # Add 3 to our number"
   ]
  },
  {
   "cell_type": "markdown",
   "id": "75e06ef0-266b-4f61-8e30-36b9460c134b",
   "metadata": {},
   "source": [
    "Now that you have a sense of `self` -- pun intended -- and the fact that methods can return values, you're ready for one last concept that will help you grok the \"method chaining\" syntax.\n",
    "\n",
    "\n",
    "Let's say that we wanted a number class that (1) can update itself **_and_** (2) allows multiple consecutive invocations of `add` -- all without having to individually store and operate on the value in each step.\n",
    "\n",
    "The first requirement is pretty straight-forward. We could update the `add` method to simply store the new solution in the `value` attribute:\n",
    "\n",
    "\n",
    "```python\n",
    "    def add(self, other_number):\n",
    "        # Replace the original value with the newly calculated value\n",
    "        self.value = self.value + other_number\n",
    "        # Return the updated value\n",
    "        return self.value\n",
    "```\n",
    "\n",
    "Let's create a new class using this approach."
   ]
  },
  {
   "cell_type": "code",
   "execution_count": null,
   "id": "1b8f27a5-991b-48bd-8c2a-276bb9003f12",
   "metadata": {},
   "outputs": [],
   "source": [
    "class FancyNumber:\n",
    "    \n",
    "    def __init__(self, number):\n",
    "        self.value = number\n",
    "        \n",
    "    def add(self, other_number):\n",
    "        # Replace the original value with the newly calculated value\n",
    "        self.value = self.value + other_number\n",
    "        # Return the updated value\n",
    "        return self.value"
   ]
  },
  {
   "cell_type": "code",
   "execution_count": null,
   "id": "36c2ed1b-90dc-46bc-8af6-e34d9124aee1",
   "metadata": {},
   "outputs": [],
   "source": [
    "num = FancyNumber(1)\n",
    "num.add(1)"
   ]
  },
  {
   "cell_type": "markdown",
   "id": "f8f08404-92f7-43c6-8209-be2906334292",
   "metadata": {},
   "source": [
    "Let's confirm the underlying value of our number has changed from `1` to `2`."
   ]
  },
  {
   "cell_type": "code",
   "execution_count": null,
   "id": "09f4548e-3635-4221-bb82-c047aab0a833",
   "metadata": {},
   "outputs": [],
   "source": [
    "num.value # should now be 2"
   ]
  },
  {
   "cell_type": "markdown",
   "id": "ee64213a-4231-490b-9e71-7e2167d062e6",
   "metadata": {},
   "source": [
    "We could continue updating the number by calling `num.add`:"
   ]
  },
  {
   "cell_type": "code",
   "execution_count": null,
   "id": "a86774a6-b26e-4237-a27b-0887417632c9",
   "metadata": {},
   "outputs": [],
   "source": [
    "num.add(1)\n",
    "num.add(1)\n",
    "num.value # should now be 4"
   ]
  },
  {
   "cell_type": "markdown",
   "id": "cc835333-c4a8-458e-a1ea-0d28189937af",
   "metadata": {},
   "source": [
    "But Pythonistas and coders in general are allergic to keystrokes and visual clutter. Wouldn't it be nice if we could simply reference `num` a single time, and then just call `add` repeatedly? Let's try it:"
   ]
  },
  {
   "cell_type": "code",
   "execution_count": null,
   "id": "9070b86e-6aa2-47a7-a8b2-03af848a7aea",
   "metadata": {},
   "outputs": [],
   "source": [
    "num = FancyNumber(0)\n",
    "num.value"
   ]
  },
  {
   "cell_type": "code",
   "execution_count": null,
   "id": "06d1ce81-f180-4dee-a29f-21257749f518",
   "metadata": {},
   "outputs": [],
   "source": [
    "num.add(1).add(1)"
   ]
  },
  {
   "cell_type": "markdown",
   "id": "1d6a0583-d71c-4bcf-8a7e-15986033f13c",
   "metadata": {},
   "source": [
    "Ruh roh! Python got angry at us!\n",
    "\n",
    "Read the error message carefully. It states that the `int` object has no attribute called `add`. \n",
    "\n",
    "Now look back at our `FancyNumber` class. Notice the `add` method is returning an integer (ie the sum of the original value and some other number)?\n",
    "\n",
    "**The `add` method is *not* returning an instance of our `FancyNumber` class. It's returning a basic `int` data type.**\n",
    "\n",
    "And unfortunately for us, the integer data type does not have a method called `add`. Don't believe us? Check out [the docs](https://docs.python.org/3/library/stdtypes.html#numeric-types-int-float-complex).\n",
    "\n",
    "So how do we fix `FancyNumber` so that we can repeatedly call `add` in the mthod-chaining style? (e.g. `num.add(1).add(2).add(3)`)\n",
    "\n",
    "We clearly need to return something other than an integer in order to implement method chaining on our `FancyNumber` class.\n",
    "\n",
    "Let's take stock of some key concepts:\n",
    "\n",
    "1. Methods can return values\n",
    "2. Python uses the `self` argument to reference specific instances of a class\n",
    "\n",
    "What if the `add` method simply itself the instance of the class instead of returning a basic integer?\n",
    "\n",
    "Let's create one last version of the class and see if it works."
   ]
  },
  {
   "cell_type": "code",
   "execution_count": 20,
   "id": "c475d07b-71c6-4a3b-bf13-f4d44f4668ba",
   "metadata": {},
   "outputs": [],
   "source": [
    "# A number class that supports method chaining\n",
    "class FanciestNumber:\n",
    "    \n",
    "    def __init__(self, number):\n",
    "        self.value = number\n",
    "        \n",
    "    def add(self, other_number):\n",
    "        # Replace the original value with the newly calculated value\n",
    "        self.value = self.value + other_number\n",
    "        # Return the instance of the class (NOT its current value)\n",
    "        return self"
   ]
  },
  {
   "cell_type": "code",
   "execution_count": null,
   "id": "f7afc615-b5d6-4331-8e32-0a1509a49ec7",
   "metadata": {},
   "outputs": [],
   "source": [
    "num = FanciestNumber(1)"
   ]
  },
  {
   "cell_type": "code",
   "execution_count": null,
   "id": "b9dc2a30-27c9-4575-81ee-15ebab1e4705",
   "metadata": {},
   "outputs": [],
   "source": [
    "num.add(1).add(1)\n",
    "num.value # This should be 3"
   ]
  },
  {
   "cell_type": "markdown",
   "id": "fa7a8af3-982b-4ec1-9c04-4826d4c34f66",
   "metadata": {},
   "source": [
    "That did the trick!! We now have a number that updates itself and allows us to repeatedly call the `add` method.\n",
    "\n",
    "It's important to note that you can use method chaining with different types of objects. Stated differently, the methods you're chaining don't all have to live on the same class. For example, we could have done some basic method chaining using our very first implementation of `Number`:"
   ]
  },
  {
   "cell_type": "code",
   "execution_count": null,
   "id": "4ad84a87-bc9a-48ec-bdb4-aa12ae68bf77",
   "metadata": {},
   "outputs": [],
   "source": [
    "num = Number(1)\n",
    "num.add(1).bit_count()"
   ]
  },
  {
   "cell_type": "markdown",
   "id": "cffa1246-de11-400b-bf9e-486aac5a793d",
   "metadata": {},
   "source": [
    "Above, the `add` method is of course on our original `Number` class. But the `bit_count` method is a (not so frequently used) method on integers. The important point is that **when you encounter (or use) method chaining, it's critical that you remain aware of the return value at every point in the chain.**\n",
    "\n",
    "If you're ever in doubt, you can rewrite the code to use individual steps. In fact, it can be helpful to apply this approach when first writing the code. Once you're confident the code works as expected, you can _then_ rewrite it into a more compact form using method chaining."
   ]
  },
  {
   "cell_type": "code",
   "execution_count": 19,
   "id": "808c7b09-69e2-4026-82c9-c8f708e5c3d8",
   "metadata": {},
   "outputs": [
    {
     "data": {
      "text/plain": [
       "2"
      ]
     },
     "execution_count": 19,
     "metadata": {},
     "output_type": "execute_result"
    }
   ],
   "source": [
    "num = Number(2)\n",
    "value = num.add(1)\n",
    "value.bit_count()\n",
    "\n",
    "# You can the rewrite the above as num.add(1).bit_count()"
   ]
  },
  {
   "cell_type": "code",
   "execution_count": null,
   "id": "42d547ab-eb9d-448d-904f-85742187e0b0",
   "metadata": {},
   "outputs": [],
   "source": []
  }
 ],
 "metadata": {
  "kernelspec": {
   "display_name": "Python 3 (ipykernel)",
   "language": "python",
   "name": "python3"
  },
  "language_info": {
   "codemirror_mode": {
    "name": "ipython",
    "version": 3
   },
   "file_extension": ".py",
   "mimetype": "text/x-python",
   "name": "python",
   "nbconvert_exporter": "python",
   "pygments_lexer": "ipython3",
   "version": "3.11.4"
  }
 },
 "nbformat": 4,
 "nbformat_minor": 5
}
