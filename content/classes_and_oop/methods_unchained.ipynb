{
 "cells": [
  {
   "cell_type": "markdown",
   "id": "820eb03c-86b6-410d-bf0f-f6dc9f59f0f4",
   "metadata": {
    "tags": []
   },
   "source": [
    "# Method Chaining\n",
    "\n",
    "Now that you're armed with the knowledge that _methods_ are basically functions that live in classes (and instances of those classes), you can begin to make sense of the phrase **method chaining**: It's a technique that allows you to consecutively call methods, one after another, _without having to store and operate on the return value of each step in the chain._\n",
    "\n",
    "Yes, it's confusing. But once you're accustomed to the concept, you can read (and write) highly compact code.\n",
    "\n",
    "Here's an example using a simple bit of text."
   ]
  },
  {
   "cell_type": "code",
   "execution_count": 17,
   "id": "953f21c1-84a7-4fec-b14e-d21ec2593604",
   "metadata": {},
   "outputs": [
    {
     "data": {
      "text/plain": [
       "['SOME SCREAMY TEXT', ' WITH A COMMA']"
      ]
     },
     "execution_count": 17,
     "metadata": {},
     "output_type": "execute_result"
    }
   ],
   "source": [
    "\"some text, with a comma\".upper().replace(\"TEXT\", \"SCREAMY TEXT\").split(',')"
   ]
  },
  {
   "cell_type": "markdown",
   "id": "a9f0d8c3-c385-4d59-aeaf-9cecd7b6f484",
   "metadata": {},
   "source": [
    "Above, we can see that we end up with a list. \n",
    "\n",
    "But let's detail each step in the chain, starting with the initial string object: `\"some text, with a comma\"`\n",
    "\n",
    "- .`upper()` makes the string all upper case\n",
    "- `.replace(\"TEXT\", \"SCREAMY TEXT\")` substitutes `SCREAMY_TEXT` for `TEXT`\n",
    "- `.split(',')`...well...splits the text on the comma and *returns* a list containing the text fragments\n",
    "\n",
    "In this simple case, each step in the chain modifies and returns the string produced by the prior step.\n"
   ]
  },
  {
   "cell_type": "markdown",
   "id": "8171df33-1107-44ec-98d8-34ecbb7205e6",
   "metadata": {},
   "source": [
    "## Not-so-simple chaining\n",
    "\n",
    "Alas, not all method chains are that simple. Quite often you'll see chains where the data type varies as you move down the chain.\n",
    "\n",
    "Remember that [pandas](https://pandas.pydata.org/docs/user_guide/index.html) snippet from way at the beginning of this tutorial? \n",
    "\n",
    "```python\n",
    "dataframe.groupby(\"some_field”).size().rename(\"new_name\").reset_index()\n",
    "```\n",
    "\n",
    "The above example involves a chain in which the underlying data type changes.\n",
    "\n",
    "There are a few strategies you can use to unravel and understand more complex method chains.\n",
    "\n",
    "### Poking and prodding objects\n",
    "\n",
    "Python provides a few tools to poke and prod your objects, which can be quite helpful when you're trying to unravel what's happening in a series of chained method calls.\n",
    "\n",
    "In particular, the built-in [type function](https://docs.python.org/3/library/functions.html#type) will be a trusted friend.\n",
    "\n",
    "Let's create a `pandas` DataFrame to illustrate."
   ]
  },
  {
   "cell_type": "code",
   "execution_count": 6,
   "id": "fc843922-655c-4662-b8fe-7505268e505a",
   "metadata": {},
   "outputs": [
    {
     "data": {
      "text/html": [
       "<div>\n",
       "<style scoped>\n",
       "    .dataframe tbody tr th:only-of-type {\n",
       "        vertical-align: middle;\n",
       "    }\n",
       "\n",
       "    .dataframe tbody tr th {\n",
       "        vertical-align: top;\n",
       "    }\n",
       "\n",
       "    .dataframe thead th {\n",
       "        text-align: right;\n",
       "    }\n",
       "</style>\n",
       "<table border=\"1\" class=\"dataframe\">\n",
       "  <thead>\n",
       "    <tr style=\"text-align: right;\">\n",
       "      <th></th>\n",
       "      <th>first</th>\n",
       "      <th>last</th>\n",
       "    </tr>\n",
       "  </thead>\n",
       "  <tbody>\n",
       "    <tr>\n",
       "      <th>0</th>\n",
       "      <td>Joe</td>\n",
       "      <td>Smith</td>\n",
       "    </tr>\n",
       "    <tr>\n",
       "      <th>1</th>\n",
       "      <td>Jane</td>\n",
       "      <td>Smith</td>\n",
       "    </tr>\n",
       "    <tr>\n",
       "      <th>2</th>\n",
       "      <td>Jane</td>\n",
       "      <td>Doe</td>\n",
       "    </tr>\n",
       "  </tbody>\n",
       "</table>\n",
       "</div>"
      ],
      "text/plain": [
       "  first   last\n",
       "0   Joe  Smith\n",
       "1  Jane  Smith\n",
       "2  Jane    Doe"
      ]
     },
     "execution_count": 6,
     "metadata": {},
     "output_type": "execute_result"
    }
   ],
   "source": [
    "import pandas as pd\n",
    "d = {\n",
    "    'first': ['Joe', 'Jane', 'Jane'],\n",
    "    'last': ['Smith', 'Smith', 'Doe']\n",
    "}\n",
    "df = pd.DataFrame(data=d)\n",
    "df"
   ]
  },
  {
   "cell_type": "markdown",
   "id": "eb348f66-ab42-46c5-b51d-f9ff51e19806",
   "metadata": {},
   "source": [
    "Now let's say we wanted to count the frequency of first names."
   ]
  },
  {
   "cell_type": "code",
   "execution_count": 7,
   "id": "0a619dcc-6dc7-4aba-bbcb-268b3b67485b",
   "metadata": {},
   "outputs": [
    {
     "data": {
      "text/html": [
       "<div>\n",
       "<style scoped>\n",
       "    .dataframe tbody tr th:only-of-type {\n",
       "        vertical-align: middle;\n",
       "    }\n",
       "\n",
       "    .dataframe tbody tr th {\n",
       "        vertical-align: top;\n",
       "    }\n",
       "\n",
       "    .dataframe thead th {\n",
       "        text-align: right;\n",
       "    }\n",
       "</style>\n",
       "<table border=\"1\" class=\"dataframe\">\n",
       "  <thead>\n",
       "    <tr style=\"text-align: right;\">\n",
       "      <th></th>\n",
       "      <th>first</th>\n",
       "      <th>count_of_first_names</th>\n",
       "    </tr>\n",
       "  </thead>\n",
       "  <tbody>\n",
       "    <tr>\n",
       "      <th>0</th>\n",
       "      <td>Jane</td>\n",
       "      <td>2</td>\n",
       "    </tr>\n",
       "    <tr>\n",
       "      <th>1</th>\n",
       "      <td>Joe</td>\n",
       "      <td>1</td>\n",
       "    </tr>\n",
       "  </tbody>\n",
       "</table>\n",
       "</div>"
      ],
      "text/plain": [
       "  first  count_of_first_names\n",
       "0  Jane                     2\n",
       "1   Joe                     1"
      ]
     },
     "execution_count": 7,
     "metadata": {},
     "output_type": "execute_result"
    }
   ],
   "source": [
    "df.groupby('first').size().rename('count_of_first_names').reset_index()"
   ]
  },
  {
   "cell_type": "markdown",
   "id": "6c5ba384-e353-4ead-a59e-df94fa711dc2",
   "metadata": {},
   "source": [
    "We can see the final result, but it might be hard to understand _why_ the above works.\n",
    "\n",
    "### Methods, Unchained\n",
    "\n",
    "If we break the code up into separate steps -- and apply `type` function along the way -- we can get a handle on how things work."
   ]
  },
  {
   "cell_type": "code",
   "execution_count": 14,
   "id": "427067f0-5624-4a12-a65c-193bf3de1d53",
   "metadata": {},
   "outputs": [
    {
     "data": {
      "text/plain": [
       "pandas.core.groupby.generic.DataFrameGroupBy"
      ]
     },
     "execution_count": 14,
     "metadata": {},
     "output_type": "execute_result"
    }
   ],
   "source": [
    "grouped = df.groupby('first')\n",
    "type(grouped)"
   ]
  },
  {
   "cell_type": "markdown",
   "id": "4be9b309-e1a5-4ff6-ae8f-e3161e23f33a",
   "metadata": {},
   "source": [
    "Ok, so we now know we have an instance of a class from the pandas library called `DataFrameGroupBy`.\n",
    "\n",
    "At this point, we could further poke at this object using yet another built-in function called [dir](https://docs.python.org/3/library/functions.html#dir). This function is quite handy for listing the attributes (ie variables and methods) that are available on an object such as a class instance."
   ]
  },
  {
   "cell_type": "code",
   "execution_count": null,
   "id": "2b1afa36-535e-4652-8e13-8eb360bfe9a2",
   "metadata": {},
   "outputs": [],
   "source": [
    "dir(grouped)"
   ]
  },
  {
   "cell_type": "markdown",
   "id": "f92e2388-f739-4020-8a56-087f3cce9a8f",
   "metadata": {},
   "source": [
    "OUCH! Okay, so that is quite a long and confusing list!\n",
    "\n",
    "If you took time to look closely, you might notice the `groups` attribute.\n",
    "\n",
    "Let's try calling it to see what it does."
   ]
  },
  {
   "cell_type": "code",
   "execution_count": 10,
   "id": "ff0f4e80-c86a-48de-8ee2-d4679b7c97a9",
   "metadata": {},
   "outputs": [
    {
     "data": {
      "text/plain": [
       "{'Jane': [1, 2], 'Joe': [0]}"
      ]
     },
     "execution_count": 10,
     "metadata": {},
     "output_type": "execute_result"
    }
   ],
   "source": [
    "grouped.groups"
   ]
  },
  {
   "cell_type": "markdown",
   "id": "ec78cf69-2a1c-45b4-b956-058b1c7d0f40",
   "metadata": {},
   "source": [
    "Aha! We can see that our original data has now been grouped by the `first` name, and the data structure has stored references to the row (or \"index\" in `pandas` lingo) where each name appears. \n",
    "\n",
    "> NOTE: The `dir` function can be handy, but we also encourage you to first review the official documentation for a class or function once you've determined whether it's a class or some other kind of object using the `type` function. That's a natural -- and arguably more \"normal\" or traditional -- coding workflow.\n",
    "\n",
    "Armed with these tools, we can rinse and repeat this process for each method call."
   ]
  },
  {
   "cell_type": "code",
   "execution_count": 16,
   "id": "8725697e-2cd6-4e0e-86f7-5486321eccb1",
   "metadata": {},
   "outputs": [
    {
     "data": {
      "text/plain": [
       "pandas.core.series.Series"
      ]
     },
     "execution_count": 16,
     "metadata": {},
     "output_type": "execute_result"
    }
   ],
   "source": [
    "sized = grouped.size()\n",
    "type(sized) # Now we have a pandas Series"
   ]
  },
  {
   "cell_type": "code",
   "execution_count": 17,
   "id": "180bdbc7-e61a-4286-8e70-0c139be9bd8b",
   "metadata": {},
   "outputs": [
    {
     "data": {
      "text/plain": [
       "pandas.core.series.Series"
      ]
     },
     "execution_count": 17,
     "metadata": {},
     "output_type": "execute_result"
    }
   ],
   "source": [
    "renamed = sized.rename('count_of_first_names')\n",
    "type(renamed) # still a Series..."
   ]
  },
  {
   "cell_type": "code",
   "execution_count": 18,
   "id": "b484f1b0-e249-4fcb-9caa-9e72829a9466",
   "metadata": {},
   "outputs": [
    {
     "data": {
      "text/plain": [
       "pandas.core.frame.DataFrame"
      ]
     },
     "execution_count": 18,
     "metadata": {},
     "output_type": "execute_result"
    }
   ],
   "source": [
    "new_df = renamed.reset_index()\n",
    "type(df) # Now back to a DataFrame"
   ]
  },
  {
   "cell_type": "markdown",
   "id": "cac4479e-ea62-4917-8545-ab726ccb0e0e",
   "metadata": {},
   "source": [
    "You should now have a sense of how each step in the chain is working.\n",
    "\n",
    "And hopefully you appreciate that it's critical to know what data type you're operating on at each step in the chain, in order to know which methods or data attributes are available at a given step.\n",
    "\n",
    "Deconstructing code in this way can help illuminate what these gnarly one-liners are actually doing."
   ]
  },
  {
   "cell_type": "markdown",
   "id": "eb4a9bd1-1e92-4504-b714-caaf0d05efc7",
   "metadata": {},
   "source": [
    "## Summary"
   ]
  },
  {
   "cell_type": "markdown",
   "id": "54da19a8-2c54-4d1b-8ec8-1e3e96f0d2d6",
   "metadata": {},
   "source": [
    "Folks who use Python libraries such as `pandas` use method chaining extensively as a way to help minimize code clutter."
   ]
  },
  {
   "cell_type": "markdown",
   "id": "39aa69c6-0bf4-4a37-9a11-840753fd0bc9",
   "metadata": {},
   "source": [
    "As you gain comfort with various Python libraries and the language in general, we suspect you'll come to appreciate method chaining as a powerful technique that enables more compact and readable code.\n",
    "\n",
    "But at the outset, it can be downright confusing. Hopefully you're now equipped with a few key concepts that can help you decipher this style of code when you encounter it in the wild."
   ]
  }
 ],
 "metadata": {
  "kernelspec": {
   "display_name": "Python 3 (ipykernel)",
   "language": "python",
   "name": "python3"
  },
  "language_info": {
   "codemirror_mode": {
    "name": "ipython",
    "version": 3
   },
   "file_extension": ".py",
   "mimetype": "text/x-python",
   "name": "python",
   "nbconvert_exporter": "python",
   "pygments_lexer": "ipython3",
   "version": "3.11.4"
  }
 },
 "nbformat": 4,
 "nbformat_minor": 5
}
