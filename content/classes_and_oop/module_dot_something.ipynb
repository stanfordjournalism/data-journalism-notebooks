{
 "cells": [
  {
   "cell_type": "markdown",
   "id": "bf736f9d-72b8-4347-b596-800acfcc1436",
   "metadata": {},
   "source": [
    "# module.something\n",
    "\n",
    "One of the first places you'll notice the dot notation is when importing and using Python [modules](https://docs.python.org/3/tutorial/modules.html).\n",
    "\n",
    "Modules are simply text files ending with a `.py` extension where you can store variables, functions and other bits of code. Pythonistas use modules to help organize their software, grouping related bits of _reusable_ functionality into one or more modules. They typically try to give their modules sensible names that convey their purpose.\n",
    "\n",
    "For example, to download files from the Internet, you might install the `requests` library and use it as follows:\n",
    "\n",
    "```python\n",
    "import requests\n",
    "\n",
    "requests.get('http://example.com')\n",
    "```\n",
    "\n",
    "In the above example, we imported a module called `requests`. And inside that module lives a function called `get`, which can be used to grab files from the web (in this case, the HTML source code of example.com).\n",
    "\n",
    "### Built-in modules\n",
    "\n",
    "The Python language ships with oodles of [built-in libraries](https://docs.python.org/3/library/index.html) to handle a myriad of useful tasks. These are modules you can immediately import in your code, without having to install libraries using `pip` or `pipenv`.\n",
    "\n",
    "Pythonistas like to say the language comes with \"batteries included\".\n",
    "\n",
    "Let's try working with a few modules. \n",
    "\n",
    "For example, the [sys](https://docs.python.org/3/library/sys.html) module provides access to information about the Python interpreter:"
   ]
  },
  {
   "cell_type": "code",
   "execution_count": null,
   "id": "3cf6e450-8da2-4aa0-af27-0f18eb1c82ef",
   "metadata": {},
   "outputs": [],
   "source": [
    "import sys\n",
    "\n",
    "# List the OS the Python interpreter is running on\n",
    "sys.platform\n"
   ]
  },
  {
   "cell_type": "code",
   "execution_count": null,
   "id": "76424a39-9d84-44b9-9de3-84769ba8a8fa",
   "metadata": {},
   "outputs": [],
   "source": [
    "# List the directories where Python searches for modules it can import\n",
    "sys.path"
   ]
  },
  {
   "cell_type": "markdown",
   "id": "9b3e8789-34a6-4cad-aa9b-d42d668fba38",
   "metadata": {},
   "source": [
    "### Exercise\n",
    "\n",
    "Take a few minutes to review the [Python Standard Library](https://docs.python.org/3/library/index.html). \n",
    "\n",
    "Some useful libaries you might want to check out: \n",
    "\n",
    "- [pathlib](https://docs.python.org/3/library/pathlib.html)\n",
    "- [os](https://docs.python.org/3/library/os.html)\n",
    "- [urllib.request](https://docs.python.org/3/library/urllib.request.html)\n",
    "\n",
    "Choose a library you think might be useful and review the documentation. Then experiment with it. "
   ]
  },
  {
   "cell_type": "markdown",
   "id": "d0da84be-20c7-41ab-9da3-2a6c4810725e",
   "metadata": {},
   "source": [
    "## Bring your own modules to the party\n",
    "\n",
    "You can of course create your own modules to store useful code and access it using the dot notation. As an example, we created a module called [awesome.py](awesome.py).\n",
    "\n",
    "Open the file and check out its contents: a variable, a function and a class (don't worry, we'll get to [classes](hidden_life_of_objects.ipynb) shortly).\n",
    "\n",
    "Now try importing the module and accessing the variable (`NUMBER`) and the function (`hello`). \n",
    "\n",
    "> We'll ignore the class (`Bird`) for now."
   ]
  },
  {
   "cell_type": "code",
   "execution_count": null,
   "id": "f7176bba-893d-49ed-90c3-0834ee6fc526",
   "metadata": {},
   "outputs": [],
   "source": [
    "import awesome"
   ]
  },
  {
   "cell_type": "code",
   "execution_count": null,
   "id": "3831f7b1-435c-439e-a193-590f6dd9db81",
   "metadata": {},
   "outputs": [],
   "source": [
    "awesome.NUMBER"
   ]
  },
  {
   "cell_type": "code",
   "execution_count": null,
   "id": "bfa06c2f-67a0-4288-bd3e-e81a57f6289c",
   "metadata": {},
   "outputs": [],
   "source": [
    "awesome.hello()"
   ]
  },
  {
   "cell_type": "markdown",
   "id": "97aca94c-5f55-4cc8-b9c8-07cf0cc1ca92",
   "metadata": {},
   "source": [
    "Pretty simple, right? \n",
    "\n",
    "> The key takeaway in the context of modules is that the `.` provides access to bits of code stored in importable `.py` files."
   ]
  },
  {
   "cell_type": "markdown",
   "id": "aec4cf9b-8477-44cf-9635-4b2737cc1ddd",
   "metadata": {},
   "source": [
    "### Exercise\n",
    "\n",
    "Try creating your own `.py` module containing a variable and a function. Or just update [awesome.py](awesome.py).\n",
    "\n",
    "Once you've completed that step, import the module and use the code.\n",
    "\n",
    "Experiment with both styles of importing:\n",
    "\n",
    "\n",
    "```python\n",
    "# Import module and access the name using the module.something syntax\n",
    "import my_module\n",
    "my_module.something\n",
    "```\n",
    "\n",
    "```python\n",
    "# Import items directly from the module so you don't have to use module.something syntax\n",
    "from my_module import something\n",
    "something\n",
    "```"
   ]
  },
  {
   "cell_type": "markdown",
   "id": "f432131a-57ff-4e11-82dd-5a17b607b038",
   "metadata": {},
   "source": [
    "## What's next\n",
    "\n",
    "Check out the [Python Libraries tutorial](../python_libraries.ipynb) if you'd like a broader overview / refresher on Python libraries. It includes coverage of how to install third-party libraries.\n",
    "\n",
    "Or hop to the [next installment](hidden_life_of_objects.ipynb) in our *Demystifying Dot Notation* guide. "
   ]
  }
 ],
 "metadata": {
  "kernelspec": {
   "display_name": "Python 3 (ipykernel)",
   "language": "python",
   "name": "python3"
  },
  "language_info": {
   "codemirror_mode": {
    "name": "ipython",
    "version": 3
   },
   "file_extension": ".py",
   "mimetype": "text/x-python",
   "name": "python",
   "nbconvert_exporter": "python",
   "pygments_lexer": "ipython3",
   "version": "3.11.4"
  }
 },
 "nbformat": 4,
 "nbformat_minor": 5
}
