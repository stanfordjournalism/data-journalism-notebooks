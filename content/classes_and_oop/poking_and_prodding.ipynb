{
 "cells": [
  {
   "cell_type": "markdown",
   "id": "59d2ef9d-e649-4036-8975-c7d6bba28fd8",
   "metadata": {
    "tags": []
   },
   "source": [
    "# Poking and prodding objects\n",
    "\n",
    "Python provides a few tools to poke and prod your objects, which can be quite helpful when you're trying to unravel what's happening in a series of \"chained\" method calls.\n",
    "\n",
    "In particular, the built-in [type function](https://docs.python.org/3/library/functions.html#type) will be a trusted friend.\n",
    "\n",
    "Let's create a DataFrame in pandas to illustrate."
   ]
  },
  {
   "cell_type": "code",
   "execution_count": null,
   "id": "fc843922-655c-4662-b8fe-7505268e505a",
   "metadata": {},
   "outputs": [],
   "source": [
    "import pandas as pd\n",
    "d = {\n",
    "    'first': ['Joe', 'Jane', 'Jane'],\n",
    "    'last': ['Smith', 'Smith', 'Doe']\n",
    "}\n",
    "df = pd.DataFrame(data=d)\n",
    "df"
   ]
  },
  {
   "cell_type": "markdown",
   "id": "eb348f66-ab42-46c5-b51d-f9ff51e19806",
   "metadata": {},
   "source": [
    "Now let's say we wanted to count the frequency of first names."
   ]
  },
  {
   "cell_type": "code",
   "execution_count": null,
   "id": "0a619dcc-6dc7-4aba-bbcb-268b3b67485b",
   "metadata": {},
   "outputs": [],
   "source": [
    "df.groupby('first').size().rename('count_of_first_names').reset_index()"
   ]
  },
  {
   "cell_type": "markdown",
   "id": "6c5ba384-e353-4ead-a59e-df94fa711dc2",
   "metadata": {},
   "source": [
    "We can see the final result, but it might be hard to understand _why_ the above works. If we break the code up into separate steps and apply `type`, we can get a handle on how things work."
   ]
  },
  {
   "cell_type": "code",
   "execution_count": null,
   "id": "427067f0-5624-4a12-a65c-193bf3de1d53",
   "metadata": {},
   "outputs": [],
   "source": [
    "grouped = df.groupby('first')\n",
    "type(grouped)"
   ]
  },
  {
   "cell_type": "markdown",
   "id": "4be9b309-e1a5-4ff6-ae8f-e3161e23f33a",
   "metadata": {},
   "source": [
    "Ok, so we now know we have an instance of a class from the pandas library called `DataFrameGroupBy`.\n",
    "\n",
    "At this point, we could further poke at this object using yet another built-in function called [dir](https://docs.python.org/3/library/functions.html#dir). This function is quite handy for listing the attributes (ie variables and methods) that are available on an object such as a class instance."
   ]
  },
  {
   "cell_type": "code",
   "execution_count": null,
   "id": "2b1afa36-535e-4652-8e13-8eb360bfe9a2",
   "metadata": {},
   "outputs": [],
   "source": [
    "dir(grouped)"
   ]
  },
  {
   "cell_type": "markdown",
   "id": "f92e2388-f739-4020-8a56-087f3cce9a8f",
   "metadata": {},
   "source": [
    "OUCH! Okay, so that is quite a long and likely confusing list. If you took time to look closely, you might notice the `groups` attribute. Let's try calling it to see what it does."
   ]
  },
  {
   "cell_type": "code",
   "execution_count": null,
   "id": "ff0f4e80-c86a-48de-8ee2-d4679b7c97a9",
   "metadata": {},
   "outputs": [],
   "source": [
    "grouped.groups"
   ]
  },
  {
   "cell_type": "markdown",
   "id": "ec78cf69-2a1c-45b4-b956-058b1c7d0f40",
   "metadata": {},
   "source": [
    "Aha! We can see that our original data has now been grouped by the `first` name, and the data structure has stored references to the row (or \"index\" in pandas lingo) where each name appears. \n",
    "\n",
    "> NOTE: The `dir` function can be handy, but we also encourage you to first review the official documentation for a class or function once you've determined whether it's a class or some other kind of object using the `type` function. That's a natural -- and arguably more \"normal\" or traditional -- coding workflow.\n",
    "\n",
    "Armed with these tools, we can rinse and repeat this process for each method call."
   ]
  },
  {
   "cell_type": "code",
   "execution_count": null,
   "id": "8725697e-2cd6-4e0e-86f7-5486321eccb1",
   "metadata": {},
   "outputs": [],
   "source": [
    "sized = grouped.size()\n",
    "type(sized) # Now we have a pandas Series"
   ]
  },
  {
   "cell_type": "code",
   "execution_count": null,
   "id": "180bdbc7-e61a-4286-8e70-0c139be9bd8b",
   "metadata": {},
   "outputs": [],
   "source": [
    "renamed = sized.rename('count_of_first_names')\n",
    "type(renamed) # still a Series..."
   ]
  },
  {
   "cell_type": "code",
   "execution_count": null,
   "id": "b484f1b0-e249-4fcb-9caa-9e72829a9466",
   "metadata": {},
   "outputs": [],
   "source": [
    "new_df = renamed.reset_index()\n",
    "type(df) # Now back to a DataFrame"
   ]
  },
  {
   "cell_type": "markdown",
   "id": "cac4479e-ea62-4917-8545-ab726ccb0e0e",
   "metadata": {},
   "source": [
    "You should now have a sense of how each step in the chain is working. \n",
    "\n",
    "And hopefully you appreciate that it's critical to know what data type you're operating on at each step in the chain, in order to know which methods or data attributes are available at a given step.\n",
    "\n",
    "Deconstructing code in this way can help illuminate what these gnarly one-liners are actually doing."
   ]
  },
  {
   "cell_type": "markdown",
   "id": "39aa69c6-0bf4-4a37-9a11-840753fd0bc9",
   "metadata": {},
   "source": [
    "As you gain comfort with various Python libraries and the language in general, we suspect you'll come to appreciate method chaining as a powerful technique that enables more compact and readable code.\n",
    "\n",
    "But at the outset, it can be downright confusing. Hopefully you're now equipped with a few key concepts that can help you decipher this style of code when you encounter it in the wild."
   ]
  }
 ],
 "metadata": {
  "kernelspec": {
   "display_name": "Python 3 (ipykernel)",
   "language": "python",
   "name": "python3"
  },
  "language_info": {
   "codemirror_mode": {
    "name": "ipython",
    "version": 3
   },
   "file_extension": ".py",
   "mimetype": "text/x-python",
   "name": "python",
   "nbconvert_exporter": "python",
   "pygments_lexer": "ipython3",
   "version": "3.11.4"
  }
 },
 "nbformat": 4,
 "nbformat_minor": 5
}
