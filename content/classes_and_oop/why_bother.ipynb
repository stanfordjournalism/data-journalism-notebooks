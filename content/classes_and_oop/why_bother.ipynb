{
 "cells": [
  {
   "cell_type": "markdown",
   "id": "7fff7517-cb87-41eb-810b-f1ec063adcd9",
   "metadata": {
    "tags": []
   },
   "source": [
    "# Why bother with classes and OO at all?\n",
    "\n",
    "It's a fair question to ask why we need all the complexity that comes with classes and, more broadly, object-oriented programming. Can't we all just stop chaining methods and confusing people?\n",
    "\n",
    "After all, it's perfectly possible to write valid and useful Python code without ever creating a class, much less chaining methods. But you'll notice that many libraries use classes, and a primary reason for their existence and widespread use is complexity. Specifically, once you gain some comfort with classes and OO, **you can use them to dramatically reduce the complexity of large code bases**.\n",
    "\n",
    "As programs grow in size from a few lines in one script or Notebook to hundreds or thousands -- or hundreds of thousands -- of lines scattered across many modules, it can become extremely difficult to maintain and debug code. \n",
    "\n",
    "Classes provide a mechanism to model aspects of our code in sensible ways, so we can group together related bits of data and functionality (aka *methods*) and use them in larger programs.\n",
    "\n",
    "For example, if you're building a system to gather and publish election night results, you might want to create classes for `Race` and `Candidate`. In such a system, you could store the votes each candidate received from a given precinct on separate instances of the `Candidate` class (one per candidate). Meanwhile, the `Race` class might have a `determine_winner` method that tallies the vote counts of each candidate and figures out the winner -- or if the race was a tie.\n",
    "\n",
    "Classes can be quite useful in such a system since they let you model real world entities and more easily associate useful data and functionality with each entity. Such an approach can dramatically improve your ability to make sense of complex systems. And of course, you can use this approach for more abstract domains such as reading and writing CSV files, interacting with an operating system, analyzing data, and so on. \n",
    "\n",
    "There are many more features of classes and OO in general -- we've barely scratched the surface here -- that make them useful and flexible tools for writing code, and we encourage you to learn more about them on your Python coding journey.\n",
    "\n",
    "All that said, you may find classes to be overkill in your own daily work. But keep them in mind as a handy tool for managing complexity, especially as the number of lines of code increase.\n",
    "\n",
    "And if nothing else, a basic understanding of classes and how they work will help you understand *how* to use dot-notation to access data and functionality in classes and modules."
   ]
  },
  {
   "cell_type": "code",
   "execution_count": null,
   "id": "431bed77-adca-40c3-b13f-380e9b5889b0",
   "metadata": {},
   "outputs": [],
   "source": []
  }
 ],
 "metadata": {
  "kernelspec": {
   "display_name": "Python 3 (ipykernel)",
   "language": "python",
   "name": "python3"
  },
  "language_info": {
   "codemirror_mode": {
    "name": "ipython",
    "version": 3
   },
   "file_extension": ".py",
   "mimetype": "text/x-python",
   "name": "python",
   "nbconvert_exporter": "python",
   "pygments_lexer": "ipython3",
   "version": "3.11.4"
  }
 },
 "nbformat": 4,
 "nbformat_minor": 5
}
