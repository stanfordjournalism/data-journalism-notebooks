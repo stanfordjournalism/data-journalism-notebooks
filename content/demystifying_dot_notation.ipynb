{
 "cells": [
  {
   "cell_type": "markdown",
   "id": "1c2e3f01-e19f-4ec8-a8e3-b7dae9069d84",
   "metadata": {},
   "source": [
    "# What *is* that \"dot\" thing all about?\n",
    "\n",
    "Early in your Python coding journey, you’ll begin encountering bits of code that use a dot (`.`).\n",
    "\n",
    "- [`requests.get`](https://requests.readthedocs.io/en/latest/user/quickstart/#make-a-request)\n",
    "- [`\"some string”.upper()`](https://docs.python.org/3/library/stdtypes.html#str.upper)\n",
    "- [`csv.DictWriter`](https://docs.python.org/3/library/csv.html#csv.DictReader)\n",
    "- [`import sys; print(sys.path)`](https://docs.python.org/3/library/sys.html#sys.path)\n",
    " \n",
    "You may even have the misfortune of running into snippets such as below, common in data analysis code using [pandas](https://pandas.pydata.org/):\n",
    "\n",
    "```\n",
    "dataframe.groupby(\"some_field”).size().rename(\"new_name\").reset_index()\n",
    "```\n",
    "\n",
    "Such code snippets use a `.` to access [functions](art_of_functions.ipynb), [methods](https://docs.python.org/3/tutorial/modules.html), [classes](https://docs.python.org/3/tutorial/classes.html) and variables inside of Python [objects](https://docs.python.org/3/glossary.html#term-object) such as classes and [modules](https://docs.python.org/3/tutorial/modules.html).\n",
    "\n",
    "It can all get quite confusing, especially if you're unfamiliar with terms such as _class_, _method_, _module_ and _object_. \n",
    "\n",
    "Below, we'll demonstrate various scenarios where you'll typically encounter the *dot notation*, as it's formally known, and demystify some of these terms and the role the `.` plays in various contexts. Along the way, you'll get a brief primer on some of the more advanced features of Python. You don't have to memorize these techniques or even use them in your own code, but understanding them will dramatically improve your ability to read other people's code and make use of third-party [libraries](python_libraries.ipynb)."
   ]
  },
  {
   "cell_type": "markdown",
   "id": "71eab8a1-84ea-4790-9f49-f3912f79898b",
   "metadata": {
    "tags": []
   },
   "source": [
    "## module.something\n",
    "\n",
    "One of the first places you'll notice the dot notation is when importing and using Python [modules](https://docs.python.org/3/tutorial/modules.html).\n",
    "\n",
    "Modules are simply text files ending with a `.py` extension where you can store variables, functions and other bits of code. Coders use modules to help organize their software, grouping related bits of _reusable_ functionality into one or more modules. They typically try to give their modules sensible names that convey their purpose.\n",
    "\n",
    "For example, to download files from the Internet, you might install the `requests` library and use it as follows:\n",
    "\n",
    "```python\n",
    "import requests\n",
    "\n",
    "requests.get('http://example.com')\n",
    "```\n",
    "\n",
    "In the above example, we imported a module called `requests`. And inside that module lives a function called `get`, which can be used to grab files from the web (in this case, the HTML source code of example.com).\n",
    "\n",
    "### Built-in modules\n",
    "\n",
    "Let's try working with a few modules. \n",
    "\n",
    "For example, the [sys](https://docs.python.org/3/library/sys.html) module provides access to information about the Python interpreter:"
   ]
  },
  {
   "cell_type": "code",
   "execution_count": null,
   "id": "2cb10127-554b-4722-8b72-f65186acb0f3",
   "metadata": {},
   "outputs": [],
   "source": [
    "import sys\n",
    "\n",
    "# List the OS the Python interpreter is running on\n",
    "sys.platform\n"
   ]
  },
  {
   "cell_type": "code",
   "execution_count": null,
   "id": "63864033-3a10-42f4-ac2e-88dcd9b7f94b",
   "metadata": {},
   "outputs": [],
   "source": [
    "# List the directories where Python searches for modules it can import\n",
    "sys.path"
   ]
  },
  {
   "cell_type": "markdown",
   "id": "7eae6152-0f7a-45b4-ba4d-f9d5906bb0d8",
   "metadata": {},
   "source": [
    "### Bring your own modules to the party\n",
    "\n",
    "You can of course create your own modules to store useful code and access them using the dot notation. As an example, we created a module called [awesome.py](awesome.py).\n",
    "\n",
    "Open the file and check out its contents: a variable, a function and a class.\n",
    "\n",
    "Now try importing the module and accessing the variable (`NUMBER`) and the function (`hello`). \n",
    "\n",
    "> We'll ignore the class (`Bird`) for now. Don't worry, we'll get to that in a moment."
   ]
  },
  {
   "cell_type": "code",
   "execution_count": null,
   "id": "2425067b-44eb-4371-97a8-c01b929c6fba",
   "metadata": {},
   "outputs": [],
   "source": [
    "import awesome"
   ]
  },
  {
   "cell_type": "code",
   "execution_count": null,
   "id": "fff2eaab-99a7-482f-9a94-9b07a1636d58",
   "metadata": {},
   "outputs": [],
   "source": [
    "awesome.NUMBER"
   ]
  },
  {
   "cell_type": "code",
   "execution_count": null,
   "id": "728f6548-9f78-49a2-84c4-5dab2064c204",
   "metadata": {},
   "outputs": [],
   "source": [
    "awesome.hello()"
   ]
  },
  {
   "cell_type": "markdown",
   "id": "c09827b2-b80f-44f2-96e8-0ec22b4d591c",
   "metadata": {},
   "source": [
    "Pretty simple, right? The key takeaway in the context of modules is that the `.` provides access to bits of code stored in importable `.py` files."
   ]
  },
  {
   "cell_type": "markdown",
   "id": "675fe991-f842-41d9-8f99-3a9cd532f98d",
   "metadata": {},
   "source": [
    "## The Hidden Life of Objects\n",
    "\n",
    "Like many programming languages, Python supports a style of coding known as [object-oriented programming](https://en.wikipedia.org/wiki/Object-oriented_programming). Object-oriented coding, or OO, is a powerful paradigm that allows you to combine data and code into objects. \n",
    "\n",
    "The mechanism for this blending of data and code is a [class](https://docs.python.org/3/tutorial/classes.html). We typically create classes to model some entity and its related attributes and behaviors.\n",
    "\n",
    "For example, we've included a fun little `Bird` class in the [awesome.py](awesome.py) module. To use this class, you simply call it using parentheses `()`, the same way that you would call a function."
   ]
  },
  {
   "cell_type": "code",
   "execution_count": null,
   "id": "6322f6cd-4ca1-4693-9e1f-68452baaa45f",
   "metadata": {},
   "outputs": [],
   "source": [
    "# No need to import awesome again since we did so above\n",
    "my_bird = awesome.Bird()"
   ]
  },
  {
   "cell_type": "markdown",
   "id": "bc62eedd-603f-4f02-8ecf-e8a990740a0a",
   "metadata": {},
   "source": [
    "Above, we created what is known as an _instance_ of the `Bird` class. Think of the class as the mold from which many individual birds can be stamped.\n",
    "\n",
    "Once \"instantiated\", you can access the data and code related to a bird using the `.` notation:"
   ]
  },
  {
   "cell_type": "code",
   "execution_count": null,
   "id": "32864a3c-1324-4d4b-8d25-143c772285cc",
   "metadata": {},
   "outputs": [],
   "source": [
    "my_bird.name # print the default name for the bird"
   ]
  },
  {
   "cell_type": "code",
   "execution_count": null,
   "id": "439a58b1-851d-419e-a43c-2f7534bd5750",
   "metadata": {},
   "outputs": [],
   "source": [
    "my_bird.fly()"
   ]
  },
  {
   "cell_type": "code",
   "execution_count": null,
   "id": "3afb3c9a-e719-4aec-8895-2908267d90df",
   "metadata": {},
   "outputs": [],
   "source": [
    "my_bird.eat_worm()"
   ]
  },
  {
   "cell_type": "markdown",
   "id": "0d9a4e00-fd94-4c13-9bb7-67548126a7b7",
   "metadata": {},
   "source": [
    "If you examine the `Bird` class, you'll notice that it contains a number of code snippets that look suspciously similar to functions. For example, here is the code for `fly`:\n",
    "\n",
    "```python\n",
    "def fly(self):\n",
    "    print(\"I'm flying!! WEEE!!!\")\n",
    "```\n",
    "\n",
    "## Always refer to your \"self\"\n",
    "\n",
    "The `fly` method looks, feels and acts like a function because it basically is a function. However, when a function lives inside of a class, we call it a [method](https://docs.python.org/3/tutorial/modules.html).\n",
    "\n",
    "The strange and often confusing nuance about methods is the use of the `self` argument. `self` is always required as the first argument on methods, and is assumed to be present by Python's OO system (so if you forget it, Python will raise an error).\n",
    "\n",
    "> You could in theory name `self` something else (e.g. `this`, `that` or `owl`). But it's a universal convention, and if you use a different name, be prepared for Pythonistas to come after you with pitchforks.\n",
    "\n",
    "`self` is required as the first argument in a method because it gives Python a way to link methods with *a particular instance of the class*, and all the bits of data that are associated with that instance. In this way, when you call a method on a class, Python knows which bundle of data to operate on.\n",
    "\n",
    "This point may not be obvious in the case of the `fly` method, which is quite simple. Below we'll look at a different method on the `Bird` class that helps clarify why we need the `self` argument.\n",
    "\n",
    "## The widget factory\n",
    "\n",
    "It's often helpful to think of classes as the molds in a widget factory, used to stamp out new widgets on the assembly line.\n",
    "\n",
    "It can be hard to understand `self` in the abstract, until we see it being used. The `change_name` method on the class can help drive home the point. Here is the code for that method:\n",
    "\n",
    "```python\n",
    "def change_name(self, new_name):\n",
    "    # Set the new name on the *instance* using \"self\"\n",
    "    self.name = new_name\n",
    "    print(f'My name is now {self.name}')\n",
    "```\n",
    "\n",
    "This method allows you to change the name of a bird by replacing the default name (`Robin`) that was created when we instantiated the class."
   ]
  },
  {
   "cell_type": "code",
   "execution_count": null,
   "id": "f20e0ddf-3094-4f9b-aeca-9a71fea4e522",
   "metadata": {},
   "outputs": [],
   "source": [
    "my_bird.change_name('Debbie')"
   ]
  },
  {
   "cell_type": "markdown",
   "id": "11c0dc03-6194-457b-8bda-c2214255c478",
   "metadata": {},
   "source": [
    "You can now verify the name of your bird is different by directly accessing it's `name` attribute:"
   ]
  },
  {
   "cell_type": "code",
   "execution_count": null,
   "id": "5cfcaab3-ff9c-4cb8-a94d-23cb121c4998",
   "metadata": {},
   "outputs": [],
   "source": [
    "my_bird.name"
   ]
  },
  {
   "cell_type": "markdown",
   "id": "ced50753-00d3-4c16-a832-3bbc2cac24c2",
   "metadata": {},
   "source": [
    "It's important to emphasize that we have *not* changed the `Bird` class itself. Instead, we simply updated one instance of the bird class stored in the variable `my_bird`. Let's create another bird to illustrate:"
   ]
  },
  {
   "cell_type": "code",
   "execution_count": null,
   "id": "04277d2a-9ca3-4650-8893-aba9094a2c91",
   "metadata": {},
   "outputs": [],
   "source": [
    "your_bird = awesome.Bird()\n",
    "your_bird.name"
   ]
  },
  {
   "cell_type": "markdown",
   "id": "a032d17a-6e1d-4494-809b-6407ffd3fd26",
   "metadata": {},
   "source": [
    "Above, we see that `your_bird` has the default name of `Robin`. But we can of course change that:"
   ]
  },
  {
   "cell_type": "code",
   "execution_count": null,
   "id": "becbdb5a-3152-4be7-b8a3-952e11a5225b",
   "metadata": {},
   "outputs": [],
   "source": [
    "your_bird.change_name('Suzie')"
   ]
  },
  {
   "cell_type": "code",
   "execution_count": null,
   "id": "8ddbc869-8ffb-498c-9cef-ebae7c67c95e",
   "metadata": {},
   "outputs": [],
   "source": [
    "your_bird.name"
   ]
  },
  {
   "cell_type": "markdown",
   "id": "324b5681-ca53-4986-add0-62e77236b6b5",
   "metadata": {},
   "source": [
    "This example is arguably more complex than needed, since it's also possible to directly change the value of an attribute without the use of a method. Updating an instance attribute works the same way as updating a variable. You simply assign a new value by using the `=` sign:"
   ]
  },
  {
   "cell_type": "code",
   "execution_count": null,
   "id": "9421c320-f5c5-4183-8ec0-3b9765199f0b",
   "metadata": {},
   "outputs": [],
   "source": [
    "my_bird.name = 'Lenny'"
   ]
  },
  {
   "cell_type": "code",
   "execution_count": null,
   "id": "d51f43c0-ee4a-424d-8ce2-5a697fb937a3",
   "metadata": {},
   "outputs": [],
   "source": [
    "my_bird.name"
   ]
  },
  {
   "cell_type": "markdown",
   "id": "b2372f9d-41d0-4c93-9099-cfc9a33dc4ab",
   "metadata": {},
   "source": [
    "## Classes and methods in the wild\n",
    "\n",
    "While the `Bird` example is contrived and a bit silly, it hopefully conveys the critical point that classes can be used to stamp out many instances. And once you understand these basics about classes, instances and methods, all sorts of dot-notation syntax starts to make sense.\n",
    "\n",
    "For example, Python's [string data type](https://docs.python.org/3/library/string.html) has oodles of useful methods that can be called on instances of a string:"
   ]
  },
  {
   "cell_type": "code",
   "execution_count": null,
   "id": "9d243a44-f2dd-4df3-8fd1-13acc2d83931",
   "metadata": {},
   "outputs": [],
   "source": [
    "my_string = 'hello' # create a string instance\n",
    "my_string.upper()   # make it loud and screamy"
   ]
  },
  {
   "cell_type": "code",
   "execution_count": null,
   "id": "57600cb0-ee4a-4bfc-be69-1709071c1359",
   "metadata": {},
   "outputs": [],
   "source": [
    "my_string.startswith(\"h\") # check the first letter"
   ]
  },
  {
   "cell_type": "code",
   "execution_count": null,
   "id": "b9817f50-46b2-4187-988a-6642b692c0fc",
   "metadata": {},
   "outputs": [],
   "source": [
    "my_string.endswith(\"l\") # check the last letter"
   ]
  },
  {
   "cell_type": "markdown",
   "id": "1f6a25f1-8d10-4ff8-a1b4-87f42d904899",
   "metadata": {},
   "source": [
    "And the fun doesn't stop with strings. Lists and [dictionaries](python_dict_basics.ipynb) have their own unique methods as well:"
   ]
  },
  {
   "cell_type": "code",
   "execution_count": null,
   "id": "91ebda4c-06f7-47ba-b5f8-c7f88f2c6f83",
   "metadata": {},
   "outputs": [],
   "source": [
    "numbers = [1,2,3]\n",
    "person = {\n",
    "    'name': 'Joe',\n",
    "    'age': 30,\n",
    "    'favorite color': 'mauve?'\n",
    "}"
   ]
  },
  {
   "cell_type": "code",
   "execution_count": null,
   "id": "5fefce51-c981-49ab-a275-1831519fc1a6",
   "metadata": {},
   "outputs": [],
   "source": [
    "numbers.append(4) # add a number to the end of the list\n",
    "numbers"
   ]
  },
  {
   "cell_type": "code",
   "execution_count": null,
   "id": "85ca83d6-b402-4936-a897-52789a7b8c14",
   "metadata": {},
   "outputs": [],
   "source": [
    "numbers.pop(0) # remove the number in the first position\n",
    "numbers"
   ]
  },
  {
   "cell_type": "code",
   "execution_count": null,
   "id": "9926598a-a9f1-45df-9c03-ad0c23ccdddb",
   "metadata": {},
   "outputs": [],
   "source": [
    "person.keys() # list the keys in the dictionary"
   ]
  },
  {
   "cell_type": "code",
   "execution_count": null,
   "id": "a16cdf63-5fe3-4722-bb3f-beef987089ed",
   "metadata": {},
   "outputs": [],
   "source": [
    "person.values() # list the values in the dictionary"
   ]
  },
  {
   "cell_type": "markdown",
   "id": "13afd1f5-3cec-4cef-858a-6728e42de27c",
   "metadata": {},
   "source": [
    "And of course, libraries make extensive use of classes."
   ]
  },
  {
   "cell_type": "code",
   "execution_count": null,
   "id": "898d6f6f-36da-46df-b38c-36c7b90ca663",
   "metadata": {},
   "outputs": [],
   "source": [
    "import csv\n",
    "\n",
    "with open('files/data/animal_ratings.csv') as infile:\n",
    "    # Create an instance of the DictReader class\n",
    "    reader = csv.DictReader(infile)\n",
    "    # Then loop through the rows and do stuff\n",
    "    for row in reader:\n",
    "        animal = row['animal'].title()\n",
    "        rating = row['awesomeness']\n",
    "        print(f\"{animal} has an awesomeness rating of {rating}\")"
   ]
  },
  {
   "cell_type": "markdown",
   "id": "291b18c3-3bf6-4980-b0cb-f102cdc30036",
   "metadata": {},
   "source": [
    "## Method Chaining\n",
    "\n",
    "Remember that _pandas_ snippet from way at the beginning of this tutorial? \n",
    "\n",
    "```\n",
    "dataframe.groupby(\"some_field”).size().rename(\"new_name\").reset_index()\n",
    "```\n",
    "\n",
    "That style of syntax is known as _method chaining_. \n",
    "\n",
    "Now that you're armed with the knowledge that _methods_ are basically functions that live in classes (and instances of those classes), you can begin to make sense of the phrase \"method chaining\": It's a technique that allows you to consecutively call methods, one after another, _without having to store and operate on the return value of each step in the chain._\n",
    "\n",
    "There's one additional concept that's required to make sense of such code.\n",
    "\n",
    "Similar to Python functions, methods can explicitly `return` a value.\n",
    "\n",
    "Let's construct a new class to prove the point. Here we'll introduce a special method called [\\_\\_init\\_\\_](https://docs.python.org/3/tutorial/classes.html#class-objects) that you can use to add data attributes to an instance when you first create it. The syntax is a bit gnarly, but a simple demo should hopefully make its purpose clear."
   ]
  },
  {
   "cell_type": "code",
   "execution_count": null,
   "id": "22f20df2-3deb-482d-98a7-f79544d1b3cc",
   "metadata": {},
   "outputs": [],
   "source": [
    "class Number:\n",
    "    \n",
    "    def __init__(self, number):\n",
    "        # Store the number in \"value\" when you create the instance\n",
    "        self.value = number\n",
    "        \n",
    "    def add(self, other_number):\n",
    "        # Add our original number (stored in self.value) to some other_number\n",
    "        # and return the solution\n",
    "        return self.value + other_number"
   ]
  },
  {
   "cell_type": "markdown",
   "id": "554b9e4b-3e0e-4b2e-aeea-9bca434dafa1",
   "metadata": {},
   "source": [
    "**Important**: Note that above, our `add` method plucks its value from...well...the `value` attribute, which is stored when we create the instance. The `add` method then adds its own stored value to `other_number` and returns the solution.\n",
    "\n",
    "Ok, let's create an instance of `Number`. Note that because our special `__init__` method requires a number argument, we must pass this argument when we create the instance."
   ]
  },
  {
   "cell_type": "code",
   "execution_count": null,
   "id": "78869696-8b56-406d-a402-30d89e5d2b76",
   "metadata": {},
   "outputs": [],
   "source": [
    "num = Number(2) # The parens are reminiscent of a function call, right?\n",
    "num.value"
   ]
  },
  {
   "cell_type": "markdown",
   "id": "0bb7fdbb-4d6c-4c1e-944e-898cd0527c01",
   "metadata": {},
   "source": [
    "We can see that by passing `2` to the `Number` class when we create the instance, the number gets stored in the `value` attribute. Now let's do some addition."
   ]
  },
  {
   "cell_type": "code",
   "execution_count": null,
   "id": "29ac33d4-9e67-4ffa-ba8a-ac3f576b873b",
   "metadata": {},
   "outputs": [],
   "source": [
    "num.add(3) # Add 3 to our number"
   ]
  },
  {
   "cell_type": "markdown",
   "id": "e345b46e-ca77-411e-ab05-d83f8ca96080",
   "metadata": {},
   "source": [
    "Ok, now that you have a sense of `self` -- pun intended -- and the fact that methods can return values, you're ready for one last concept that will help you grok the \"method chaining\" syntax.\n",
    "\n",
    "\n",
    "Let's say that we wanted a number class that (1) was able to update itself **_and_** (2) allow you to perform multiple consecutive operations -- all without having to individually store and operate on the value in each step.\n",
    "\n",
    "The first requirement is pretty straight-forward. We could update the `add` method to simply store the new solution in the `value` attribute:\n",
    "\n",
    "\n",
    "```python\n",
    "    def add(self, other_number):\n",
    "        # Replace the original value with the newly calculated value\n",
    "        self.value = self.value + other_number\n",
    "        # Return the updated value\n",
    "        return self.value\n",
    "```\n",
    "\n",
    "Let's create a new class using this approach."
   ]
  },
  {
   "cell_type": "code",
   "execution_count": null,
   "id": "b18d6995-9671-43d2-ac39-718370d37e07",
   "metadata": {},
   "outputs": [],
   "source": [
    "class FancyNumber:\n",
    "    \n",
    "    def __init__(self, number):\n",
    "        self.value = number\n",
    "        \n",
    "    def add(self, other_number):\n",
    "        # Replace the original value with the newly calculated value\n",
    "        self.value = self.value + other_number\n",
    "        # Return the updated value\n",
    "        return self.value"
   ]
  },
  {
   "cell_type": "code",
   "execution_count": null,
   "id": "1bcb11e7-dbf1-42e8-b3a6-2520753183fe",
   "metadata": {},
   "outputs": [],
   "source": [
    "num = FancyNumber(1)\n",
    "num.add(1)"
   ]
  },
  {
   "cell_type": "markdown",
   "id": "d287ea5b-de3c-48e4-929f-7a06a69affec",
   "metadata": {},
   "source": [
    "Let's confirm the underlying value of our number has changed from `1` to `2`."
   ]
  },
  {
   "cell_type": "code",
   "execution_count": null,
   "id": "0b227bf6-39ed-4cea-8a15-17f50f7aa564",
   "metadata": {},
   "outputs": [],
   "source": [
    "num.value # should now be 2"
   ]
  },
  {
   "cell_type": "markdown",
   "id": "ec472529-42df-48ef-95f2-09a1009924d7",
   "metadata": {},
   "source": [
    "We could continue updating the number by calling `num.add`:"
   ]
  },
  {
   "cell_type": "code",
   "execution_count": null,
   "id": "bd46c236-6997-4ce4-b9fe-fc2a6f90817b",
   "metadata": {},
   "outputs": [],
   "source": [
    "num.add(1)\n",
    "num.add(1)\n",
    "num.value # should now be 4"
   ]
  },
  {
   "cell_type": "markdown",
   "id": "0691eef2-5dad-4fc8-9757-f4a63065b38e",
   "metadata": {},
   "source": [
    "But Pythonistas and coders in general are allergic to keystrokes and visual clutter. Wouldn't it be nice if we could simply reference `num` a single time, and then just call `add` repeatedly? Let's try it:"
   ]
  },
  {
   "cell_type": "code",
   "execution_count": null,
   "id": "6eca50e7-b003-421a-9811-0c70fdce5401",
   "metadata": {},
   "outputs": [],
   "source": [
    "num = FancyNumber(0)\n",
    "num.value"
   ]
  },
  {
   "cell_type": "code",
   "execution_count": null,
   "id": "159210ba-4cea-4736-a392-f232e319231c",
   "metadata": {},
   "outputs": [],
   "source": [
    "num.add(1).add(1)"
   ]
  },
  {
   "cell_type": "markdown",
   "id": "c3c9756b-1b22-48f6-9449-d530433ad770",
   "metadata": {},
   "source": [
    "Ruh roh! Python got angry at us!\n",
    "\n",
    "Read the error message carefully. It states that the `int` object has no attribute called `add`. \n",
    "\n",
    "Now look back at our `FancyNumber` class. Notice the `add` method is returning an integer (ie the sum of the original value and some other number)?\n",
    "\n",
    "We already know how classes can serve as containers for related _attributes_ in the form of data and methods. Unfortunately for us, Python's built-in integer data type does not have a method called `add`. Don't believe us? Check out [the docs](https://docs.python.org/3/library/stdtypes.html#numeric-types-int-float-complex).\n",
    "\n",
    "So how do we fix this situation? We clearly need to return something other than an integer in order to implement method chaining on our `FancyNumber` class.\n",
    "\n",
    "Let's take stock of some key concepts:\n",
    "\n",
    "1. Methods can return values\n",
    "2. Python uses the `self` argument to reference specific instances of a class\n",
    "\n",
    "So what if, instead of returning an integer, our `add` method simply returned itself (ie the instance of the class). Let's create one last version of the class and see if it works.\n",
    "\n"
   ]
  },
  {
   "cell_type": "code",
   "execution_count": null,
   "id": "bbba4512-7af5-4ed3-8936-f21895d83db0",
   "metadata": {},
   "outputs": [],
   "source": [
    "# A number class that supports method chaining\n",
    "class FanciestNumber:\n",
    "    \n",
    "    def __init__(self, number):\n",
    "        self.value = number\n",
    "        \n",
    "    def add(self, other_number):\n",
    "        # Replace the original value with the newly calculated value\n",
    "        self.value = self.value + other_number\n",
    "        # Return the instance of the class (NOT its current value)\n",
    "        return self"
   ]
  },
  {
   "cell_type": "code",
   "execution_count": null,
   "id": "a18812cf-fc0e-4c8f-9cda-7618b5973388",
   "metadata": {},
   "outputs": [],
   "source": [
    "num = FanciestNumber(1)"
   ]
  },
  {
   "cell_type": "code",
   "execution_count": null,
   "id": "8f158209-78ea-4802-81b2-7de20cc2a482",
   "metadata": {},
   "outputs": [],
   "source": [
    "num.add(1).add(1)\n",
    "num.value # This should be 3"
   ]
  },
  {
   "cell_type": "markdown",
   "id": "13284c0d-0548-473e-87b6-799bd11fd85a",
   "metadata": {},
   "source": [
    "That did the trick!! We now have a number that updates itself and allows us to repeatedly call the `add` method.\n",
    "\n",
    "We should note you can use method chaining with different types of objects. For example, we could have done some basic method chaining using our very first implementation of `Number`:"
   ]
  },
  {
   "cell_type": "code",
   "execution_count": null,
   "id": "27b2d17a-a174-4dc6-8756-6007a90b8a50",
   "metadata": {},
   "outputs": [],
   "source": [
    "num = Number(1)\n",
    "num.add(1).bit_count()"
   ]
  },
  {
   "cell_type": "markdown",
   "id": "816ecbe1-ccf7-4b0b-a359-a391a81ed1ad",
   "metadata": {},
   "source": [
    "Above, the `add` method is of course on our original `Number` class. But the `bit_count` method is a (not so frequently used) method on integers. The important point is that you **when you encounter (or use) method chaining, it's critical that you remain aware of the return value at every point in the chain.**\n",
    "\n",
    "If you're ever in doubt, you can rewrite the code to use individual steps. In fact, it can be helpful to apply this approach when first writing the code. Once you're confident the code works as expected, you can _then_ rewrite it into a more compact form using method chaining."
   ]
  },
  {
   "cell_type": "code",
   "execution_count": null,
   "id": "a3614371-68cc-40ae-8ad8-a646b8f01f1a",
   "metadata": {},
   "outputs": [],
   "source": [
    "num = Number(2)\n",
    "value = num.add(1)\n",
    "value.bit_count()\n",
    "\n",
    "# You can the rewrite the above as num.add(1).bit_count()"
   ]
  },
  {
   "cell_type": "markdown",
   "id": "83a14698-cbb5-4dd4-99c9-f594b42e503c",
   "metadata": {},
   "source": [
    "Folks who use Python libraries such as [pandas](https://pandas.pydata.org/docs/user_guide/index.html) -- e.g. its [DataFrame class](https://pandas.pydata.org/docs/reference/api/pandas.DataFrame.html) -- use method chaining extensively as a way to help reduce clutter. \n",
    "\n",
    "Remember that gnarly one-liner?\n",
    "\n",
    "```\n",
    "dataframe.groupby(\"some_field”).size().rename(\"new_name\").reset_index()\n",
    "```\n",
    "\n",
    "You _could_ rewrite this snippet as a series of steps:\n",
    "\n",
    "```\n",
    "grouped = dataframe.groupby('some_field')\n",
    "sized = grouped.size()\n",
    "renamed = sized.rename(\"some_name\")\n",
    "df = renamed.reset_index()\n",
    "df\n",
    "```\n",
    "\n",
    "But with method chaining, you can avoid having to create intermediate variables and just perform multiple operations on each version of the DataFrame instance (or whatever the return value is at a given point in the chain)."
   ]
  },
  {
   "cell_type": "markdown",
   "id": "83751496-a1e5-44b3-9bca-584709d1af8d",
   "metadata": {},
   "source": [
    "## Poking and prodding objects\n",
    "\n",
    "Python provides a few tools to poke and prod your objects, which can be quite helpful when you're trying to unravel what's happen in a series of \"chained\" method calls.\n",
    "\n",
    "In particular, the built-in [type function](https://docs.python.org/3/library/functions.html#type) will be a trusted friend.\n",
    "\n",
    "Let's create a DataFrame in pandas to illustrate."
   ]
  },
  {
   "cell_type": "code",
   "execution_count": null,
   "id": "8b6abd47-457b-4fca-a890-b9461063bca3",
   "metadata": {},
   "outputs": [],
   "source": [
    "import pandas as pd\n",
    "d = {\n",
    "    'first': ['Joe', 'Jane', 'Jane'],\n",
    "    'last': ['Smith', 'Smith', 'Doe']\n",
    "}\n",
    "df = pd.DataFrame(data=d)\n",
    "df"
   ]
  },
  {
   "cell_type": "markdown",
   "id": "60cac1ad-baff-4ec4-a2b5-7182ea2a786e",
   "metadata": {},
   "source": [
    "Now let's say we wanted to count the frequency of first names."
   ]
  },
  {
   "cell_type": "code",
   "execution_count": null,
   "id": "47066f08-a537-4d20-8609-b601e86a77c2",
   "metadata": {},
   "outputs": [],
   "source": [
    "df.groupby('first').size().rename('count_of_first_names').reset_index()"
   ]
  },
  {
   "cell_type": "markdown",
   "id": "2945cdf6-c1d7-44ef-942d-f1a41184df0d",
   "metadata": {},
   "source": [
    "We can see the final result, but it might be hard to understand _why_ the above works. If we break the code up into separate steps and apply `type`, we can get a handle on how things work."
   ]
  },
  {
   "cell_type": "code",
   "execution_count": null,
   "id": "f5e851a9-f0b7-4855-9ec5-869af30a9076",
   "metadata": {},
   "outputs": [],
   "source": [
    "grouped = df.groupby('first')\n",
    "type(grouped)"
   ]
  },
  {
   "cell_type": "markdown",
   "id": "1169c452-f07e-43e5-a52a-072720691d40",
   "metadata": {},
   "source": [
    "Ok, so we now know we have an instance of a class from the pandas library called `DataFrameGroupBy`.\n",
    "\n",
    "At this point, we could further poke at this object using yet another built-in function called [dir](https://docs.python.org/3/library/functions.html#dir). This function is quite handy for listing the attributes (ie variables and methods) that are available in an object such as a class instance."
   ]
  },
  {
   "cell_type": "code",
   "execution_count": null,
   "id": "6eadc69e-067a-48dc-86c1-7463001a2d23",
   "metadata": {},
   "outputs": [],
   "source": [
    "dir(grouped)"
   ]
  },
  {
   "cell_type": "markdown",
   "id": "e35a1a26-40b6-4462-954f-5bd2b5df76bb",
   "metadata": {},
   "source": [
    "OUCH! Okay, so that is quite a long and likely confusing list. If you took time to look closely, you might notice the `groups` attribute. Let's try calling it to see what it does."
   ]
  },
  {
   "cell_type": "code",
   "execution_count": null,
   "id": "c2803981-95b4-4a1c-97ac-531e01d97b9b",
   "metadata": {},
   "outputs": [],
   "source": [
    "grouped.groups"
   ]
  },
  {
   "cell_type": "markdown",
   "id": "0e5252b2-dac9-40c0-b980-2b13d1e31c96",
   "metadata": {},
   "source": [
    "Aha! We can see that our original data has now been grouped by the `first` name, and the data structure has stored references to the row (or \"index\" in pandas lingo) where each name appear. \n",
    "\n",
    "> NOTE: The `dir` function can be handy, but we also encourage you to first review the official documentation for a class or function once you've determined what it is using the `type` function. That's perhaps the more \"normal\" course of action.\n",
    "\n",
    "Armed with these tools, we can rinse and repeat this process for each method call."
   ]
  },
  {
   "cell_type": "code",
   "execution_count": null,
   "id": "78cdb9ec-87b0-4ed0-a0aa-7ffd0ea72491",
   "metadata": {},
   "outputs": [],
   "source": [
    "sized = grouped.size()\n",
    "type(sized) # Now we have a pandas Series"
   ]
  },
  {
   "cell_type": "code",
   "execution_count": null,
   "id": "b901fdb0-441f-470b-ad88-b00234639023",
   "metadata": {},
   "outputs": [],
   "source": [
    "renamed = sized.rename('count_of_first_names')\n",
    "type(renamed) # still a Series..."
   ]
  },
  {
   "cell_type": "code",
   "execution_count": null,
   "id": "1611e26c-7212-423a-91a9-758eb76b7680",
   "metadata": {},
   "outputs": [],
   "source": [
    "new_df = renamed.reset_index()\n",
    "type(df) # Now back to a DataFrame"
   ]
  },
  {
   "cell_type": "markdown",
   "id": "60685e13-592d-4e82-8228-a12b26aed245",
   "metadata": {},
   "source": [
    "You should now have a sense of how each step in the chain is working. \n",
    "\n",
    "And hopefully you appreciate that it's critical to know what data type you're operating on at each step in the chain, in order to know which methods or data attributes are available at a given step.\n",
    "\n",
    "Deconstructing code in this way can help illuminate what these gnarly one-liners are actually doing."
   ]
  },
  {
   "cell_type": "markdown",
   "id": "a589f7e8-fdbd-472c-a55a-e527a8a842bb",
   "metadata": {},
   "source": [
    "As you gain comfort with various Python libraries and the language in general, we suspect you'll come to appreciate method chaining as a powerful technique that enables more compact and readable code.\n",
    "\n",
    "But at the outset, it can be downright confusing. Hopefully you're now equipped with a few key concepts that can help you decipher this style of code when you encounter it in the wild."
   ]
  },
  {
   "cell_type": "markdown",
   "id": "ce33af29-2b7c-4d39-aa27-d60c6801b817",
   "metadata": {},
   "source": [
    "## Why bother with classes and OO at all?\n",
    "\n",
    "It's a fair question to ask why we need all the complexity that comes with classes and, more broadly, object-oriented programming. Can't we all just stop chaining methods and confusing people?\n",
    "\n",
    "After all, it's perfectly possible to write valid and useful Python code without ever creating a class, much less chaining methods. But you'll notice that many libraries use classes, and a primary reason for their existence and widespread use is complexity. Specifically, once you gain some comfort with classes and OO, **you can use them to dramatically reduce the complexity of large code bases**.\n",
    "\n",
    "As programs grow in size from a few lines in one script or Notebook to hundreds or thousands -- or hundreds of thousands -- of lines scattered across many modules, it can become extremely difficult to maintain and debug code. \n",
    "\n",
    "Classes provide a mechanism to model aspects of our code in sensible ways, so we can group together related bits of data and functionality (aka *methods*) and use them in larger programs.\n",
    "\n",
    "For example, if you're building a system to gather and publish election night results, you might want to create classes for `Race` and `Candidate`. In such a system, you could store the votes each candidate received from a given precinct on separate instances of the `Candidate` class (one per candidate). Meanwhile, the `Race` class might have a `determine_winner` method that tallies the vote counts of each candidate and figures out the winner -- or if the race was a tie.\n",
    "\n",
    "Classes can be quite useful in such a system since they let you model real world entities and more easily associate useful data and functionality with each entity. Such an approach can dramatically improve your ability to make sense of complex systems. And of course, you can use this approach for more abstract domains such as reading and writing CSV files, interacting with an operating system, analyzing data, and so on. \n",
    "\n",
    "There are many more features of classes and OO in general -- we've barely scratched the surface here -- that make them useful and flexible tools for writing code, and we encourage you to learn more about them on your Python coding journey.\n",
    "\n",
    "All that said, you may find classes to be overkill in your own daily work. But keep them in mind as a handy tool for managing complexity, especially as the number of lines of code increase.\n",
    "\n",
    "And if nothing else, a basic understanding of classes and how they work will help you understand *how* to use dot-notation to access data and functionality in classes and modules."
   ]
  },
  {
   "cell_type": "code",
   "execution_count": null,
   "id": "015f203f-fe00-4ee1-b77d-c05dee51a7ae",
   "metadata": {},
   "outputs": [],
   "source": []
  }
 ],
 "metadata": {
  "kernelspec": {
   "display_name": "Python 3 (ipykernel)",
   "language": "python",
   "name": "python3"
  },
  "language_info": {
   "codemirror_mode": {
    "name": "ipython",
    "version": 3
   },
   "file_extension": ".py",
   "mimetype": "text/x-python",
   "name": "python",
   "nbconvert_exporter": "python",
   "pygments_lexer": "ipython3",
   "version": "3.11.4"
  }
 },
 "nbformat": 4,
 "nbformat_minor": 5
}
