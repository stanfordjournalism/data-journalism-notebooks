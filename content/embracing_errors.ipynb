{
 "cells": [
  {
   "cell_type": "markdown",
   "id": "7a80d5a2-fcdd-4951-9b1a-75596b58285d",
   "metadata": {},
   "source": [
    "# Embracing errors\n",
    "\n",
    "> *Failure is the best teacher in life.* ~ Everybody who has tried to learn anything.\n",
    "\n",
    "## A bit of background\n",
    "\n",
    "Mistakes and code go hand in hand. It's just a fact of life. Embracing errors and learning *how to learn* from them is an important ingredient to success as a coder.\n",
    "\n",
    "Programming languages such as Python provide tools for understanding errors, or exceptions, as they're commonly known in Python. \n",
    "\n",
    "Exceptions can and do occur for any number of reasons, and Python has a [long list of exception types](https://docs.python.org/3/library/exceptions.html) that it will raise depending on the situation.\n",
    "\n",
    "You don't have to memorize that list, but it's important to understand that these error types will appear in \"tracebacks\" -- also known as [stack traces](https://en.wikipedia.org/wiki/Stack_trace) -- when an error occurs. \n",
    "\n",
    "In Python, tracebacks display the location and type of an error, as well as the steps that led up to the exception. Note that unlike some other languages, stack traces in Python are read from top to bottom; the bottom line displays the last step of the program that led to the error.\n",
    "\n",
    "> Here's another brief tutorial on [how to read tracebacks](http://cs.franklin.edu/~ansaria/traceback.html).\n",
    "\n",
    "## Bracing for the angry red cell\n",
    "\n",
    "Ok, enough preamble. Let's go ahead and make a coding mistake so we can see how Python reacts to our numbskullery. \n",
    "\n",
    "Here's a very simple math mistake we've all likely made at some point in our lives. \n",
    "\n",
    "Run the below cell and get ready for an angry red code cell to appear, with a bunch of technical jargon."
   ]
  },
  {
   "cell_type": "code",
   "execution_count": null,
   "id": "e93b1f75-61f2-470a-98b6-908eea5961d7",
   "metadata": {},
   "outputs": [],
   "source": [
    "5 / 0 # you just can't divide something by nothing, right?"
   ]
  },
  {
   "cell_type": "markdown",
   "id": "8eaf87f6-687c-42f7-9f90-10cd7ff16328",
   "metadata": {},
   "source": [
    "Once you're past the initial shock of all that red, take some time to scan the error. It's actually quite helpful. The exception tells us exactly what is wrong with the code -- a `ZeroDivisionError` -- and the line where the error took place.\n",
    "\n",
    "Admittedly, perhaps that bit of help isn't super useful since we only wrote one line of code. \n",
    "\n",
    "But as your programs get longer, the context provided by stack traces can help you quickly pinpoint the problem in the code. "
   ]
  },
  {
   "cell_type": "markdown",
   "id": "c99d8c18-8c69-491f-b13c-202da7273867",
   "metadata": {},
   "source": [
    "Below is an example from Wikipedia that's more complex. We have a series of functions that call each other: \n",
    "\n",
    "- `a` calls `b`\n",
    "- `b` calls `c`\n",
    "- `c` calls `error`, which doesn't exist\n",
    "\n",
    "> Note, we kick off the chain of functions by calling `a()` at the bottom of the cell.\n",
    "\n",
    "Since the `error` function hasn't been defined, Python will yell at us.\n",
    "\n",
    "Run the code and once again prepare for some angry red feedback."
   ]
  },
  {
   "cell_type": "code",
   "execution_count": null,
   "id": "a3bd212a-a593-4017-946f-e4f6d99b562b",
   "metadata": {},
   "outputs": [],
   "source": [
    "def a():\n",
    "    i = 0\n",
    "    j = b(i)\n",
    "    return j\n",
    "\n",
    "def b(z):\n",
    "    k = 5\n",
    "    if z == 0:\n",
    "        c()\n",
    "    return k/z\n",
    "\n",
    "def c():\n",
    "    error()\n",
    "\n",
    "a()"
   ]
  },
  {
   "cell_type": "markdown",
   "id": "10a8bf03-4f1b-4744-aa1b-a8b4a872f845",
   "metadata": {},
   "source": [
    "Remember, Python displays tracebacks from the earliest step in the code to the final step in the code (ie the one that caused the program to crash).\n",
    "\n",
    "**So when interpreting tracebacks, a good strategy is to start at the bottom of the traceback, at the line that caused the error.** That should point you to the most likely source of the problem. If nothing obvious jumps out at the location, you can work your way up the call chain, or stack, until you pinpoint the issue."
   ]
  }
 ],
 "metadata": {
  "kernelspec": {
   "display_name": "Python 3 (ipykernel)",
   "language": "python",
   "name": "python3"
  },
  "language_info": {
   "codemirror_mode": {
    "name": "ipython",
    "version": 3
   },
   "file_extension": ".py",
   "mimetype": "text/x-python",
   "name": "python",
   "nbconvert_exporter": "python",
   "pygments_lexer": "ipython3",
   "version": "3.10.12"
  }
 },
 "nbformat": 4,
 "nbformat_minor": 5
}
