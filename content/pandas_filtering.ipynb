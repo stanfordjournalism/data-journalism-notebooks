{
 "cells": [
  {
   "cell_type": "markdown",
   "id": "28075c2b-e923-41be-95af-07596e3652b6",
   "metadata": {},
   "source": [
    "# Data Filtering with pandas\n",
    "\n",
    "Filtering data is one of the most common and useful techniques in data analysis.\n",
    "\n",
    "Below is a crash course on the basics of filtering with the [pandas](https://pandas.pydata.org/) data analysis library. Along the way, we'll pull back the curtains on the inner workings of filtering a [DataFrame](https://pandas.pydata.org/pandas-docs/stable/reference/api/pandas.DataFrame.html#pandas.DataFrame), the workhorse of the`pandas` library."
   ]
  },
  {
   "cell_type": "markdown",
   "id": "60bf7abc-1f1b-4a53-b2e8-5e00814af7ab",
   "metadata": {},
   "source": [
    "We'll use this toy data set to demonstrate concepts and get some practice."
   ]
  },
  {
   "cell_type": "code",
   "execution_count": null,
   "id": "19e85e98-1bd2-4e24-b126-243dde702ddd",
   "metadata": {},
   "outputs": [],
   "source": [
    "data = [\n",
    "    {'name': 'John Doe', 'state': 'NY', 'salary': 50000, 'birthday': '1997-06-25'},\n",
    "    {'name': 'Jane Smith', 'state': 'CA', 'salary': 65000, 'birthday': '1997-02-20'},\n",
    "    {'name': 'Michael Johnson', 'state': 'IL', 'salary': 40000, 'birthday': '1994-07-12'},\n",
    "    {'name': 'Emily Davis', 'state': 'IL', 'salary': 180000, 'birthday': '1998-12-09'},\n",
    "    {'name': 'David Wilson', 'state': 'CA', 'salary': 60000, 'birthday': '2003-07-03'},\n",
    "    {'name': 'Sarah Brown', 'state': 'PA', 'salary': 52000, 'birthday': '2003-04-22'},\n",
    "    {'name': 'Alex Martinez', 'state': 'NY', 'salary': 85000, 'birthday': '2005-12-15'},\n",
    "    {'name': 'Maria Garcia', 'state': 'NY', 'salary': 160000, 'birthday': '2010-08-11'},\n",
    "    {'name': 'James Lee', 'state': 'IL', 'salary': 80000, 'birthday': '1992-10-30'},\n",
    "    {'name': 'Linda Harris', 'state': 'CA', 'salary': 100000, 'birthday': '2001-12-22'}\n",
    "]"
   ]
  },
  {
   "cell_type": "markdown",
   "id": "b66b1d9b-c4b9-41cf-b3d6-736af452b368",
   "metadata": {},
   "source": [
    "## Create a DataFrame\n",
    "Let's create a DataFrame using our toy data."
   ]
  },
  {
   "cell_type": "code",
   "execution_count": null,
   "id": "772d2331-be5a-4c2c-b0a6-f321ef87b08f",
   "metadata": {},
   "outputs": [],
   "source": [
    "import pandas as pd"
   ]
  },
  {
   "cell_type": "code",
   "execution_count": null,
   "id": "d9a6a244-e8f1-4154-b980-1181504a7ae2",
   "metadata": {},
   "outputs": [],
   "source": [
    "df = pd.DataFrame(data)\n",
    "df"
   ]
  },
  {
   "cell_type": "markdown",
   "id": "ef91df80-a90d-4bb5-93ec-0771883c3879",
   "metadata": {},
   "source": [
    "## Basic filtering\n",
    "\n",
    "The standard way to filter a DataFrame involves supplying a Boolean \"expression\" that evaluates to True or False for each value (or row) in question.\n",
    "\n",
    "Let's say we wanted to find all the California residents in the data.\n",
    "\n",
    "Here's an example of the common style of filtering you'll encounter in `pandas`."
   ]
  },
  {
   "cell_type": "code",
   "execution_count": null,
   "id": "4b9f9a30-c5ab-41e3-b5ba-5f063294215c",
   "metadata": {},
   "outputs": [],
   "source": [
    "# Kinda hard to read, no?\n",
    "\n",
    "df[df['state'] == 'CA']  # Is that a DataFrame *inside* a DataFrame?!?"
   ]
  },
  {
   "cell_type": "markdown",
   "id": "fcc85926-fb65-4236-8374-186f1eecf78a",
   "metadata": {},
   "source": [
    "The above uses the standard *square-bracket notation* to filter the DataFrame for rows where the `state` is equal to `CA`.\n",
    "\n",
    "All those square brackets are bit cumbersome to read, but it's quite a common syntax.\n",
    "\n",
    "In cases where the column does not contain spaces or other troublesome characters, you can improve the readability of your code by using [dotted-attribute notation](classes_and_oop/README.ipynb) to access the DataFrame's column in a filter.\n"
   ]
  },
  {
   "cell_type": "code",
   "execution_count": null,
   "id": "994279be-2384-4beb-a71b-61c1977d10a2",
   "metadata": {},
   "outputs": [],
   "source": [
    "df[df.state == 'CA'] # Easier on the eyes, no?"
   ]
  },
  {
   "cell_type": "markdown",
   "id": "1a293b7a-4bc8-447f-a548-0cee763d1da9",
   "metadata": {},
   "source": [
    "## But what exactly *is* a filter, anyway?\n",
    "\n",
    "The human-friendly version of the last filter above (using `df.state == 'CA'`) is still, arguably, quite confusing.\n",
    "\n",
    "And you might reasonably ask: Why do we have to pass the original DataFrame (as part of an expression) *back into the same DataFrame* to get the desired result?\n",
    "\n",
    "That seems quite strange, no?\n",
    "\n",
    "We can't say why any developer chooses to design syntax a particular way: just be thankful `pandas` exists!\n",
    "\n",
    "But we can help you see *how filtering works* on a deeper level.\n",
    "\n",
    "**The trick to understanding filter syntax is to _create the filter before using it_.**\n",
    "\n",
    "So instead of this:\n",
    "\n",
    "```python\n",
    "df[df.state == 'CA']\n",
    "```\n",
    "\n",
    "You can do this:\n",
    "\n",
    "```python\n",
    "ca_filter = df.state == 'CA'\n",
    "df[ca_filter]\n",
    "```\n",
    "\n",
    "## \"Truthiness tables\"\n",
    "\n",
    "Let's walk through the latter approach, using a few common strategies along the way to gain some insight into the nature of filtering.\n",
    "\n",
    "Again, the most critical technique involves executing a filter **outside the context of the DataFrame being filtered.**"
   ]
  },
  {
   "cell_type": "code",
   "execution_count": null,
   "id": "c79de210-bcdc-4015-8133-25e1cd726489",
   "metadata": {},
   "outputs": [],
   "source": [
    "df.state == 'CA'"
   ]
  },
  {
   "cell_type": "markdown",
   "id": "ce094400-3131-4f4f-9211-602002041d1d",
   "metadata": {},
   "source": [
    "Interesting? Indeed! \n",
    "\n",
    "But what the heck is going on here?\n",
    "\n",
    "We see a numeric column on the left side of the output, and values of `True` or `False` on the right.\n",
    "\n",
    "Print the `df` DataFrame below and see if you can figure out what the above output is all about."
   ]
  },
  {
   "cell_type": "code",
   "execution_count": null,
   "id": "135fb7de-bf86-46a6-84a7-b1eca5fd1eeb",
   "metadata": {},
   "outputs": [],
   "source": [
    "df"
   ]
  },
  {
   "cell_type": "markdown",
   "id": "70544913-00fa-490d-ac4f-385f982d73f5",
   "metadata": {},
   "source": [
    "Did you guess that the numbers on the left side of our \"naked\" filter expression (`df.state == 'CA'`) represent the row number, or in `pandas` lingo, the `index`? \n",
    "\n",
    "And the values on the right are the result of the comparison? \n",
    "\n",
    "In other words, the filter output is telling us that:\n",
    "\n",
    "- row 0 evaluates to `False` because the `state` value is *not* equal to `CA`\n",
    "- row 1 evaluates to `True` because the `state` *is equal* to `CA`\n",
    "- ...and so on for all the rows in the DataFrame...\n",
    "\n",
    "So the filter expression produces a sort of [\"truthiness\" table](https://www.cc.com/video/63ite2/the-colbert-report-the-word-truthiness) (please feel free to enjoy this deep cut. We'll wait for you).\n",
    "\n",
    "And by passing this \"table\" back into the DataFrame, we're able to select only the rows where the condition is true.\n",
    "\n",
    "But is the output of the filter really a \"table\"? What is the actual data type returned by the filter expression?\n",
    "\n",
    "Let's find out by storing it in a variable and using the built-in `type` function to get a handle on things."
   ]
  },
  {
   "cell_type": "code",
   "execution_count": null,
   "id": "acf13933-6182-4645-ba78-f813c714766a",
   "metadata": {},
   "outputs": [],
   "source": [
    "ca_filter = df.state == 'CA'\n",
    "type(ca_filter)"
   ]
  },
  {
   "cell_type": "markdown",
   "id": "b66887ed-3e13-44a8-8baa-f6ca881224dd",
   "metadata": {},
   "source": [
    "AHA!! We can see that the filter expression produces a [pandas.Series](https://pandas.pydata.org/pandas-docs/stable/reference/api/pandas.Series.html(), a more highfalutin cousin of the humble `list` data type in Python.\n",
    "\n",
    "So we have a handle on the nature of what a filter actually is.\n",
    "\n",
    "Now we can apply it to our original DataFrame and get back the same result as earlier."
   ]
  },
  {
   "cell_type": "code",
   "execution_count": null,
   "id": "f70abb0c-f2b5-4bc9-8018-377ac685812f",
   "metadata": {},
   "outputs": [],
   "source": [
    "# Isn't this so much more readable? And still accurate!\n",
    "df[ca_filter]"
   ]
  },
  {
   "cell_type": "markdown",
   "id": "94ebd057-d5a3-4302-a814-28ecd9aeba16",
   "metadata": {},
   "source": [
    "## Complex filters\n",
    "\n",
    "The strategy of preparing filters *before applying them* really shines as filtering logic grows more complex."
   ]
  },
  {
   "cell_type": "code",
   "execution_count": null,
   "id": "470258c1-c02b-44ef-afac-ac98328e49b7",
   "metadata": {},
   "outputs": [],
   "source": [
    "# Find all people in CA with a salary less than $10000\n",
    "df[(df.state == 'CA') & (df.salary < 100_000)]"
   ]
  },
  {
   "cell_type": "code",
   "execution_count": null,
   "id": "73bf1dd8-e7b6-47f6-89ce-90938ef6fe78",
   "metadata": {},
   "outputs": [],
   "source": [
    "# Same as above, but as separate steps. A bit more readable?\n",
    "\n",
    "# 1. Create the filter\n",
    "ca_less_than_100k = (df.state == 'CA') & (df.salary < 100_000)\n",
    "\n",
    "# 2. Apply the filter\n",
    "df[ca_less_than_100k]"
   ]
  },
  {
   "cell_type": "markdown",
   "id": "9993b1ea-a3ae-4cfa-9eef-b06dfb84cf0a",
   "metadata": {},
   "source": [
    "Above, we introduced a few new bits of syntax:\n",
    "\n",
    "- The ampersand `&` can be used to combine filters\n",
    "- The parentheses `()` group the filters to avoid confusing `pandas`"
   ]
  },
  {
   "cell_type": "markdown",
   "id": "f754a11f-76b7-4b48-8f9a-99a4b23dbf55",
   "metadata": {},
   "source": [
    "Note that you can also use the pipe character (`|`) to create `OR` filters. \n",
    "\n",
    "Here's one that finds all people in California OR those named `Maria Garcia`."
   ]
  },
  {
   "cell_type": "code",
   "execution_count": null,
   "id": "92dff4bc-09a9-49e6-b42f-fdd03f4312df",
   "metadata": {},
   "outputs": [],
   "source": [
    "my_filter = (df.state == 'CA') | (df.name == 'Maria Garcia')\n",
    "df[my_filter]"
   ]
  },
  {
   "cell_type": "markdown",
   "id": "53b2952f-8510-4a5a-99f1-99378d7497ff",
   "metadata": {},
   "source": [
    "## Exercise\n",
    "\n",
    "Try answering the below questions by creating your own filters:\n",
    "\n",
    "* How many people live in Illinois?\n",
    "* How many people earn \\$100,000 or more?\n",
    "* How many people live in New York AND make more than \\$60,000?\n",
    "* How many people live in CA OR earn less than \\$80,000?"
   ]
  },
  {
   "cell_type": "code",
   "execution_count": null,
   "id": "bf007524-22c6-4e80-a43d-f04e5dccdf0f",
   "metadata": {},
   "outputs": [],
   "source": [
    "# Here's some scratch space for you to work"
   ]
  },
  {
   "cell_type": "markdown",
   "id": "1f44db5f-d9b6-4807-870c-1f0814a226da",
   "metadata": {},
   "source": [
    "## Date filtering\n",
    "\n",
    "You may have noticed we've been avoiding dates in our filters. \n",
    "\n",
    "That's not because `pandas` is unable to filter by date. We were just trying to minimize distractions until you got a handle on the basics of filtering.\n",
    "\n",
    "But you're ready now, right? AWESOME. Here we go...\n",
    "\n",
    "When dealing with dates, you want to make sure that the column containing a date is truly a [datetime]() column, as opposed to a text representation of a date.\n",
    "\n",
    "Let's check our original DataFrame to see what we're working with."
   ]
  },
  {
   "cell_type": "code",
   "execution_count": null,
   "id": "af2cd443-6afd-4bb1-9766-caaeeb7c65fa",
   "metadata": {},
   "outputs": [],
   "source": [
    "df.info()"
   ]
  },
  {
   "cell_type": "markdown",
   "id": "dc5dfe78-efc1-45e0-9dcc-1538e11b7349",
   "metadata": {},
   "source": [
    "In the arcane world of `pandas`, the `birthday` column's `Dtype` (aka data type), is something called an *object*.\n",
    "\n",
    "That's `pandas` lingo for text, or a string.\n",
    "\n",
    "To ensure our date filtering works correctly, let's update `birthday` to make it a proper date column."
   ]
  },
  {
   "cell_type": "code",
   "execution_count": null,
   "id": "2fbfacb5-0a84-4264-8e8f-0ca19f04ca80",
   "metadata": {},
   "outputs": [],
   "source": [
    "df['birthday'] = pd.to_datetime(df.birthday)"
   ]
  },
  {
   "cell_type": "code",
   "execution_count": null,
   "id": "a2a18b6c-25d6-452d-ae28-237272cbfa91",
   "metadata": {},
   "outputs": [],
   "source": [
    "df.info()"
   ]
  },
  {
   "cell_type": "markdown",
   "id": "0a45dd3c-104c-4cc4-96cb-75e7717b3226",
   "metadata": {},
   "source": [
    "You should now see `datetime64[ns]` as the data type for `birthday`, which is what we were after.\n",
    "\n",
    "> The `64` stands for 64-bit integer and is an artifact of the data type's [origins in numpy](https://numpy.org/doc/stable/reference/arrays.scalars.html#numpy.datetime64). And the `[ns]` stands for nanosecond, a much more precise time format than what you get with the standard Python `datetime` object.\n",
    "\n",
    "Okay, let's create a few basic date filters. \n",
    "\n",
    "First, it's worth noting that you can use the string representation of a date in the `YYYY-MM-DD` format to filter on date columns."
   ]
  },
  {
   "cell_type": "code",
   "execution_count": null,
   "id": "b8e3458c-baf7-4df4-b521-9345e1d895be",
   "metadata": {},
   "outputs": [],
   "source": [
    "# People born since 2010\n",
    "\n",
    "zygotes = df.birthday >= '2010-01-01'\n",
    "\n",
    "df[zygotes]"
   ]
  },
  {
   "cell_type": "markdown",
   "id": "10c59954-d2cb-46c2-9a5d-7c3e0a2e8ab5",
   "metadata": {},
   "source": [
    "Or you could use a proper `datetime` object to accomplish the same."
   ]
  },
  {
   "cell_type": "code",
   "execution_count": null,
   "id": "a7042145-a037-4ee3-bd4a-5a99b2fd2333",
   "metadata": {},
   "outputs": [],
   "source": [
    "from datetime import datetime\n",
    "\n",
    "zygotes_dt_filter = df.birthday >= datetime(2010, 1, 1)\n",
    "\n",
    "df[zygotes_dt_filter]"
   ]
  },
  {
   "cell_type": "markdown",
   "id": "7d6a7f4f-b9a2-4ba3-a0ab-400346852780",
   "metadata": {},
   "source": [
    "You'll probably agree the string format (`YYYY-MM-DD`) is easier on the eyes, so we'll stick with that from here on out.\n",
    "\n",
    "Here's a more complex filter with a date."
   ]
  },
  {
   "cell_type": "code",
   "execution_count": null,
   "id": "09e545f4-4f5f-4a55-ae3b-02bcc20ffa93",
   "metadata": {},
   "outputs": [],
   "source": [
    "# People born before 2000, earning less than $100K\n",
    "\n",
    "pre2000_and_less_than_100k = (df.birthday < '2000-01-01') & (df.salary < 100_000)\n",
    "\n",
    "df[pre2000_and_less_than_100k]"
   ]
  },
  {
   "cell_type": "markdown",
   "id": "009ae7ee-6290-4b30-bda9-9d439c591967",
   "metadata": {},
   "source": [
    "### Exercises\n",
    "\n",
    "Now it's your turn to practice. Try creating filters to answer the following questions.\n",
    "\n",
    "- How many people born since 1990 earn less than \\$70,000?\n",
    "- How many people were born in the 1990s? *HINT: You'll need to combine two date filters.*\n",
    "- Which people born in the 90s earn more than \\$70,000? *Hint: You'll need to combine the result from the last question with another filter for salary. This one will get gnarly!*\n"
   ]
  },
  {
   "cell_type": "code",
   "execution_count": null,
   "id": "b9dd8a53-ad2c-4da0-92b1-049504702fb2",
   "metadata": {},
   "outputs": [],
   "source": [
    "# Here's some scratch space for you to work"
   ]
  },
  {
   "cell_type": "markdown",
   "id": "79eb8434-793f-4a19-9d1b-2048a9aea289",
   "metadata": {},
   "source": [
    "## Summary and what's next\n",
    "\n",
    "Pythonistas (and coders in general) are allergic to keystrokes.\n",
    "\n",
    "Once they're comfortable with a language, they tend to craft code incantations that are quite terse. This is normally a good thing. It saves on typing and mental processing when reading code. But it can require a fair degree of fluency with the nuances of a given language.\n",
    "\n",
    "Alas, in the context of `pandas` filtering, common practice can produce fairly inscrutable code, especially to the eyes of someone new to Python and `pandas`.\n",
    "\n",
    "Just remember: If you find yourself staring at a gnarly filter crammed into a DataFrame, you can deconstruct the filter and save it in one or more separate variables as a preliminary step. \n",
    "\n",
    "Unraveling the code in this way can help illuminate the inner workings of complex filtering logic.\n",
    "\n",
    "One final important note: `pandas` offers quite a few other ways to filter data. If you'd like  to learn more, check out:\n",
    "\n",
    "- [DataFrame.filter](https://pandas.pydata.org/docs/reference/api/pandas.DataFrame.filter.html) \n",
    "- [where method](https://pandas.pydata.org/docs/user_guide/indexing.html#the-where-method-and-masking)\n",
    "- [query method](https://pandas.pydata.org/docs/user_guide/indexing.html#the-query-method)\n",
    "\n",
    "Happy filtering!"
   ]
  },
  {
   "cell_type": "code",
   "execution_count": null,
   "id": "4ae9b5fe-f4ad-46a1-92da-4ebce7fe15e6",
   "metadata": {},
   "outputs": [],
   "source": []
  }
 ],
 "metadata": {
  "kernelspec": {
   "display_name": "Python 3 (ipykernel)",
   "language": "python",
   "name": "python3"
  },
  "language_info": {
   "codemirror_mode": {
    "name": "ipython",
    "version": 3
   },
   "file_extension": ".py",
   "mimetype": "text/x-python",
   "name": "python",
   "nbconvert_exporter": "python",
   "pygments_lexer": "ipython3",
   "version": "3.11.4"
  }
 },
 "nbformat": 4,
 "nbformat_minor": 5
}
