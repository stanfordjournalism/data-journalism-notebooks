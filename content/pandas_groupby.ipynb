{
 "cells": [
  {
   "cell_type": "markdown",
   "id": "ee479286-ee93-490a-9275-6d6d30acd131",
   "metadata": {},
   "source": [
    "# Grouping Data\n",
    "\n",
    "Grouping data by some attribute is among the most useful and commonly used techniques in data analysis.\n",
    "\n",
    "Doing so allows us to apply a variety of calculations to each group. \n",
    "\n",
    "For example, we could group all the students in 2nd grade by their teacher, and then calculate the median test scores for each group of students to determine if a certain class is falling behind, on track, or excelling.\n",
    "\n",
    "Grouping data is not peculiar to Python and pandas. It has correllaries in a wide variety of tools such as spreadsheet (Excel Pivot Tables) and databases (SQL GROUP BY statements).\n",
    "\n",
    "So how do we use it in pandas? \n",
    "\n",
    "Let's start with a simple, toy set of data to ensure we wrestle with the key concepts."
   ]
  },
  {
   "cell_type": "code",
   "execution_count": null,
   "id": "af765dba-2879-4df6-b8af-a206fe353b98",
   "metadata": {},
   "outputs": [],
   "source": [
    "people = [\n",
    "    {'name': 'John Doe', 'city': 'New York', 'state': 'NY', 'salary': 50000},\n",
    "    {'name': 'Jane Smith', 'city': 'Los Angeles', 'state': 'CA', 'salary': 65000},\n",
    "    {'name': 'Michael Johnson', 'city': 'Chicago', 'state': 'IL', 'salary': 40000},\n",
    "    {'name': 'Emily Davis', 'city': 'Chicago', 'state': 'IL', 'salary': 480000},\n",
    "    {'name': 'David Wilson', 'city': 'Los Angeles', 'state': 'CA', 'salary': 60000},\n",
    "    {'name': 'Sarah Brown', 'city': 'Philadelphia', 'state': 'PA', 'salary': 52000},\n",
    "    {'name': 'Alex Martinez', 'city': 'New York', 'state': 'NY', 'salary': 85000},\n",
    "    {'name': 'Maria Garcia', 'city': 'New York', 'state': 'NY', 'salary': 160000},\n",
    "    {'name': 'James Lee', 'city': 'Chicago', 'state': 'IL', 'salary': 80000},\n",
    "    {'name': 'Linda Harris', 'city': 'San Francisco', 'state': 'CA', 'salary': 100000}\n",
    "]"
   ]
  },
  {
   "cell_type": "markdown",
   "id": "86a05726-9083-42bf-9a7c-c42eb252d478",
   "metadata": {},
   "source": [
    "First, we'll create a DataFrame from using this data."
   ]
  },
  {
   "cell_type": "code",
   "execution_count": null,
   "id": "3279214f-bdff-48fd-97a9-0b3174685dcf",
   "metadata": {},
   "outputs": [],
   "source": [
    "import pandas as pd"
   ]
  },
  {
   "cell_type": "code",
   "execution_count": null,
   "id": "f1332394-38ff-412e-81bf-6cfbf162dbc2",
   "metadata": {},
   "outputs": [],
   "source": [
    "df = pd.DataFrame(people)\n",
    "df"
   ]
  },
  {
   "cell_type": "markdown",
   "id": "0ed93041-55cc-4447-b233-3a0fa7358e65",
   "metadata": {},
   "source": [
    "## Grouping - The Hard Way\n",
    "\n",
    "Let's say we wanted to count the number of people from each state.\n",
    "\n",
    "If we think through this logically, the very first step would be to group our data by the `state` column. \n",
    "\n",
    "You could do this manually or with basic Python as below:"
   ]
  },
  {
   "cell_type": "code",
   "execution_count": null,
   "id": "b28d6eb9-b187-4c4a-83bc-f2fce00d1c49",
   "metadata": {},
   "outputs": [],
   "source": [
    "states = {}\n",
    "for person in people:\n",
    "    home_state = person['state']\n",
    "    try:\n",
    "        # Access the dictionary by state and add the person to a list\n",
    "        # This assumes the dictionary already contains a <state> key\n",
    "        states[home_state].append(person)\n",
    "    except KeyError:\n",
    "        # If it's the first time we're encountering the state, \n",
    "        # the key will *not* be in the dictionary so we\n",
    "        # need to add it and set the value a list with our first entry\n",
    "        states[home_state] = [person]     "
   ]
  },
  {
   "cell_type": "markdown",
   "id": "77e29702-9731-4bff-843c-5aab8006f7ac",
   "metadata": {},
   "source": [
    "Let's import and apply the handy `pprint` function to make it easier to examine the output of our new `states` variable."
   ]
  },
  {
   "cell_type": "code",
   "execution_count": null,
   "id": "91789e60-8962-48cb-aa2d-64f4414a0bf0",
   "metadata": {},
   "outputs": [],
   "source": [
    "from pprint import pprint\n",
    "pprint(states)"
   ]
  },
  {
   "cell_type": "markdown",
   "id": "b8f5468a-fd4e-4be2-85e0-c3326806fb77",
   "metadata": {},
   "source": [
    "If you examine this dictionary you can see that each person has been grouped into the appropriate state."
   ]
  },
  {
   "cell_type": "code",
   "execution_count": null,
   "id": "db412001-9e65-4a24-85ab-dcc789b89ab3",
   "metadata": {},
   "outputs": [],
   "source": [
    "states['CA']"
   ]
  },
  {
   "cell_type": "markdown",
   "id": "f6adb7de-9739-40b1-bc3b-b5c7f253fbf1",
   "metadata": {},
   "source": [
    "And you can of course now determine the number of people in each state by counting the length of each state's list."
   ]
  },
  {
   "cell_type": "code",
   "execution_count": null,
   "id": "cbba4890-7bd4-4c88-96da-4b1fd4221104",
   "metadata": {},
   "outputs": [],
   "source": [
    "for state, people in states.items():\n",
    "    num = len(people)\n",
    "    # Use some a one-line condition to determine singular/plural\n",
    "    person_or_people = 'person' if num == 1 else 'people'\n",
    "    print(f\"{state} has {num} {person_or_people}\")"
   ]
  },
  {
   "cell_type": "markdown",
   "id": "1360fa12-18ca-4558-9324-1491c997a6f1",
   "metadata": {},
   "source": [
    "## Grouping with DataFrames\n",
    "\n",
    "The above strategy of using a dictionary to group people works. But it's many more lines of code than are necessary. Worse, the code can quickly get more convoluted if you wanted to group by multiple columns (e.g. `city` and `state`). \n",
    "\n",
    "Instead, the pandas DataFrame provides a handy [groupby](https://pandas.pydata.org/docs/reference/api/pandas.DataFrame.groupby.html) method that does exactly what its name suggests: group data by the values in one or more columns.\n",
    "\n",
    "Let's give it a try."
   ]
  },
  {
   "cell_type": "code",
   "execution_count": null,
   "id": "3d621431-5f6f-49e3-89ef-d71a097c9494",
   "metadata": {},
   "outputs": [],
   "source": [
    "df.groupby('state')"
   ]
  },
  {
   "cell_type": "markdown",
   "id": "6d5955d7-9243-4ef4-a3f2-f4ea43e2306f",
   "metadata": {},
   "source": [
    "When we run the above code, we see that we get a `DataFrameGroupBy` object. And that type of object happens to have a [groups](https://pandas.pydata.org/docs/reference/api/pandas.core.groupby.DataFrameGroupBy.groups.html) attribute that let's us examine which rows ended up in each group. \n",
    "\n",
    "Let's peek under the hood to see how it did."
   ]
  },
  {
   "cell_type": "code",
   "execution_count": null,
   "id": "86f58d6b-4cec-469b-ace3-ec999f751be4",
   "metadata": {},
   "outputs": [],
   "source": [
    "group_obj = df.groupby('state')\n",
    "group_obj.groups"
   ]
  },
  {
   "cell_type": "markdown",
   "id": "f12e81be-79b9-4191-ae9b-9186cd3f1481",
   "metadata": {},
   "source": [
    "Hmm...so we're not seeing any actual rows in those groups. \n",
    "\n",
    "Can you guess what the numbers in each list signify? \n",
    "\n",
    "> HINT: Try printing the original DataFrame stored in the `df` variable.\n",
    "\n",
    "If you guessed that the integers in each list refer to the index position, or row number, of each record, then congratulations! You are a code sleuth extraordinaire!"
   ]
  },
  {
   "cell_type": "code",
   "execution_count": null,
   "id": "45fade99-f54e-49b6-80ae-1838bed76abb",
   "metadata": {},
   "outputs": [],
   "source": [
    "df"
   ]
  },
  {
   "cell_type": "markdown",
   "id": "a6b33668-a99c-448d-8225-c80f763a3816",
   "metadata": {},
   "source": [
    "## Do stuff with groups\n",
    "\n",
    "So we now know that when we use `DataFrame.groupby`, *pandas* organizes the data based on the column we specified and simply stores references to each row's position, rather than shuffling around the data itself.\n",
    "\n",
    "That's all well and good, but generally we want to do *something* with our groups. \n",
    "\n",
    "For example, we could count number of people from each state. Notice that we get the same counts as the more lengthy method using Python dictionaries.\n",
    "\n",
    "> The output is a bit wonky, at least compared to a SQL Group By query, since it includes all the columns in the data.\n",
    "\n"
   ]
  },
  {
   "cell_type": "code",
   "execution_count": null,
   "id": "f72202d5-f53f-41f4-ab06-1338898c20d2",
   "metadata": {},
   "outputs": [],
   "source": [
    "group_obj.count()"
   ]
  },
  {
   "cell_type": "markdown",
   "id": "c8d0ae3f-3087-43ed-a684-903599e73a96",
   "metadata": {},
   "source": [
    "You can also perform calculations on individual columns, which often makes more sense than applying an aggregate function to all columns in each group.\n",
    "\n",
    "Here's how we'd count the cities by state using the `name` field."
   ]
  },
  {
   "cell_type": "code",
   "execution_count": null,
   "id": "b178b268-06bf-4b29-8084-9da73671ee97",
   "metadata": {},
   "outputs": [],
   "source": [
    "group_obj.name.count()"
   ]
  },
  {
   "cell_type": "markdown",
   "id": "74d62199-1029-4e3a-b821-fcb1231463e6",
   "metadata": {},
   "source": [
    "And how we'd find the max and median salary for each state.\n",
    "\n",
    "> Note we're using `.reset_index()` now to restore the output to a proper DataFrame. We're also using `.rename` to be more explicit about the nature of the calculation."
   ]
  },
  {
   "cell_type": "code",
   "execution_count": null,
   "id": "c084979c-717b-485e-bf85-6027aa3b3376",
   "metadata": {},
   "outputs": [],
   "source": [
    "max_sal = group_obj.salary.max().reset_index().rename(columns={'salary': 'max_salary'})\n",
    "max_sal"
   ]
  },
  {
   "cell_type": "code",
   "execution_count": null,
   "id": "cd19f493-5498-4828-a75f-4bf2b47b1f69",
   "metadata": {},
   "outputs": [],
   "source": [
    "med_sal = group_obj.salary.median().reset_index().rename(columns={'salary': 'median_salary'})\n",
    "med_sal"
   ]
  },
  {
   "cell_type": "markdown",
   "id": "00b8fb19-dcab-446e-b285-b38e33b2dbed",
   "metadata": {},
   "source": [
    "As an exercise, how would we merge these two DataFrames together (e.g. to do some additional calculations)?"
   ]
  },
  {
   "cell_type": "code",
   "execution_count": null,
   "id": "67e8e5e2-26ef-44e7-a122-20571389d082",
   "metadata": {},
   "outputs": [],
   "source": [
    "max_sal.merge(med_sal, on='state')"
   ]
  },
  {
   "cell_type": "markdown",
   "id": "cd1cb484-12f1-43ad-a356-9e35d6d08b84",
   "metadata": {},
   "source": [
    "## Group by multiple columns\n",
    "\n",
    "You're not limited to just one column when grouping. For example, say you wanted to group by `state` *and* `city`: "
   ]
  },
  {
   "cell_type": "code",
   "execution_count": null,
   "id": "3207bff4-f130-4cb8-bceb-182776407f93",
   "metadata": {},
   "outputs": [],
   "source": [
    "state_city = df.groupby(by=['state','city']).name.count().reset_index().rename(columns={'name': 'record_count'})\n",
    "state_city"
   ]
  },
  {
   "cell_type": "markdown",
   "id": "e4892121-859d-4b5c-81e4-22b0eaf3ab0a",
   "metadata": {},
   "source": [
    "## Sorting groups\n",
    "\n",
    "Our new output includes the state, and then as a form of nested data, the cities within those states. \n",
    "\n",
    "Finally, let's sort the output from largest to small count."
   ]
  },
  {
   "cell_type": "code",
   "execution_count": null,
   "id": "14f97bc6-f861-40f3-901a-f32f91374c42",
   "metadata": {},
   "outputs": [],
   "source": [
    "state_city.sort_values('record_count', ascending=False)"
   ]
  }
 ],
 "metadata": {
  "kernelspec": {
   "display_name": "Python 3 (ipykernel)",
   "language": "python",
   "name": "python3"
  },
  "language_info": {
   "codemirror_mode": {
    "name": "ipython",
    "version": 3
   },
   "file_extension": ".py",
   "mimetype": "text/x-python",
   "name": "python",
   "nbconvert_exporter": "python",
   "pygments_lexer": "ipython3",
   "version": "3.11.4"
  }
 },
 "nbformat": 4,
 "nbformat_minor": 5
}
