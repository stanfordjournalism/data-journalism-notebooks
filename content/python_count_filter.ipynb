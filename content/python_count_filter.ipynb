{
 "cells": [
  {
   "cell_type": "markdown",
   "id": "fa36a23c-91b0-407f-ad2b-f2fee5c070b1",
   "metadata": {},
   "source": [
    "# Python: Counting and filtering\n",
    "\n",
    "- [Overview](#overview)\n",
    "- [Counting](#counting)\n",
    "- [Filtering](#filtering)\n",
    "- [Count if](#count-if)\n",
    "- [Handling large files](#handling-large-files)\n",
    "\n",
    "<h2 id=\"overview\">Overview</h2>\n",
    "\n",
    "In the course of our Python study, we've learned about some of the basic features of the Python programming language. That includes:\n",
    "\n",
    "  * Basic data types (integers, strings, lists, dicts)\n",
    "  * Expressions and assignment statements\n",
    "  * Variables as storage containers\n",
    "  * Flow control (_for_ loops and _if/elif/else_)\n",
    "  * Built-in functions such as `len` and `print`\n",
    "\n",
    "Let's start tying together this knowledge and applying it in practical contexts.\n",
    "\n",
    "<h2 id=\"counting\">Counting</h2>\n",
    "\n",
    "Counting is one of the most basic and important operations we need to perform.\n",
    "\n",
    "One of the simplest and most common ways to count items involves using the built-in [len](https://docs.python.org/3/library/functions.html#len) function to measure the length of an array:\n",
    "\n"
   ]
  },
  {
   "cell_type": "code",
   "execution_count": null,
   "id": "dbf91ea3-2be0-4952-adc5-f09a684c0b16",
   "metadata": {},
   "outputs": [],
   "source": [
    "animals = ['cat', 'dog', 'bird']\n",
    "len(animals)"
   ]
  },
  {
   "cell_type": "markdown",
   "id": "77923a47-03b4-4a9e-beef-fc0519699b03",
   "metadata": {},
   "source": [
    "Another common approach -- one often used when processing data from an external source such as a CSV -- is to use a counter variable."
   ]
  },
  {
   "cell_type": "code",
   "execution_count": null,
   "id": "953a143e-5314-4a2a-859f-774163c1b6fe",
   "metadata": {},
   "outputs": [],
   "source": [
    "count = 0\n",
    "for animal in animals:\n",
    "\tcount +=1 # same as writing count = count + 1\n",
    "print(count)"
   ]
  },
  {
   "cell_type": "markdown",
   "id": "02a51420-0ae8-4aeb-99a4-779c588ec67b",
   "metadata": {},
   "source": [
    "Above, we \"initialized\" a variable called `count`, and then used the [augmentation operator](https://docs.python.org/3.8/reference/simple_stmts.html#augmented-assignment-statements) to increment the count as we loop through the list of animals.\n",
    "\n",
    "<h2 id=\"filtering\">Filtering</h2>\n",
    "\n",
    "Filtering data based on some aspect of the information is another common data wrangling task.\n"
   ]
  },
  {
   "cell_type": "code",
   "execution_count": null,
   "id": "ea5299c1-e6ef-42db-8cad-4e4fe8a161d9",
   "metadata": {},
   "outputs": [],
   "source": [
    "for animal in animals:\n",
    "    if animal != 'dog':\n",
    "        print(animal)"
   ]
  },
  {
   "cell_type": "markdown",
   "id": "b850aaec-6586-4439-81bd-0af6836f25b3",
   "metadata": {},
   "source": [
    "<h2 id=\"count-if\">Count if</h2>\n",
    "\n",
    "We can now combine the above techniques to count a filtered list of items. Here are a few different approaches."
   ]
  },
  {
   "cell_type": "code",
   "execution_count": null,
   "id": "abede263-ef29-49de-a015-5872e06429ed",
   "metadata": {},
   "outputs": [],
   "source": [
    "# Use a simple counter\n",
    "count = 0\n",
    "for animal in animals:\n",
    "    if animal != 'dog':\n",
    "        count += 1\n",
    "print(count)"
   ]
  },
  {
   "cell_type": "markdown",
   "id": "dfe67310-c50d-4c25-aa00-7cfc59171bae",
   "metadata": {},
   "source": [
    "What if we need to keep the results that we filtered for some reason? \n",
    "\n",
    "For example, say we need both the count *and* the actual list of filtered data for some additional downstream purpose such as saving it to a new file. \n",
    "\n",
    "In this case, we can adapt our strategy with the help of a list and `len`."
   ]
  },
  {
   "cell_type": "code",
   "execution_count": null,
   "id": "0dc119a0-8542-4875-9a7d-4892f69a8aad",
   "metadata": {},
   "outputs": [],
   "source": [
    "# Store the filtered items in a new list\n",
    "noncanines = []\n",
    "for animal in animals:\n",
    "    if animal != 'dog':\n",
    "        noncanines.append(animal)\n",
    "\n",
    "# Now \"count\" the filtered list\n",
    "print(len(noncanines))"
   ]
  },
  {
   "cell_type": "markdown",
   "id": "42e1e047-c1a2-47d9-aceb-7513d4e9b159",
   "metadata": {},
   "source": [
    "Both of these approaches work. Which one you choose will vary based on the end goal.\n",
    "\n",
    "<h2 id=\"handling-large-files\">Handling large files</h2>\n",
    "\n",
    "If you're dealing with larger data sets (e.g. millions or tens of millions of rows), you may want to avoid\n",
    "storing all those rows in your computer's memory and instead read information as a stream and write out the filtered data as a stream.\n",
    "\n",
    "Here's a fake example using an imaginary set of files:\n",
    "\n",
    "```python\n",
    "# Open a file to write animal names that start with the letter Z\n",
    "with open(\"z_animals.txt\", 'w') as out:\n",
    "    # Loop through the large list of animal names\n",
    "    # without ever storing the data in memory.\n",
    "    # Python will efficiently process the data line by line (aka as a stream)\n",
    "    # to avoid reading all the data into memory at once\n",
    "    for animal in open(\"millions_of_animals.txt\"):\n",
    "        if animal.lower().startswith('z'):\n",
    "            # Add a newline to ensure each animal is on a separate row\n",
    "            out.write(f\"{animal}\\n\")\n",
    "```        \n"
   ]
  }
 ],
 "metadata": {
  "kernelspec": {
   "display_name": "Python 3 (ipykernel)",
   "language": "python",
   "name": "python3"
  },
  "language_info": {
   "codemirror_mode": {
    "name": "ipython",
    "version": 3
   },
   "file_extension": ".py",
   "mimetype": "text/x-python",
   "name": "python",
   "nbconvert_exporter": "python",
   "pygments_lexer": "ipython3",
   "version": "3.10.12"
  }
 },
 "nbformat": 4,
 "nbformat_minor": 5
}
