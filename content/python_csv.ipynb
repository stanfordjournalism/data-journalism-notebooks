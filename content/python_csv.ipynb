{
 "cells": [
  {
   "cell_type": "markdown",
   "id": "1c4056e9-493c-4e17-a0e3-63aad66510f7",
   "metadata": {},
   "source": [
    "# CSVs in Python\n",
    "\n",
    "- [Overview](#overview)\n",
    "- [Reading CSVs](#reading-csvs)\n",
    "  - [csv.reader](#reader)\n",
    "  - [csv.DictReader](#dictreader)\n",
    "- [Writing CSVs](#writing-csvs)\n",
    "  - [csv.writer](#writer)\n",
    "  - [csv.DictWriter](#dictwriter)\n",
    "\n",
    "<h2 id=\"overview\">Overview</h2>\n",
    "\n",
    "Files containing comma-separated values, more commonly known as CSVs, are among the most common and easy-to-work with data formats. Government agencies and other data sources often publish data in the CSV format, so it's important to learn how to work with such files.\n",
    "\n",
    "Fortunately, the [Python Standard Library](https://docs.python.org/3/library/index.html) provides a built-in [csv module][] that makes it much easier to work with these types of files. The CSV module frees coders from having to perform low-level, tedious chores such as handling newline characters and splitting files on commas and other delimiter types. It also helps in more tricky scenarios, such as CSVs in which columns are separated by commas *and* field values also contain commas.\n",
    "\n",
    "[csv module]: https://docs.python.org/3/library/csv.html\n",
    "\n",
    "The [csv module][] works in tandem with the built-in `open` function that is typically used when [reading and writing files](python_file_io.ipynb). It can simply be [imported and used](python_libraries.ipynb)in Python scripts, the interactive interpreter or Jupyter notebooks without any extra installation steps.\n",
    "\n",
    "Below, we demo the `csv` module using [files/data/animal_ratings.csv](files/data/animal_ratings.csv), which contains the data below:\n",
    "\n",
    "```\n",
    "animal,awesomeness\n",
    "cat,5\n",
    "cougar,10\n",
    "dog,8\n",
    "snake,2\n",
    "narwhal,11\n",
    "```\n",
    "\n",
    "<h2 id=\"reading-csvs\">Reading CSVs</h2>\n",
    "\n",
    "<h3 id=\"reader\">Reader</h3>\n",
    "\n",
    "The CSV module provides two primary modes for working with a CSV. The first, [csv.reader][], simply reads data from a CSV and returns the values for each row in a list.\n",
    "\n",
    "[csv.reader]: https://docs.python.org/3/library/csv.html#csv.reader"
   ]
  },
  {
   "cell_type": "code",
   "execution_count": null,
   "id": "611ac990-7325-41b1-a9af-a20e864984fc",
   "metadata": {},
   "outputs": [],
   "source": [
    "import csv\n",
    "with open('files/data/animal_ratings.csv', 'r') as source_file:\n",
    "    reader = csv.reader(source_file)\n",
    "    for row in reader:\n",
    "        print(row)"
   ]
  },
  {
   "cell_type": "markdown",
   "id": "7b7df902-0c5a-4e02-a84d-682b10c1230c",
   "metadata": {},
   "source": [
    "A few important notes on the above code:\n",
    "\n",
    "* `csv.reader` is passed an open file \"handle\", as opposed to a file path\n",
    "* Rows are automatically split on the delimiter (a comma in this case)\n",
    "* Newline characters are automatically stripped\n",
    "\n",
    "Because `csv.reader` returns rows as lists of values, we must access individual values in each row based on their index position (e.g. `row[0]`). This can be less readable and more brittle from a code perspective. For example, if a government agency changes the structure of a CSV by re-ordering or adding new columns, code that relies on index position will need to be updated.\n",
    "\n",
    "<h3 id=\"dictreader\">DictReader</h3>\n",
    "\n",
    "When working with CSVs, it's often more useful, readable and future-proof to look up field values by column name. The `csv` module provides [DictReader][] for just this purpose.\n",
    "\n",
    "[DictReader]: https://docs.python.org/3/library/csv.html#csv.DictReader"
   ]
  },
  {
   "cell_type": "code",
   "execution_count": null,
   "id": "fe5868a8-949f-4851-81d4-f32f30a90517",
   "metadata": {},
   "outputs": [],
   "source": [
    "with open('files/data/animal_ratings.csv', 'r') as source_file:\n",
    "    dict_reader = csv.DictReader(source_file)\n",
    "    for row in dict_reader:\n",
    "        print(row)"
   ]
  },
  {
   "cell_type": "markdown",
   "id": "ed42887a-0bb8-4320-a9bf-cdb303632308",
   "metadata": {},
   "source": [
    "Some important notes on the above:\n",
    "\n",
    "* `DictReader` accepts an open file handle\n",
    "* It returns a [dictionary](python_dict_basics.ipynb) for each row, which contain `key:value` pairs for each item in the row.\n",
    "* `DictReader` assumes the first row contains column names, or headers, and automatically assigns the appropriate header as the key for each value in the row.\n",
    "\n",
    "Using `DictReader` frees us from having to more carefully handle the header row in a file, for example, when counting rows in a file. It also makes our code more readable and helps \"future-proof\" our work in the event that a government agency restructures the CSV."
   ]
  },
  {
   "cell_type": "markdown",
   "id": "c4d4d15a-04ca-4007-8922-1438630c494e",
   "metadata": {},
   "source": [
    "<h2 id=\"writing-csvs\">Writing CSVs</h2>\n",
    "\n",
    "The `csv` module also provides the ability to easily generate CSV files. Mirroring its read functionality, the module lets you write data rows structured as lists as well as dictionaries.\n",
    "\n",
    "<h3 id=\"writer\">Writer</h3>\n",
    "\n",
    "Below is an example showing how to write a truncated version of our data to a new file.\n"
   ]
  },
  {
   "cell_type": "code",
   "execution_count": null,
   "id": "23533486-a428-40c3-b0e3-a19649921e8e",
   "metadata": {},
   "outputs": [],
   "source": [
    "animals = [['animal', 'awesomeness'], ['cat', '5'], ['dog', '10']]\n",
    "with open('animal_shorlist.csv', 'w') as new_file:\n",
    "    writer = csv.writer(new_file)\n",
    "    for row in animals:\n",
    "         writer.writerow(row)"
   ]
  },
  {
   "cell_type": "markdown",
   "id": "a5db4892-5299-4ca2-8e8b-86e7193bf900",
   "metadata": {},
   "source": [
    "A few notes on the above:\n",
    "\n",
    "* We included the header row as the first item in the `animals` list.\n",
    "* [csv.writer][] requires an open file rather than a file path\n",
    "* We used the [writerow](https://docs.python.org/3/library/csv.html#csv.csvwriter.writerow) method in a \"for\" loop, although it's possible to skip the loop entirely and write all rows at once with the [writerows](https://docs.python.org/3/library/csv.html#csv.csvwriter.writerow) method.\n",
    "\n",
    "[csv.writer]: https://docs.python.org/3/library/csv.html#csv.writer\n",
    "\n",
    "The above generates `animals_shortlist.csv` with the below content:\n",
    "\n",
    "```\n",
    "animal,awesomeness\n",
    "cat,5\n",
    "dog,10\n",
    "```\n",
    "\n",
    "<h3 id=\"dictwriter\">DictWriter</h3>\n",
    "\n",
    "Similar to its counterpart on the reading side, [csv.DictWriter][] can make your code more readable and future-proof by allowing you to write rows structured as dictionaries.\n",
    "\n",
    "[csv.DictWriter]: https://docs.python.org/3/library/csv.html#csv.DictWriter\n",
    "\n",
    "Here's an example:\n"
   ]
  },
  {
   "cell_type": "code",
   "execution_count": null,
   "id": "8dd034a8-ab79-4cc3-872f-1ec81dbc42dd",
   "metadata": {},
   "outputs": [],
   "source": [
    "animals = [\n",
    "    {'animal': 'cat', 'awesomeness': '5'},\n",
    "    {'animal': 'dog', 'awesomeness': '10'}\n",
    "]\n",
    "with open('animals_shortlist.csv', 'w') as newfile:\n",
    "    col_headers = ['animal', 'awesomeness']\n",
    "    dict_writer = csv.DictWriter(newfile, fieldnames=col_headers)\n",
    "    dict_writer.writeheader()\n",
    "    dict_writer.writerows(animals)"
   ]
  },
  {
   "cell_type": "markdown",
   "id": "80067869-37d7-4b81-adab-0f5e26095667",
   "metadata": {},
   "source": [
    "`csv.DictWriter` is largely identical in usage to `csv.writer`, except that we must pass the column headers to the `fieldnames` argument. We also have to call `writeheader` to ensure that the header row is written to the file."
   ]
  },
  {
   "cell_type": "code",
   "execution_count": null,
   "id": "f798afd6-4ff4-47fb-b212-84220a71666f",
   "metadata": {},
   "outputs": [],
   "source": []
  }
 ],
 "metadata": {
  "kernelspec": {
   "display_name": "Python 3 (ipykernel)",
   "language": "python",
   "name": "python3"
  },
  "language_info": {
   "codemirror_mode": {
    "name": "ipython",
    "version": 3
   },
   "file_extension": ".py",
   "mimetype": "text/x-python",
   "name": "python",
   "nbconvert_exporter": "python",
   "pygments_lexer": "ipython3",
   "version": "3.11.4"
  }
 },
 "nbformat": 4,
 "nbformat_minor": 5
}
