{
 "cells": [
  {
   "cell_type": "markdown",
   "metadata": {},
   "source": [
    "# Dictionary basics\n",
    "\n",
    "## Overview\n",
    "\n",
    "Python dictionaries are flexible storage containers that, similar to lists, are a major workhorse for doing real work with the language.\n",
    "\n",
    "Dictionaries allow you to store values of varying types, from  simple integers and strings to lists, dictionaries and other data types and objects. \n",
    "\n",
    "Whereas items in lists are stored and looked up by position,  items in dictionaries are stored using a *unique name*, or \"key\".\n"
   ]
  },
  {
   "cell_type": "markdown",
   "metadata": {},
   "source": [
    "## The basics\n",
    "\n",
    "Dictionaries are enclosed with curly braces (`{}`) and contain key-value pairs that are separated by a colon (`:`).\n",
    "\n",
    "Each key-value pair is separated by a comma (`,`)."
   ]
  },
  {
   "cell_type": "code",
   "execution_count": null,
   "metadata": {},
   "outputs": [],
   "source": [
    "candidate = {\n",
    "    'name': 'Jane Doe',\n",
    "    'office': 'governor',\n",
    "    'winner': True\n",
    "}"
   ]
  },
  {
   "cell_type": "markdown",
   "metadata": {},
   "source": [
    "You can [look up values](https://www.w3schools.com/python/python_dictionaries_access.asp) in a dictionary by key. Below, note the use of the variable name and the square brackets `[]`."
   ]
  },
  {
   "cell_type": "code",
   "execution_count": null,
   "metadata": {},
   "outputs": [],
   "source": [
    "candidate['office']"
   ]
  },
  {
   "cell_type": "markdown",
   "metadata": {},
   "source": [
    "You can [insert values](https://www.w3schools.com/python/python_dictionaries_add.asp) into a dictionary by assigning a value to some key. Here again, you must access the key by using the square brackets."
   ]
  },
  {
   "cell_type": "code",
   "execution_count": null,
   "metadata": {},
   "outputs": [],
   "source": [
    "# Insert a new \"winner\" key with the value of True\n",
    "candidate['winner'] = True\n",
    "\n",
    "# Print the updated dictionary\n",
    "candidate"
   ]
  },
  {
   "cell_type": "markdown",
   "metadata": {},
   "source": [
    "Similarly, you can [update a value](https://www.w3schools.com/python/python_dictionaries_change.asp) by key:"
   ]
  },
  {
   "cell_type": "code",
   "execution_count": null,
   "metadata": {},
   "outputs": [],
   "source": [
    "candidate['winner'] = False\n",
    "candidate"
   ]
  },
  {
   "cell_type": "markdown",
   "metadata": {},
   "source": [
    "Key-value pairs, or *items*, can be [removed](https://www.w3schools.com/python/python_dictionaries_remove.asp) by key:"
   ]
  },
  {
   "cell_type": "code",
   "execution_count": null,
   "metadata": {},
   "outputs": [],
   "source": [
    "candidate.pop('winner')\n",
    "candidate"
   ]
  },
  {
   "cell_type": "markdown",
   "metadata": {},
   "source": [
    "Python will squawk at you if you try to look up a key that doesn't exist:"
   ]
  },
  {
   "cell_type": "code",
   "execution_count": null,
   "metadata": {},
   "outputs": [],
   "source": [
    "candidate['party']"
   ]
  },
  {
   "cell_type": "markdown",
   "metadata": {},
   "source": [
    "Dictionaries offer some [helpful methods](https://www.w3schools.com/python/python_dictionaries_methods.asp) to simplify their usage.\n",
    "\n",
    "The [`keys()`](https://www.w3schools.com/python/ref_dictionary_keys.asp) method provides a list of all the keys in the dictionary:\n"
   ]
  },
  {
   "cell_type": "code",
   "execution_count": null,
   "metadata": {},
   "outputs": [],
   "source": [
    "candidate.keys()"
   ]
  },
  {
   "cell_type": "markdown",
   "metadata": {},
   "source": [
    "You can use [`values()`](https://www.w3schools.com/python/ref_dictionary_values.asp) to list of all the values:"
   ]
  },
  {
   "cell_type": "code",
   "execution_count": null,
   "metadata": {},
   "outputs": [],
   "source": [
    "candidate.values()"
   ]
  },
  {
   "cell_type": "markdown",
   "metadata": {},
   "source": [
    "And you can use [`items()`](https://www.w3schools.com/python/ref_dictionary_items.asp) to get a list of all the key-value pairs, where each pair is as a two-element tuple (a list-like structure that cannot be modified):\n"
   ]
  },
  {
   "cell_type": "code",
   "execution_count": null,
   "metadata": {},
   "outputs": [],
   "source": [
    "candidate.items()"
   ]
  },
  {
   "cell_type": "markdown",
   "metadata": {},
   "source": [
    "When you [loop over a dictionary](https://www.w3schools.com/python/python_dictionaries_loop.asp), each key is automatically assigned to the specified variable so that you can look up it's value inside the loop:\n"
   ]
  },
  {
   "cell_type": "code",
   "execution_count": null,
   "metadata": {},
   "outputs": [],
   "source": [
    "for key in candidate:\n",
    "    print(key, \":\", candidate[key])"
   ]
  },
  {
   "cell_type": "markdown",
   "metadata": {},
   "source": [
    "If you need both the key *and* the value for some operation, it's often simpler to use the `.items()` method:"
   ]
  },
  {
   "cell_type": "code",
   "execution_count": null,
   "metadata": {},
   "outputs": [],
   "source": [
    "for key, val in candidate.items():\n",
    "    print(key, \":\", val)"
   ]
  },
  {
   "cell_type": "markdown",
   "metadata": {},
   "source": [
    "Dictionaries can contain arbitrarily nested data -- i.e. lists and other dictionaries, for instance. They offer a flexible way to craft data structures suitable for the task at hand.\n",
    "\n",
    "Imagine we needed to store some information about political candidates, organized by the office they're seeking."
   ]
  },
  {
   "cell_type": "code",
   "execution_count": null,
   "metadata": {},
   "outputs": [],
   "source": [
    "election = {}\n",
    "election['race'] = 'governor'\n",
    "election['candidates'] = []\n",
    "election"
   ]
  },
  {
   "cell_type": "markdown",
   "metadata": {},
   "source": [
    "Now we can add some politicians to the list stored under the `candidates` key:"
   ]
  },
  {
   "cell_type": "code",
   "execution_count": null,
   "metadata": {},
   "outputs": [],
   "source": [
    "election['candidates'].append({'name': 'Jane Doe', 'party': 'DEM'})\n",
    "election['candidates'].append({'name': 'John Smith', 'party': 'GOP'})\n",
    "election"
   ]
  },
  {
   "cell_type": "markdown",
   "metadata": {},
   "source": [
    "Dictionaries can get a bit gnarly to read in the shell, so we'll import and use `pprint` to more nicely format the `election` data:"
   ]
  },
  {
   "cell_type": "code",
   "execution_count": null,
   "metadata": {},
   "outputs": [],
   "source": [
    "from pprint import pprint\n",
    "pprint(election)"
   ]
  },
  {
   "cell_type": "markdown",
   "metadata": {},
   "source": [
    "Above, we see that the `candidates` key stores a list, which in turn stores a series of dictionaries with candidate information.\n",
    "ts\n",
    "You could continue adding data to the top-level dictionary or to nested parts of this dictionary, based on availbe data and your program's needs.\n",
    "\n",
    "A good rule of thumb, however, is to limit the amount of \"nesting\" to two or three levels. Anything beyond that can become unwieldy to manage.\n",
    "\n",
    "## Initializing records\n",
    "\n",
    "A common gotcha when using dictionaries is attempting to update a value that doesn't yet exist. Recall from earlier that we'll get an error if we try to look up key that is not yet present in the dictionary:\n"
   ]
  },
  {
   "cell_type": "code",
   "execution_count": null,
   "metadata": {},
   "outputs": [],
   "source": [
    "election['date']"
   ]
  },
  {
   "cell_type": "markdown",
   "metadata": {},
   "source": [
    "Let's say that we have some county-level vote counts for candidates in a gubernatorial election."
   ]
  },
  {
   "cell_type": "code",
   "execution_count": null,
   "metadata": {},
   "outputs": [],
   "source": [
    "votes = [\n",
    "  {\n",
    "    \"name\": \"Jane Doe\",\n",
    "    \"votes\": 10,\n",
    "    \"county\": \"Santa Clara County\"\n",
    "  },\n",
    "  {\n",
    "    \"name\": \"Jane Doe\",\n",
    "    \"votes\": 10,\n",
    "    \"county\": \"San Mateo County\"\n",
    "  },\n",
    "  {\n",
    "    \"name\": \"John Smith\",\n",
    "    \"votes\": 10,\n",
    "    \"county\": \"Santa Clara County\"\n",
    "  },\n",
    "  {\n",
    "    \"name\": \"John Smith\",\n",
    "    \"votes\": 5,\n",
    "    \"county\": \"San Mateo County\"\n",
    "  }\n",
    "]"
   ]
  },
  {
   "cell_type": "markdown",
   "metadata": {},
   "source": [
    "If we wanted to get a total vote count for each candidate, we could loop over the list and tally each candidate's votes by name. This is very similar in concept to a SQL [GROUP BY](https://www.w3schools.com/SQL/sql_ref_group_by.asp) query. \n",
    "\n",
    "> Note, in real life we'd want to use a safer \"unique\" key for each candidate to guard against scenarios where two candidates have the same name. It happens.\n",
    "\n",
    "Here's a first attempt at that strategy. We start by creating an empty dictionary to store totals by candidate name. Then we try looping over each candidate to update the vote count. \n"
   ]
  },
  {
   "cell_type": "code",
   "execution_count": null,
   "metadata": {},
   "outputs": [],
   "source": [
    "candidates = {}\n",
    "for vote in votes:\n",
    "    name = vote['name']\n",
    "    candidates[name] += vote['votes']"
   ]
  },
  {
   "cell_type": "markdown",
   "metadata": {},
   "source": [
    "Whoops! That didn't go as expected! The problem above is that our empty `candidates` dictionary does not yet contain an entry for any of the candidates in `votes`. What we need is a way to \"initialize\" an entry for these candidates on the first encounter, while on subsequent encounters we simply add the value to the pre-existing entry.\n",
    "\n",
    "Below is one way to approach this problem:"
   ]
  },
  {
   "cell_type": "code",
   "execution_count": null,
   "metadata": {},
   "outputs": [],
   "source": [
    "for vote in votes:\n",
    "    name = vote['name']\n",
    "    if name not in candidates:\n",
    "        candidates[name] = vote['votes']\n",
    "    else:\n",
    "        candidates[name] += vote['votes']\n",
    "candidates"
   ]
  },
  {
   "cell_type": "markdown",
   "metadata": {},
   "source": [
    "Above, we used an `if/else` conditional to check if the key is present in the dictionary. If not, that's an indication that it's the first time we've seen this candidate, so we simply insert the candidate and set its value to the vote count. Otherwise, we look up the value and update it by adding the latest vote count to the pre-existing value.\n",
    "\n",
    "The above works, but it's not considered \"Pythonic.\" Here's a more idiomatic approach that follows the [EAFP](https://stackoverflow.com/questions/11360858/what-is-the-eafp-principle-in-python) principle embraced by Pythonistas."
   ]
  },
  {
   "cell_type": "code",
   "execution_count": null,
   "metadata": {},
   "outputs": [],
   "source": [
    "candidates = {}\n",
    "for vote in votes:\n",
    "    name = vote['name']\n",
    "    votes = vote['votes']\n",
    "    try:\n",
    "        candidates[name] += votes\n",
    "    except KeyError:\n",
    "        candidates[name] = votes\n",
    "\n",
    "candidates"
   ]
  },
  {
   "cell_type": "markdown",
   "metadata": {},
   "source": [
    "Above, we use a [try/except](https://www.w3schools.com/python/python_try_except.asp) clause to first attempt adding votes to a pre-existing key. The code in the `try` block will raise a KeyError on the first encounter of a candidate, in which case we trap that error and simply insert the candidate's name and vote count. On all subsequent encounters of the candidate, the code inside the `try` block will work.\n",
    "\n",
    "## Further reading\n",
    "\n",
    "There's plenty more you can do with dictionaries. To learn more, check out:\n",
    "\n",
    "* [W3Schools Python Dictionaries](https://www.w3schools.com/python/python_dictionaries.asp)\n",
    "* [Chapter 5](https://automatetheboringstuff.com/2e/chapter5/) of *Automate the Boring Stuff, 2nd Edition*"
   ]
  },
  {
   "cell_type": "code",
   "execution_count": null,
   "metadata": {},
   "outputs": [],
   "source": []
  }
 ],
 "metadata": {
  "kernelspec": {
   "display_name": "Python 3 (ipykernel)",
   "language": "python",
   "name": "python3"
  },
  "language_info": {
   "codemirror_mode": {
    "name": "ipython",
    "version": 3
   },
   "file_extension": ".py",
   "mimetype": "text/x-python",
   "name": "python",
   "nbconvert_exporter": "python",
   "pygments_lexer": "ipython3",
   "version": "3.10.12"
  }
 },
 "nbformat": 4,
 "nbformat_minor": 4
}
