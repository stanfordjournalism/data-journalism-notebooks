{
 "cells": [
  {
   "cell_type": "markdown",
   "id": "9714a66d-74eb-464d-a3a7-0795b65de02e",
   "metadata": {},
   "source": [
    "# Reading and writing files\n",
    "\n",
    "- [Overview](#overview)\n",
    "- [Opening and closing files](#opening-and-closing-files)\n",
    "- [Reading a file](#reading-a-file)\n",
    "- [Read lines from file](#read-lines-from-file)\n",
    "- [Read lines efficiently](#read-lines-efficiently)\n",
    "- [Writing files](#writing-files)\n",
    "- [Tying it together with read and write](#tying-it-together-with-read-and-write)\n",
    "- [Further reading](#further-reading)\n",
    "\n",
    "<h2 id=\"overview\">Overview</h2>\n",
    "\n",
    "Learning how to read and write files is an essential programming task.\n",
    "\n",
    "Below are some examples intended to demonstrate some basic techniques. \n",
    "\n",
    "As you become more experienced with Python, you'll likely gradujate to tools such as Python's built-in `csv` module or `pandas.read_csv` to simplify the ingestion (or export) of data.\n",
    "\n",
    "But it's still helpful to get a grounding in the fundamentals of how file input/outpu (aka file IO), works in Python. It may come in handy when you're dealing with very large files, and more generally will help you understand the underlying Python functionality that such libraries rely on.\n",
    "\n",
    "> Most examples below use [files/data/animals.csv](files/data/animals.csv)\n",
    "\n",
    "<h2 =id\"opening-and-closing-files\">Opening and closing files</h2>\n",
    "\n",
    "Files are typically read from (or written to) in Python using the built-in [open](https://docs.python.org/3/library/functions.html#open) function.\n",
    "\n",
    "This function allows us to open a file in various modes.\n",
    "\n",
    "For example, to open a file in _read)_ mode:"
   ]
  },
  {
   "cell_type": "code",
   "execution_count": null,
   "id": "15258e8b-3053-4749-82f6-ede7738b5b90",
   "metadata": {},
   "outputs": [],
   "source": [
    "f1 = open('files/data/animals.csv', 'r') # 'r' is for read\n",
    "f1.close()"
   ]
  },
  {
   "cell_type": "markdown",
   "id": "43c1ab26-60ab-4a2b-84da-1762c85b1843",
   "metadata": {},
   "source": [
    "Opening a file in _append_ mode would allow you to add lines to pre-existing content"
   ]
  },
  {
   "cell_type": "code",
   "execution_count": null,
   "id": "07825d43-3278-41b3-a523-5fa00bc8a023",
   "metadata": {},
   "outputs": [],
   "source": [
    "f2 = open('files/data/animals.csv', 'a') # 'a' is for append\n",
    "f2.close()"
   ]
  },
  {
   "cell_type": "markdown",
   "id": "4a04868f-3caf-4dd5-bfe7-7ed5c3779ac9",
   "metadata": {},
   "source": [
    "Opening a file in write mode will overwrite pre-existing content."
   ]
  },
  {
   "cell_type": "code",
   "execution_count": null,
   "id": "7b20b739-4d6e-4eff-aff9-6538e10dfc1e",
   "metadata": {},
   "outputs": [],
   "source": [
    "f3 = open('files/data/fake_file.csv', 'w') # 'w' is for write\n",
    "f3.close()"
   ]
  },
  {
   "cell_type": "markdown",
   "id": "8cd36be5-a2c7-4edf-9344-f186870c2411",
   "metadata": {},
   "source": [
    "The `open` function has a few other modes, but the above read, append and write modes are the most useful to learn at the outset.\n",
    "\n",
    "Note that we made a point of closing all of the files. Failing to close a file can lead to [memory leaks](https://en.wikipedia.org/wiki/Memory_leak) and other unexpected behavor. For example, when working with files in a Jupyter notebook, content you've written may not get \"flushed\" to the file until you call the `close` method on the open file.\n",
    "\n",
    "<h3 id=\"with-idiom\">The \"with\" idiom</h3>\n",
    "\n",
    "As you get more familiar with Python, you'll notice the use of the `with` statement to open files. This is a common idiom which ensures that a file is properly closed after the `with` block of code completes execution.\n",
    "\n",
    "> Here's some [helpful background](https://jeffknupp.com/blog/2016/03/07/python-with-context-managers/) on why we should always use `with` to open files."
   ]
  },
  {
   "cell_type": "code",
   "execution_count": null,
   "id": "ad716b73-914b-4cb9-9627-b19ca94254b3",
   "metadata": {},
   "outputs": [],
   "source": [
    "with open('files/data/animals.csv', 'r') as myfile:\n",
    "    text = myfile.read()\n",
    "# At this point, we're outside the \"with\" block\n",
    "# and the file has been automatically closed\n",
    "print(text)"
   ]
  },
  {
   "cell_type": "markdown",
   "id": "87592f29-4ed8-407b-bc53-de35596710ff",
   "metadata": {},
   "source": [
    "This idiom can feel strange at first, but using it can help avoid memory leaks or other code problems.\n",
    "\n",
    "<h2 id=\"reading-a-file\">Reading a file</h2>\n",
    "\n",
    "The simplest way to read data from a file is the [read](https://www.w3schools.com/python/ref_file_read.asp) method on an open file [handle](https://en.wikipedia.org/wiki/Handle_(computing)).\n",
    "\n",
    "For example, to read data from [files/data/animals.csv](files/data/animals.csv)."
   ]
  },
  {
   "cell_type": "code",
   "execution_count": null,
   "id": "39e46938-eca0-4d37-872f-54d7802f7c72",
   "metadata": {},
   "outputs": [],
   "source": [
    "with open('files/data/animals.csv', 'r') as f:\n",
    "    text = f.read()\n",
    "print(text)"
   ]
  },
  {
   "cell_type": "markdown",
   "id": "391db040-d27e-4530-81d1-f4a15fa26086",
   "metadata": {},
   "source": [
    "<h2 id=\"read-lines-from-file\">Read lines from file</h2>\n",
    "\n",
    "When we read data from a file, often the most useful way to access that data is line by line. Unfortunately, the `.read` method mentioned above brings the data in as one large blob of text, leaving us on the hook for spliting that text into separate lines.\n",
    "\n",
    "It's not a ton of extra work, but why go to the trouble when Python gives us several ways to more quickly process individual rows?\n",
    "\n",
    "Below is an example using the [readlines](https://www.w3schools.com/python/ref_file_readlines.asp) method on open files.\n"
   ]
  },
  {
   "cell_type": "code",
   "execution_count": null,
   "id": "2aac49a8-2250-43c8-aaf8-c0f8fa05f3ae",
   "metadata": {},
   "outputs": [],
   "source": [
    "with open('files/data/animals.csv', 'r') as f:\n",
    "    animals = f.readlines()\n",
    "print(animals)"
   ]
  },
  {
   "cell_type": "markdown",
   "id": "acf61c0b-29cf-460a-a265-b4f183568686",
   "metadata": {},
   "source": [
    "Note above that the items in the list contain a `\\n` character. This is a [newline](https://en.wikipedia.org/wiki/Newline), an \"invisible\" character that is used to indicate the end of a line of text on Mac/Unix systems.\n",
    "\n",
    "When processing data read from files, we typically want to remove newlines using the [strip method](https://www.w3schools.com/python/ref_string_strip.asp)."
   ]
  },
  {
   "cell_type": "code",
   "execution_count": null,
   "id": "7be8234f-80b1-4641-bb99-05fa5e08c1c7",
   "metadata": {},
   "outputs": [],
   "source": [
    "animals[1] # here the first animal has a newline"
   ]
  },
  {
   "cell_type": "code",
   "execution_count": null,
   "id": "251edf4e-a40a-4b0a-864c-2b32f1e69f1c",
   "metadata": {},
   "outputs": [],
   "source": [
    "animals[1].strip() # here we strip it"
   ]
  },
  {
   "cell_type": "markdown",
   "id": "1d2030bc-22b0-4acf-b5e8-e4a6b56227e3",
   "metadata": {},
   "source": [
    "Stripping newlines helps ensure that programming logic such as name-based matching or filters don't accidentally fail due to the presence of newlines. For example, the below illustrates how newlines might trip you up.\n",
    "\n",
    "Notice the animal rows have newlines:"
   ]
  },
  {
   "cell_type": "code",
   "execution_count": null,
   "id": "bf66229c-d133-4f99-b1a8-c960581e6487",
   "metadata": {},
   "outputs": [],
   "source": [
    "print(animals)"
   ]
  },
  {
   "cell_type": "markdown",
   "id": "ad97a8c1-f3cf-44fc-922a-c17cb11d7385",
   "metadata": {},
   "source": [
    "Let's create a new list and attempt to store just the cat in the list:"
   ]
  },
  {
   "cell_type": "code",
   "execution_count": null,
   "id": "c5d22ebf-0839-447e-9418-cc2078128db0",
   "metadata": {},
   "outputs": [],
   "source": [
    "filtered_animals = []\n",
    "for animal in animals:\n",
    "    if animal == 'cat':\n",
    "        filtered_animals.append(animal)\n",
    "print(filtered_animals)"
   ]
  },
  {
   "cell_type": "markdown",
   "id": "c6641e22-61f3-4109-8837-9625364a6d1b",
   "metadata": {},
   "source": [
    "**Note:** The list is empty; our attempt to match \"cat\" failed!"
   ]
  },
  {
   "cell_type": "markdown",
   "id": "559dd00a-8720-42fe-9bab-d5ea26f468a2",
   "metadata": {},
   "source": [
    "Let's try again, this time also matching the newline character."
   ]
  },
  {
   "cell_type": "code",
   "execution_count": null,
   "id": "91562f76-9b29-4e37-993b-e2a4f131a23c",
   "metadata": {},
   "outputs": [],
   "source": [
    "for animal in animals:\n",
    "    if animal == 'cat\\n':\n",
    "         filtered_animals.append(animal)\n",
    "print(filtered_animals)"
   ]
  },
  {
   "cell_type": "markdown",
   "id": "998594f9-e547-4855-b7f8-99ef9e2c9fdd",
   "metadata": {},
   "source": [
    "This time the code worked as expected since we checked for the newline.\n",
    "\n",
    "A better alternative here would be to strip the newline and _then_ check `if animal == 'cat':`.\n",
    "\n",
    "The code not only becomes less confusing, but you've also performed a standard data cleaning operation on the data.\n",
    "\n",
    "Try updating the code above to strip the newline and check for the name."
   ]
  },
  {
   "cell_type": "markdown",
   "id": "9e553cb8-f504-4858-81be-445f051cf3e8",
   "metadata": {},
   "source": [
    "<h2 id=\"read-lines-efficientlyl\">Read lines efficiently</h2>\n",
    "\n",
    "The `readlines` method is handy, but Python provides an even simpler idiom for reading the lines of a file: just step through them using a [for loop](https://www.w3schools.com/python/python_for_loops.asp).\n"
   ]
  },
  {
   "cell_type": "code",
   "execution_count": null,
   "id": "a383227f-0f12-4a7b-81fb-180dfeab6411",
   "metadata": {},
   "outputs": [],
   "source": [
    "with open('files/data/animals.csv') as f:\n",
    "    for line in f:\n",
    "        print(line.strip())"
   ]
  },
  {
   "cell_type": "markdown",
   "id": "c5185a2e-7c21-4e3b-9a8d-35a82c782f02",
   "metadata": {},
   "source": [
    "Unlike `read` or `readlines`, the \"for loop\" method above reads each line from the file in a step-wise fashion, one by one. \n",
    "\n",
    "> This method of data ingestion is particularly handy when dealing with large files. It helps us avoid overwhelming our system's memory when dealing with larger data sets, by allowing us to process data row by row in a so-called \"stream\".\n",
    "\n",
    "<h2 id=\"writing-files>Writing files</h2>\n",
    "\n",
    "Let's say that we want to create a new file containing a filtered list of animals. Specifically, we just want animals whose names do not start with the letter \"c\".\n",
    "\n",
    "Let's start with a hard-coded list of animals (plus the column header `animal`).\n"
   ]
  },
  {
   "cell_type": "code",
   "execution_count": null,
   "id": "d739ce93-aece-44bb-801e-d3c668dc2a7c",
   "metadata": {},
   "outputs": [],
   "source": [
    "animals = ['animal', 'cat', 'cougar', 'dog', 'snake', 'narwhal']"
   ]
  },
  {
   "cell_type": "markdown",
   "id": "5a211a97-e5b3-4194-a97d-9e2e8d5c2ab3",
   "metadata": {},
   "source": [
    "Let's say we want to filter out all the animals that begin with the letter _c_. \n",
    "\n",
    "In other words, we want to _exclude_ `cat` and `cougar`.\n",
    "\n",
    "Below, we create an empty list (`animals_filtered`) to store the filtered list."
   ]
  },
  {
   "cell_type": "code",
   "execution_count": null,
   "id": "65987e96-d31d-4587-a3c2-c6ff3af77265",
   "metadata": {},
   "outputs": [],
   "source": [
    "animals_filtered = []\n",
    "for animal in animals:\n",
    "    if animal not in ['cat', 'cougar']:\n",
    "        animals_filtered.append(animal)\n",
    "print(animals_filtered)"
   ]
  },
  {
   "cell_type": "markdown",
   "id": "6f50c393-1e62-4051-a425-3547ae2774d5",
   "metadata": {},
   "source": [
    "Now we're ready to write the filtered data to a new file. \n",
    "\n",
    "In this example, we once again use the `open` function. But this time we use the `w`, or \"write\" mode.\n",
    "\n",
    "Also note that we add a newline to ensure that each item in our list appears on a separate row.\n"
   ]
  },
  {
   "cell_type": "code",
   "execution_count": null,
   "id": "9863370d-278f-4911-add5-9cb95c895ad4",
   "metadata": {},
   "outputs": [],
   "source": [
    "with open('animals_filtered.csv', 'w') as outfile:\n",
    "    for animal in animals_filtered:\n",
    "        # Note we have to add the newline that we\n",
    "        # stripped above\n",
    "        outfile.write(animal + '\\n')"
   ]
  },
  {
   "cell_type": "markdown",
   "id": "f02be1e2-1440-4a2d-9cd0-4eebaa8af054",
   "metadata": {},
   "source": [
    "<h2 id=\"tying-it-together-with-read-and-write\"> Tying it together with read and write</h2>\n",
    "\n",
    "So far we've learned how to read from and write to files separately, along with how to create filtered lists of data based on some conditional logic. We've also touched on the need to carefully handle the newline character.\n",
    "\n",
    "Now let's tie those skills together with a final example. Once again, we'll exclude animals whose names start with \"c\" (`cat`, `cougar`).\n",
    "\n",
    "We start by reading the data from [files/data/animals.csv](files/data/anfiles/data/animals.csv) and creating a filtered list of animals. \n",
    "\n",
    "Note that we provide the `r` option, for \"read\", to the `open` command and we strip the newline character from each line before checking it against our list of animals to exclude .\n"
   ]
  },
  {
   "cell_type": "code",
   "execution_count": null,
   "id": "1bb190eb-c507-4ef3-90dc-555714adf3f0",
   "metadata": {},
   "outputs": [],
   "source": [
    "animals_filtered = []\n",
    "with open('files/data/animals.csv', 'r') as infile:\n",
    "    for line in infile:\n",
    "        animal = line.strip()\n",
    "        if animal not in ['cat', 'cougar']:\n",
    "            animals_filtered.append(animal)\n",
    "\n",
    "print(animals_filtered)"
   ]
  },
  {
   "cell_type": "markdown",
   "id": "07211600-04f1-4f55-86db-800756d83ef0",
   "metadata": {},
   "source": [
    "Now we can write the filtered list to a new file. \n",
    "\n",
    "In this example, we once again use the `open` function with the `w`, or \"write\", option."
   ]
  },
  {
   "cell_type": "code",
   "execution_count": null,
   "id": "41fc5801-e9b7-424b-ba8d-7842c0a3109b",
   "metadata": {},
   "outputs": [],
   "source": [
    "with open('animals_filtered.csv', 'w') as outfile:\n",
    "    for animal in animals_filtered:\n",
    "        # Note we have to add the newline that we\n",
    "        # stripped above\n",
    "        outfile.write(animal + '\\n')"
   ]
  },
  {
   "cell_type": "markdown",
   "id": "a7c369eb-3ea5-43cf-a6ce-29d162c0450c",
   "metadata": {},
   "source": [
    "Go ahead and open the `animals_filtered.csv` you just generated (it should be in the same folder as this notebook).\n",
    "\n",
    "You should see the column header (`animal`) along with rows for _dog_, _snake_ and _narwhal_.\n",
    "\n",
    "It's worth noting that above, we created an extra bit of work for ourselves by stripping newlines when we read the source data. When we wrote the filtered data to a new file, we were forced to add the newline to each row.\n",
    "\n",
    "If we had not restored the newline, the data would have been jumbled into a single row in the file: `animaldogsnakenarwhal`.\n",
    "\n",
    "<h2 id=\"further-reading\">Further reading</h2>\n",
    "\n",
    "For more info on reading and writing files, check out:\n",
    "\n",
    "* The W3C chapters on file handling, starting with [Python file handling](https://www.w3schools.com/python/python_file_handling.asp).\n",
    "* [Chapter 9 - Reading and Writing Files](https://automatetheboringstuff.com/2e/chapter9/) of *Automate the Boring Stuff*"
   ]
  },
  {
   "cell_type": "code",
   "execution_count": null,
   "id": "6867ba18-e7ab-4590-af12-3e14a8ced796",
   "metadata": {},
   "outputs": [],
   "source": []
  }
 ],
 "metadata": {
  "kernelspec": {
   "display_name": "Python 3 (ipykernel)",
   "language": "python",
   "name": "python3"
  },
  "language_info": {
   "codemirror_mode": {
    "name": "ipython",
    "version": 3
   },
   "file_extension": ".py",
   "mimetype": "text/x-python",
   "name": "python",
   "nbconvert_exporter": "python",
   "pygments_lexer": "ipython3",
   "version": "3.10.12"
  }
 },
 "nbformat": 4,
 "nbformat_minor": 5
}
