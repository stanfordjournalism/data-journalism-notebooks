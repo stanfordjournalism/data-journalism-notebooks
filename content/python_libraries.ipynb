{
 "cells": [
  {
   "cell_type": "markdown",
   "id": "ed62168b-36c0-427c-a0b5-2294ee0f69c8",
   "metadata": {},
   "source": [
    "# Python Libraries\n",
    "\n",
    "- [Overview](#overview)\n",
    "- [The Python Standard Library Library](#python-standard-library)\n",
    "- [Importing modules](#importing-modules)\n",
    "- [3rd-party libraries](#third-party-libraries)\n",
    "- [Installing and using 3rd-party libraries](#installing-and-using-libraries)\n",
    "- [Further reading](#further-reading)\n",
    "\n",
    "<h2 id=\"overview\">Overview</h2>\n",
    "\n",
    "> \"Laziness: The quality that makes you go to great effort to reduce overall energy expenditure. It makes you write labor-saving programs that other people will find useful and document what you wrote so you don't have to answer so many questions about it.\" ~ [Larry Wall](http://threevirtues.com/), creator of Perl\n",
    "\n",
    "Programmers make a virtue of laziness. They routinely go out of their way to simplify complex tasks and automate mundane, repetitive work. They avoid [reinventing wheels](https://en.wikipedia.org/wiki/Reinventing_the_wheel).\n",
    "\n",
    "One way programmers accomplish the above is by writing reusable libraries, or packages, of code. Below we'll explore two avenues for making use of libraries.\n",
    "\n",
    "<h2 id=\"python-standard-library\">Python Standard Library</h2>\n",
    "\n",
    "Python itself ships with a large [standard library](https://docs.python.org/3/library/index.html) that helps with myriad programming tasks. These include:\n",
    "\n",
    "* [Downloading remote files](https://docs.python.org/3/library/urllib.request.html)\n",
    "* Working with [local files and directories](https://docs.python.org/3/library/os.html)\n",
    "* Reading and writing a range of data formats such as [CSV](https://docs.python.org/3/library/csv.html), [JSON](https://docs.python.org/3/library/json.html) and [XML](https://docs.python.org/3/library/xml.etree.elementtree.html)\n",
    "* Working with [dates and times](https://docs.python.org/3/library/datetime.html)\n",
    "* [Pattern matching](https://docs.python.org/3/library/re.html) in text\n",
    "\n",
    "The list goes on and on...Pythonistas like to say that the language comes with \"batteries included.\"\n",
    "\n",
    "<h2 id=\"importing-modules\">Importing modules</h2>\n",
    "\n",
    "Making use of the standard library simply requires you to import a given library or [module](https://www.w3schools.com/python/python_modules.asp) (the latter is the technical way to refer to a library in Python).\n",
    "\n",
    "You can import and use modules inside a python script, the interactive interpreter on the command line, or in Jupyter notebooks such as this one.\n",
    "\n",
    "Let's give it a try.\n",
    "\n",
    "Below we'll import the [json module](https://docs.python.org/3/library/json.html) to convert a Python dictionary to [JSON](https://www.w3schools.com/js/js_json_intro.asp), a common data format used in web programming."
   ]
  },
  {
   "cell_type": "code",
   "execution_count": null,
   "id": "01c76bf0-4c9b-4686-bb02-5c106556e644",
   "metadata": {},
   "outputs": [],
   "source": [
    "place = {'state': 'CA', 'city': 'Palo Alto'}\n",
    "import json\n",
    "json.dumps(place)"
   ]
  },
  {
   "cell_type": "markdown",
   "id": "c78d2d69-8671-40f7-8b87-b7cec97b995a",
   "metadata": {},
   "source": [
    "Alternatively, you could directly import the [dumps function](https://docs.python.org/3/library/json.html#json.dumps) using the `from [module] import [name]` syntax.\n"
   ]
  },
  {
   "cell_type": "code",
   "execution_count": null,
   "id": "06bad736-4fab-4d6a-92b9-457226c0c84d",
   "metadata": {},
   "outputs": [],
   "source": [
    "from json import dumps\n",
    "place = {'state': 'CA', 'city': 'Palo Alto'}\n",
    "dumps(place)"
   ]
  },
  {
   "cell_type": "markdown",
   "id": "b4fdca4b-e112-4edb-8562-dda9e47080c0",
   "metadata": {},
   "source": [
    "For more details on importing modules, check out:\n",
    "\n",
    "* [W3C Python Modules](https://www.w3schools.com/python/python_modules.asp)\n",
    "* *Importing Modules* section of [Chapter 2](https://automatetheboringstuff.com/2e/chapter2/) in *Automate the Boring Stuff*\n",
    "\n",
    "<h2 id=\"third-party-libraries\">Third-party libraries</h2>\n",
    "\n",
    "As a Python programmer, you also have access to more than 200,000 libraries built by third-party developers through the [Python Package Index](https://pypi.org/). Many of these libraries supplement the standard library, while some improve upon libraries already built into the language. The quality and usefulness varies, but in a number of areas, \"best of breed\" libraries have emerged that are frequently used by journalists. They include libraries for:\n",
    "\n",
    "* [Downloading files](https://requests.readthedocs.io/en/latest/) from the web and working with APIs\n",
    "* [Scraping web sites](https://www.crummy.com/software/BeautifulSoup/bs4/doc/)\n",
    "* [Analyzing](https://pandas.pydata.org/) and [visualizing data](https://altair-viz.github.io/)\n",
    "* Using [computer vision](https://opencv.org/)\n",
    "* Working with [geospatial data](http://geopandas.org/)\n",
    "* [Machine learning](https://scikit-learn.org/stable/index.html)\n",
    "\n",
    "If you can think of a task, Python most likely has a library for it.\n",
    "\n",
    "<h2 id=\"installing-and-using-libraries\">Installing and using libraries</h2>\n",
    "\n",
    "Unlike the standard library, you must first install a third-party library before you can import and use it in your code.\n",
    "\n",
    "Standard package management tools such as [pip](https://pip.pypa.io/en/stable/) and [pipenv](https://pipenv.readthedocs.io/en/latest/) can be used to install third-party libraries. In this course, we generally use `pipenv` to install libraries into \"virtual environments\" that allow us to isolate software dependencies for each project.\n",
    "\n",
    "For example, to install the [pandas][] data analysis library into `awesome-project`:\n",
    "\n",
    "[pandas]: https://pandas.pydata.org/\n",
    "\n",
    "```bash\n",
    "cd /path/to/awesome-project\n",
    "pipenv install pandas\n",
    "```\n",
    "\n",
    "> NOTE: On this this site, we've pre-installed `pandas` for you.\n",
    "\n",
    "Once installed in the virtual environment, you can import and use modules in the same way as described above in [Importing Modules](#importing-modules).\n",
    "\n",
    "**If you're working in a Jupyter notebook running your local machine, don't forget to activate the virtual environment before starting Jupyter lab**.\n",
    "\n",
    "```bash\n",
    "cd /path/to/awesome-project\n",
    "# Activate the virtual environment\n",
    "pipenv shell\n",
    "\n",
    "# Or jupyter lab\n",
    "jupyter lab\n",
    "```\n",
    "\n",
    "Once you're in a Jupyter notebook, you can import and use the `pandas` library."
   ]
  },
  {
   "cell_type": "code",
   "execution_count": null,
   "id": "421b811d-7e3e-46da-94fa-0dda2183ab68",
   "metadata": {},
   "outputs": [],
   "source": [
    "import pandas\n",
    "df = pandas.DataFrame(data=[1,2,3,4,5], columns=['numbers'])\n",
    "df"
   ]
  },
  {
   "cell_type": "markdown",
   "id": "fe9b9800-f7bb-4b8e-a4fb-07e144cd7526",
   "metadata": {},
   "source": [
    "<h2 id=\"further-reading\">Further reading</h2>\n",
    "\n",
    "**Importing and using modules**\n",
    "\n",
    "* *Importing Modules* section of [Chapter 2](https://automatetheboringstuff.com/2e/chapter2/) in *Automate the Boring Stuff*\n",
    "* [Hitchhiker's Guide to Python - Modules](https://docs.python-guide.org/writing/structure/#modules) - a bit technical, but solid overview of modules and good habits when importing code\n",
    "* [The import system](https://docs.python.org/3/reference/import.html) contains the gory details on importing modules\n",
    "\n",
    "**Python Standard Library**\n",
    "\n",
    "* [A Brief Tour of the Python Standard Library](https://docs.python.org/3.8/tutorial/stdlib.html) - a gentler introduction to a wide range of useful tools in the standard library\n",
    "* [The Python Standard Library](https://docs.python.org/3/library/index.html) - full index of everything in the standard library\n",
    "\n",
    "\n"
   ]
  }
 ],
 "metadata": {
  "kernelspec": {
   "display_name": "Python 3 (ipykernel)",
   "language": "python",
   "name": "python3"
  },
  "language_info": {
   "codemirror_mode": {
    "name": "ipython",
    "version": 3
   },
   "file_extension": ".py",
   "mimetype": "text/x-python",
   "name": "python",
   "nbconvert_exporter": "python",
   "pygments_lexer": "ipython3",
   "version": "3.10.12"
  }
 },
 "nbformat": 4,
 "nbformat_minor": 5
}
