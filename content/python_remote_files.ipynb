{
 "cells": [
  {
   "cell_type": "markdown",
   "id": "8a5f38ee",
   "metadata": {},
   "source": [
    "# Downloading remote files\n",
    "\n",
    "> IMPORTANT: This notebook should be used locally or in GitHub Codespaces.\n",
    "\n",
    "## Overview\n",
    "\n",
    "Acquiring files from government agencies and other data sources on the Web is crucial to data journalism. \n",
    "\n",
    "The Python language and ecosystem offer numerous libraries for working with remote resources. In this course, we'll focus on [requests][], a third-party library that is a go-to resource because of its ease of use and flexibility. [requests][] can handle a variety of scenarios, from simple downloads of data files to working with authentication-based APIs such as Twitter.\n",
    "\n",
    "[requests]: https://requests.readthedocs.io/en/latest/\n",
    "\n",
    "> If you're working locally (instead of GitHub Codespaces), you can use [pip](https://pip.pypa.io/en/stable/) or [pipenv](https://pipenv.pypa.io/en/latest/) to install `requests`."
   ]
  },
  {
   "cell_type": "markdown",
   "id": "82cbc866",
   "metadata": {},
   "source": [
    "## Usage\n",
    "\n",
    "In the below example, we use `requests` to download the [animals.csv][] sample data to a local file.\n",
    "\n",
    "[animals.csv]: https://raw.githubusercontent.com/stanfordjournalism/padj-code/main/data/animals.csv\n"
   ]
  },
  {
   "cell_type": "code",
   "execution_count": null,
   "id": "cfa29e27",
   "metadata": {},
   "outputs": [],
   "source": [
    "import requests\n",
    "url = \"https://raw.githubusercontent.com/stanfordjournalism/padj-code/main/data/animals.csv\"\n",
    "response = requests.get(url)\n",
    "response.text\n",
    "print(response.text)"
   ]
  },
  {
   "cell_type": "markdown",
   "id": "e8e2bbac",
   "metadata": {},
   "source": [
    "Above, we use `requests.get` to [make a request](https://requests.readthedocs.io/en/latest/user/quickstart/#make-a-request) for the remote file at a GitHub URL. The [contents](https://requests.readthedocs.io/en/latest/user/quickstart/#response-content) of the file are available in the `.text` attribute of the response (from GitHub) to our web request.\n",
    "\n",
    "From here, you can use standard methods for writing [files](python_file_io.ipynb) or [CSVs](python_csv.ipynb) to save the content in a local file."
   ]
  },
  {
   "cell_type": "code",
   "execution_count": null,
   "id": "7df43266",
   "metadata": {},
   "outputs": [],
   "source": [
    "with open('animals.csv', 'w') as local_file:\n",
    "    local_file.write(response.text)"
   ]
  },
  {
   "cell_type": "markdown",
   "id": "1e58bb0d",
   "metadata": {},
   "source": [
    "## Further reading\n",
    "\n",
    "The above is a very basic use case. Check out the [requests](https://requests.readthedocs.io/en/latest/) documentation for details on how to handle a variety of other scenarios."
   ]
  }
 ],
 "metadata": {
  "kernelspec": {
   "display_name": "Python 3 (ipykernel)",
   "language": "python",
   "name": "python3"
  },
  "language_info": {
   "codemirror_mode": {
    "name": "ipython",
    "version": 3
   },
   "file_extension": ".py",
   "mimetype": "text/x-python",
   "name": "python",
   "nbconvert_exporter": "python",
   "pygments_lexer": "ipython3",
   "version": "3.11.4"
  }
 },
 "nbformat": 4,
 "nbformat_minor": 5
}
