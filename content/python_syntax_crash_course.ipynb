{
 "cells": [
  {
   "attachments": {},
   "cell_type": "markdown",
   "id": "1343b952-6390-4e6e-9644-8559879bdf08",
   "metadata": {},
   "source": [
    "# Python Syntax Crash Course\n",
    "\n",
    "A whirlwind tour of some Python basics, including basic data types, variables, loops and conditional logic (don't worry, more on these terms below).\n",
    "\n",
    "**Dont try (or expect) to memorize this on the first pass.** This tutorial is intended to provide ambient awareness of the most useful basic Python syntax, and provide references along the way so you can dive deeper into specific topics.\n",
    "\n",
    "## Data Types\n",
    "\n",
    "Let's kick off our minimalist tour of Python with [data types](https://en.wikipedia.org/wiki/Data_type), which are among the most basic building blocks of a programming language.\n",
    "\n",
    "Like other languages, Python has a variety of basic [data types](https://www.w3schools.com/python/python_datatypes.asp), including:\n",
    "\n",
    "- integers\n",
    "- floating-point [numbers](https://www.w3schools.com/python/python_numbers.asp)\n",
    "- [strings](https://www.w3schools.com/python/python_strings.asp) (ie text)\n",
    "\n",
    "Below, we've prepared some examples of numbrers and bits of text in code cells. \n",
    "\n",
    "Take some time to run each cell using the play (&#9654;) button on the command palette for this notebook.  or hitting Shift + Return`. Change the values and tinker a bit."
   ]
  },
  {
   "cell_type": "code",
   "execution_count": 3,
   "id": "1a04b2a6-15b8-4731-986b-93415fc47251",
   "metadata": {},
   "outputs": [
    {
     "data": {
      "text/plain": [
       "2"
      ]
     },
     "execution_count": 3,
     "metadata": {},
     "output_type": "execute_result"
    }
   ],
   "source": [
    "2"
   ]
  },
  {
   "cell_type": "code",
   "execution_count": 4,
   "id": "8ddc202f-6859-4a05-b482-c23c9b3925f7",
   "metadata": {},
   "outputs": [
    {
     "data": {
      "text/plain": [
       "2.5"
      ]
     },
     "execution_count": 4,
     "metadata": {},
     "output_type": "execute_result"
    }
   ],
   "source": [
    "2.5"
   ]
  },
  {
   "cell_type": "code",
   "execution_count": 5,
   "id": "602903ec-d58e-483a-9f79-5d03a3dbeea7",
   "metadata": {},
   "outputs": [
    {
     "data": {
      "text/plain": [
       "'A text string is wrapped double quotes'"
      ]
     },
     "execution_count": 5,
     "metadata": {},
     "output_type": "execute_result"
    }
   ],
   "source": [
    "\"A text string is wrapped double quotes\""
   ]
  },
  {
   "cell_type": "code",
   "execution_count": 6,
   "id": "a6b4e751-ff71-4cfc-9251-79bc1658dd90",
   "metadata": {},
   "outputs": [
    {
     "data": {
      "text/plain": [
       "'Or you can use single quotes for text'"
      ]
     },
     "execution_count": 6,
     "metadata": {},
     "output_type": "execute_result"
    }
   ],
   "source": [
    "'Or you can use single quotes for text'"
   ]
  },
  {
   "cell_type": "markdown",
   "id": "cd2a541b-f1a1-41e7-8d8b-14e8ddff5466",
   "metadata": {},
   "source": [
    "Programming lanugages such as Python give you the ability to write [expressions](https://automatetheboringstuff.com/2e/chapter1/#calibre_link-90) to do useful things such as math or combining text pieces of text. \n",
    "\n",
    "An expression combines basic values (i.e. data types such as numbers or strings) with [operators](https://www.w3schools.com/python/python_operators.asp).\n",
    "\n",
    "Here's a math example where the numbers are the _values_ and the plus sign (`+`) is the _operator_. "
   ]
  },
  {
   "cell_type": "code",
   "execution_count": 9,
   "id": "b9b0a981-3557-49b8-bd09-5b2307c2c990",
   "metadata": {},
   "outputs": [
    {
     "data": {
      "text/plain": [
       "5"
      ]
     },
     "execution_count": 9,
     "metadata": {},
     "output_type": "execute_result"
    }
   ],
   "source": [
    "2 + 3"
   ]
  },
  {
   "cell_type": "markdown",
   "id": "8f3e0986-15f9-4ad4-b550-3c6d3ca7e4c1",
   "metadata": {},
   "source": [
    "Simple, right? Here's a string example where the `+` sign serves to join together bits of text:"
   ]
  },
  {
   "cell_type": "code",
   "execution_count": 10,
   "id": "56de07e9-4758-4840-b49d-19383e2e72d2",
   "metadata": {},
   "outputs": [
    {
     "data": {
      "text/plain": [
       "'catsdogs'"
      ]
     },
     "execution_count": 10,
     "metadata": {},
     "output_type": "execute_result"
    }
   ],
   "source": [
    "'cats' + 'dogs'"
   ]
  },
  {
   "cell_type": "markdown",
   "id": "c2f14469-cbd5-40ad-897b-6823644eef8a",
   "metadata": {},
   "source": [
    "Let's make things a bit more readable."
   ]
  },
  {
   "cell_type": "code",
   "execution_count": 12,
   "id": "ad76d4e5-6d2f-4066-a4fd-fab58ea2cb58",
   "metadata": {},
   "outputs": [
    {
     "data": {
      "text/plain": [
       "'cats and dogs'"
      ]
     },
     "execution_count": 12,
     "metadata": {},
     "output_type": "execute_result"
    }
   ],
   "source": [
    "'cats' + ' and ' + 'dogs'"
   ]
  },
  {
   "cell_type": "markdown",
   "id": "8a033b0c-7ea9-4d8e-bfd0-2886cc59ed45",
   "metadata": {},
   "source": [
    "## Errors\n",
    "\n",
    "Invariably, you'll run into errors, or [\"exceptions\"](https://www.w3schools.com/python/python_ref_exceptions.asp) in Python lingo. They can be jarring at first, but they're quite helpful. [Learn to love them](embracing_errors.md).\n",
    "\n",
    "For example, math mistakes will cause an exception."
   ]
  },
  {
   "cell_type": "code",
   "execution_count": 13,
   "id": "ad763b26-72a2-47a2-8ae3-a71f466f90c6",
   "metadata": {},
   "outputs": [
    {
     "ename": "ZeroDivisionError",
     "evalue": "division by zero",
     "output_type": "error",
     "traceback": [
      "\u001b[0;31m---------------------------------------------------------------------------\u001b[0m",
      "\u001b[0;31mZeroDivisionError\u001b[0m                         Traceback (most recent call last)",
      "Cell \u001b[0;32mIn[13], line 1\u001b[0m\n\u001b[0;32m----> 1\u001b[0m \u001b[38;5;241;43m5\u001b[39;49m\u001b[43m \u001b[49m\u001b[38;5;241;43m/\u001b[39;49m\u001b[43m \u001b[49m\u001b[38;5;241;43m0\u001b[39;49m\n",
      "\u001b[0;31mZeroDivisionError\u001b[0m: division by zero"
     ]
    }
   ],
   "source": [
    "5 / 0"
   ]
  },
  {
   "cell_type": "markdown",
   "id": "168a8f1d-71c8-4c66-9c64-00fe8b369520",
   "metadata": {},
   "source": [
    "Python can also get confused if you try to perform operations on different data types (not all programming languages are this nitpicky btw)."
   ]
  },
  {
   "cell_type": "code",
   "execution_count": 15,
   "id": "46abcd42-3f7c-4f7b-aade-83427b7f388a",
   "metadata": {},
   "outputs": [
    {
     "ename": "TypeError",
     "evalue": "can only concatenate str (not \"int\") to str",
     "output_type": "error",
     "traceback": [
      "\u001b[0;31m---------------------------------------------------------------------------\u001b[0m",
      "\u001b[0;31mTypeError\u001b[0m                                 Traceback (most recent call last)",
      "Cell \u001b[0;32mIn[15], line 1\u001b[0m\n\u001b[0;32m----> 1\u001b[0m \u001b[38;5;124;43m'\u001b[39;49m\u001b[38;5;124;43mcats\u001b[39;49m\u001b[38;5;124;43m'\u001b[39;49m\u001b[43m \u001b[49m\u001b[38;5;241;43m+\u001b[39;49m\u001b[43m \u001b[49m\u001b[38;5;241;43m5\u001b[39;49m\n",
      "\u001b[0;31mTypeError\u001b[0m: can only concatenate str (not \"int\") to str"
     ]
    }
   ],
   "source": [
    "'cats' + 5"
   ]
  },
  {
   "cell_type": "markdown",
   "id": "f80fd55d-ab55-495b-9807-e423b907cd3d",
   "metadata": {},
   "source": [
    "Python squawks here because it doesn't understand whether you're trying to do math or combine pieces of text. Obviously adding text to a number data type doesn't make much sense, but what if you were trying to combine the string `cats` with the number 5 to produce a string equal to `cat5`? \n",
    "\n",
    "You *can* accomplish this by making sure you treat the number as a string by wrapping it in quotes."
   ]
  },
  {
   "cell_type": "code",
   "execution_count": 17,
   "id": "e1f36689-8762-4518-bdd5-e1d22e7637f6",
   "metadata": {},
   "outputs": [
    {
     "data": {
      "text/plain": [
       "'cats5'"
      ]
     },
     "execution_count": 17,
     "metadata": {},
     "output_type": "execute_result"
    }
   ],
   "source": [
    "'cats' + '5'"
   ]
  },
  {
   "cell_type": "markdown",
   "id": "4fd65260-b7d8-4115-8ef3-0f3823fa5e50",
   "metadata": {},
   "source": [
    "In the above example, the `'5'` is not an integer data type, but the **string representation** of the number. That's why we're able to add this \"stringified\" `5` to the word `'cats'`."
   ]
  },
  {
   "cell_type": "markdown",
   "id": "d7c14e26-b1d6-4a51-921a-87e0bc960f2b",
   "metadata": {},
   "source": [
    "## Comparison operations\n",
    "\n",
    "You can [compare values](https://www.w3schools.com/python/gloss_python_comparison_operators.asp) in Python."
   ]
  },
  {
   "cell_type": "code",
   "execution_count": 19,
   "id": "4ccf98d3-013a-42ec-86b5-c0f7aff84dc6",
   "metadata": {},
   "outputs": [
    {
     "data": {
      "text/plain": [
       "True"
      ]
     },
     "execution_count": 19,
     "metadata": {},
     "output_type": "execute_result"
    }
   ],
   "source": [
    "1 > 0"
   ]
  },
  {
   "cell_type": "code",
   "execution_count": 20,
   "id": "bdade7d4-dacc-4463-b903-8eaa98cbf492",
   "metadata": {},
   "outputs": [
    {
     "data": {
      "text/plain": [
       "False"
      ]
     },
     "execution_count": 20,
     "metadata": {},
     "output_type": "execute_result"
    }
   ],
   "source": [
    "1 > 2"
   ]
  },
  {
   "cell_type": "code",
   "execution_count": 21,
   "id": "ebab5b8c-02f4-4208-92b5-84bdb587a8c1",
   "metadata": {},
   "outputs": [
    {
     "data": {
      "text/plain": [
       "True"
      ]
     },
     "execution_count": 21,
     "metadata": {},
     "output_type": "execute_result"
    }
   ],
   "source": [
    "'this' == 'this'"
   ]
  },
  {
   "cell_type": "code",
   "execution_count": 22,
   "id": "ea0646cf-d998-46f9-86e2-ca74950d9a02",
   "metadata": {},
   "outputs": [
    {
     "data": {
      "text/plain": [
       "False"
      ]
     },
     "execution_count": 22,
     "metadata": {},
     "output_type": "execute_result"
    }
   ],
   "source": [
    "'this' == 'that'"
   ]
  },
  {
   "cell_type": "markdown",
   "id": "2b698d8e-3729-4aa9-9330-382185639670",
   "metadata": {},
   "source": [
    "## Variables\n",
    "\n",
    "Things start to get interesting when we use [variables](https://www.w3schools.com/python/python_variables.asp). Think of variables as storage containers for values."
   ]
  },
  {
   "cell_type": "code",
   "execution_count": 24,
   "id": "73bce8bd-00cf-4b81-a97e-992f2a23632f",
   "metadata": {},
   "outputs": [],
   "source": [
    "height = 10"
   ]
  },
  {
   "cell_type": "code",
   "execution_count": 25,
   "id": "69dcd170-2d6a-479e-8a22-628a9acefd0e",
   "metadata": {},
   "outputs": [],
   "source": [
    "width = 5"
   ]
  },
  {
   "cell_type": "markdown",
   "id": "89cbf17c-b05c-48f5-9bdf-4ec3c6bdbe07",
   "metadata": {},
   "source": [
    "You can now reference those values by the name of the variables."
   ]
  },
  {
   "cell_type": "code",
   "execution_count": 27,
   "id": "009fee7c-d3f2-4131-a88c-7ea4f74c1bd1",
   "metadata": {},
   "outputs": [
    {
     "data": {
      "text/plain": [
       "10"
      ]
     },
     "execution_count": 27,
     "metadata": {},
     "output_type": "execute_result"
    }
   ],
   "source": [
    "height"
   ]
  },
  {
   "cell_type": "code",
   "execution_count": 28,
   "id": "c9ca4938-b0f2-4d34-bd7d-484b9fd2087d",
   "metadata": {},
   "outputs": [
    {
     "data": {
      "text/plain": [
       "5"
      ]
     },
     "execution_count": 28,
     "metadata": {},
     "output_type": "execute_result"
    }
   ],
   "source": [
    "width"
   ]
  },
  {
   "cell_type": "markdown",
   "id": "20905174-7675-45e5-8f75-52330b362285",
   "metadata": {},
   "source": [
    "And, most importantly, use those values in expressions."
   ]
  },
  {
   "cell_type": "code",
   "execution_count": 29,
   "id": "43e3351a-bc65-4534-8e0d-bdea28982669",
   "metadata": {},
   "outputs": [
    {
     "data": {
      "text/plain": [
       "50"
      ]
     },
     "execution_count": 29,
     "metadata": {},
     "output_type": "execute_result"
    }
   ],
   "source": [
    "area = height * width\n",
    "area"
   ]
  },
  {
   "cell_type": "markdown",
   "id": "d4f2a2d3-f97e-4c29-83e6-206dd22039ec",
   "metadata": {},
   "source": [
    "Here's an example with strings."
   ]
  },
  {
   "cell_type": "code",
   "execution_count": 31,
   "id": "0df1a8d3-d8cf-42e4-a471-29d19dfbd6d3",
   "metadata": {},
   "outputs": [
    {
     "data": {
      "text/plain": [
       "'cat and dog'"
      ]
     },
     "execution_count": 31,
     "metadata": {},
     "output_type": "execute_result"
    }
   ],
   "source": [
    "feline = 'cat'\n",
    "canine = 'dog'\n",
    "feline + ' and ' + canine"
   ]
  },
  {
   "cell_type": "markdown",
   "id": "ba7a5fcd-0495-44cb-bda3-0119c9f1e297",
   "metadata": {},
   "source": [
    "You can change the value of variables."
   ]
  },
  {
   "cell_type": "code",
   "execution_count": 32,
   "id": "3bc199eb-3a10-4e8b-bf9f-c31c7f9b6fbe",
   "metadata": {},
   "outputs": [
    {
     "data": {
      "text/plain": [
       "'dog?'"
      ]
     },
     "execution_count": 32,
     "metadata": {},
     "output_type": "execute_result"
    }
   ],
   "source": [
    "feline = 'dog?'\n",
    "feline"
   ]
  },
  {
   "cell_type": "code",
   "execution_count": 39,
   "id": "58887d2a-c44a-4d1f-a18c-30308748687b",
   "metadata": {},
   "outputs": [
    {
     "data": {
      "text/plain": [
       "2"
      ]
     },
     "execution_count": 39,
     "metadata": {},
     "output_type": "execute_result"
    }
   ],
   "source": [
    "num = 1\n",
    "num2 = 1\n",
    "num + num2"
   ]
  },
  {
   "cell_type": "markdown",
   "id": "9d521404-0014-411f-afa8-59f2b84895c1",
   "metadata": {},
   "source": [
    "Now let's update the value of `num2` and see how the `result` changes."
   ]
  },
  {
   "cell_type": "code",
   "execution_count": 40,
   "id": "1a9c1ad1-faee-4663-8cf3-e8589313bff4",
   "metadata": {},
   "outputs": [
    {
     "data": {
      "text/plain": [
       "3"
      ]
     },
     "execution_count": 40,
     "metadata": {},
     "output_type": "execute_result"
    }
   ],
   "source": [
    "num2 = 2\n",
    "num + num2\n"
   ]
  },
  {
   "cell_type": "markdown",
   "id": "a8afb365-3e12-4d5e-93bb-eb6edd7ad341",
   "metadata": {},
   "source": [
    "The ability to store values in variables allows us to compose increasingly sophisticated programs, by storing the result of one step and using it in another part of a program.\n",
    "\n",
    "## Functions\n",
    "\n",
    "Python includes a variety of [built-in functions](https://www.w3schools.com/python/python_ref_functions.asp) that will come in handy. These are helpful bits of code that can perform certain operations. Typically you need to feed one or more values as input [arguments](https://www.w3schools.com/python/gloss_python_function_arguments.asp) to a function. What you provide depends on the nature of the function.\n",
    "\n",
    "We \"call\", or execute, a function by referencing its name, followed by a pair of parentheses: `some_function()`.\n",
    "\n",
    "If the function takes arguments, we \"pass those in\" by placing those values inside the parentheses: `some_function_with_args(1, 'two', 'etc')`\n",
    "\n",
    "For example, Python has a built-in function called [`len`](https://www.w3schools.com/python/ref_func_len.asp) that counts the number of items in a sequence, such as the characters in a string.\n"
   ]
  },
  {
   "cell_type": "code",
   "execution_count": 41,
   "id": "7a0e17ca-ae9c-4261-bcc6-64bd5afd4759",
   "metadata": {},
   "outputs": [
    {
     "data": {
      "text/plain": [
       "3"
      ]
     },
     "execution_count": 41,
     "metadata": {},
     "output_type": "execute_result"
    }
   ],
   "source": [
    "len('cat')"
   ]
  },
  {
   "cell_type": "markdown",
   "id": "adb6c5e5-8ef8-48c4-b967-d8384a1f49f4",
   "metadata": {},
   "source": [
    "The [`print` function](https://www.w3schools.com/python/ref_func_print.asp)...well...prints things. This one is extremely handy, especially as we start writing larger Python scripts and we need a way to gain visibility into values stored in variables and passed around various parts of our program or notebook. You can use `print` to reveal the value of a variable in your code.\n",
    "\n",
    "For example, let's print the value of the `area` variable we created earlier."
   ]
  },
  {
   "cell_type": "code",
   "execution_count": 42,
   "id": "f055646f-64a6-4572-a851-993ea0bcda30",
   "metadata": {},
   "outputs": [
    {
     "name": "stdout",
     "output_type": "stream",
     "text": [
      "50\n"
     ]
    }
   ],
   "source": [
    "print(area)"
   ]
  },
  {
   "cell_type": "markdown",
   "id": "0b7cd28a-480f-4f1f-8c94-00403afc02b7",
   "metadata": {},
   "source": [
    "Granted, in a Jupyter Notebook such as this, you can also just reference the variable by name to display it's current value."
   ]
  },
  {
   "cell_type": "code",
   "execution_count": 43,
   "id": "b5a1160b-58c3-43e2-bc79-ba401fb4cb37",
   "metadata": {},
   "outputs": [
    {
     "data": {
      "text/plain": [
       "50"
      ]
     },
     "execution_count": 43,
     "metadata": {},
     "output_type": "execute_result"
    }
   ],
   "source": [
    "area"
   ]
  },
  {
   "cell_type": "markdown",
   "id": "6a6fd62a-effc-40b5-9795-513288b2d2be",
   "metadata": {},
   "source": [
    "But in the very common case where a code cell contains more than one simple expression, `print` becomes much more handy."
   ]
  },
  {
   "cell_type": "code",
   "execution_count": 48,
   "id": "9fb94f90-6d98-469c-9230-80c2a21e6b55",
   "metadata": {},
   "outputs": [
    {
     "name": "stdout",
     "output_type": "stream",
     "text": [
      "10\n",
      "20\n"
     ]
    },
    {
     "data": {
      "text/plain": [
       "30"
      ]
     },
     "execution_count": 48,
     "metadata": {},
     "output_type": "execute_result"
    }
   ],
   "source": [
    "# Here we use print to display the value of variables as we create them, except for the last variable\n",
    "x = 10\n",
    "print(x) # This makes the number\n",
    "\n",
    "y = 20\n",
    "print(y)\n",
    "\n",
    "z = x + y\n",
    "z # Note here we *don't* use print and "
   ]
  },
  {
   "cell_type": "markdown",
   "id": "1b9409df-e0c3-4d44-b6eb-c67b37fa7483",
   "metadata": {},
   "source": [
    "## Lists\n",
    "\n",
    "[Lists](https://www.w3schools.com/python/python_lists.asp), or arrays if you're coming from some other fancy programming language, allow you to store a sequence of items. You can create a list by surrounding a series of values in square brackets `[]`."
   ]
  },
  {
   "cell_type": "code",
   "execution_count": 50,
   "id": "97b4efb9-bfcf-428f-adb3-32e2e5c463bb",
   "metadata": {},
   "outputs": [
    {
     "data": {
      "text/plain": [
       "[1, 2, 3]"
      ]
     },
     "execution_count": 50,
     "metadata": {},
     "output_type": "execute_result"
    }
   ],
   "source": [
    "[1, 2, 3]"
   ]
  },
  {
   "cell_type": "code",
   "execution_count": 51,
   "id": "c30ad00e-e688-4301-a24e-0cf547ccba0c",
   "metadata": {},
   "outputs": [
    {
     "data": {
      "text/plain": [
       "['one', 'two', 'three']"
      ]
     },
     "execution_count": 51,
     "metadata": {},
     "output_type": "execute_result"
    }
   ],
   "source": [
    "['one', 'two', 'three']"
   ]
  },
  {
   "cell_type": "markdown",
   "id": "1e3a4262-948c-4802-8620-616d8a517ef6",
   "metadata": {},
   "source": [
    "Lists can store values of different data types."
   ]
  },
  {
   "cell_type": "code",
   "execution_count": 52,
   "id": "d3a25120-8298-448c-8018-726a921c0b29",
   "metadata": {},
   "outputs": [
    {
     "data": {
      "text/plain": [
       "['three', 2, 'one']"
      ]
     },
     "execution_count": 52,
     "metadata": {},
     "output_type": "execute_result"
    }
   ],
   "source": [
    "['three', 2, 'one']"
   ]
  },
  {
   "cell_type": "markdown",
   "id": "9afd9de5-9323-4222-8e25-fd48f378f127",
   "metadata": {},
   "source": [
    "You can create an empty list and store it in a variable."
   ]
  },
  {
   "cell_type": "code",
   "execution_count": 54,
   "id": "83c88ee5-83c6-4912-89a4-b38f54d950af",
   "metadata": {},
   "outputs": [
    {
     "data": {
      "text/plain": [
       "[]"
      ]
     },
     "execution_count": 54,
     "metadata": {},
     "output_type": "execute_result"
    }
   ],
   "source": [
    "numbers = []\n",
    "numbers"
   ]
  },
  {
   "cell_type": "markdown",
   "id": "4a96f463-3889-4866-9bf4-dff0788479a2",
   "metadata": {},
   "source": [
    "Then, you can [add data](https://www.w3schools.com/python/python_lists_add.asp) to the list."
   ]
  },
  {
   "cell_type": "code",
   "execution_count": 55,
   "id": "5abb6baa-699a-432f-b748-e6a9aa8d5cec",
   "metadata": {},
   "outputs": [
    {
     "data": {
      "text/plain": [
       "[1, 2, 3]"
      ]
     },
     "execution_count": 55,
     "metadata": {},
     "output_type": "execute_result"
    }
   ],
   "source": [
    "numbers.append(1)\n",
    "numbers.append(2)\n",
    "numbers.append(3)\n",
    "numbers"
   ]
  },
  {
   "cell_type": "markdown",
   "id": "b82b8a7f-a03d-4760-8a07-b812d85c4ba2",
   "metadata": {},
   "source": [
    "## Loops\n",
    "\n",
    "But wait, it gets better! You can [\"loop\"](https://www.w3schools.com/python/python_for_loops.asp) over the items in a list and perform actions on each one."
   ]
  },
  {
   "cell_type": "code",
   "execution_count": 61,
   "id": "94917368-829b-4319-9cb2-f585ec369467",
   "metadata": {},
   "outputs": [
    {
     "name": "stdout",
     "output_type": "stream",
     "text": [
      "2\n",
      "4\n",
      "6\n"
     ]
    }
   ],
   "source": [
    "for number in numbers:\n",
    "    print(number * 2)"
   ]
  },
  {
   "cell_type": "markdown",
   "id": "52b702c5-576c-4723-b007-bee1c02954fa",
   "metadata": {},
   "source": [
    "Hold up! Wait a minute! Let's talk. A few key things to note about the above code:\n",
    "\n",
    "- `number` is just a variable name that *automatically* stores each integer in the list as we \"iterate\" or \"loop\" through the items, in order. This allows us to use the value in the context of the loop.\n",
    "- The above code effectively means, `for <variable> in <list>:`, do stuff. There's nothing special about the name `number` for the variable. We could have just as easily said `for hamster in numbers`. But that would be strange.\n",
    "- Note the colon after `numbers:` and the indentation of the `print` statement. Python uses the colon and [indentation](https://www.w3schools.com/python/python_syntax.asp#python_indentation) (4 spaces by convention) to group related code into a \"block\". Above, any code that was indented to the same level as the `print` statement -- e.g. the `new_number = number * 2` bit -- would take place in the context of the loop. \n",
    "\n",
    "Let's add some more code to the \"block\" inside the \"for\" loop. Remember, these operations are repeated for each integer in the list:"
   ]
  },
  {
   "cell_type": "code",
   "execution_count": 63,
   "id": "21198da8-556e-47ac-9776-8dd705daba96",
   "metadata": {},
   "outputs": [
    {
     "name": "stdout",
     "output_type": "stream",
     "text": [
      "1 | 2 | 0\n",
      "2 | 4 | 1\n",
      "3 | 6 | 2\n"
     ]
    }
   ],
   "source": [
    "for number in numbers:\n",
    "    times_2 = number * 2\n",
    "    minus_1 = number - 1\n",
    "    print(number, '|', times_2, '|', minus_1) # you can supply multiple arguments to print"
   ]
  },
  {
   "cell_type": "markdown",
   "id": "f8acb750-1987-4f3e-b96e-062e9e1d97f8",
   "metadata": {},
   "source": [
    "Above, we printed three separate items for each integer: the original value, the value multliplied by 2, and the value minus 1. And we threw in a few pipes (`|`) for readability. Not too shabby.\n",
    "\n",
    "Note that the value of `number` did not change despite the math operations performed. That's because we didn't overwrite, or replace, the value stored in `number`. Here's what we did:\n",
    " * Grabbed the value stored in the variable by using its name (`number`)\n",
    " * Performed a few math operations with it\n",
    " * Stored the resulting values of those operations in new variables (`times_2`and `minus_1`)\n",
    " * Printed the original number and new values. With some pipes thrown into the mix.\n",
    " \n",
    " Note that the value stored in `number` only changes when the code block is completed and the \"loop\" advances to the next item in the list. At that point, the \"for\" loop automatically assigns the next integer to the `number` variable.\n",
    "\n",
    " Good? Good.\n",
    "\n",
    "Oh, one more note: We also haven't changed the original list of `numbers`:\n"
   ]
  },
  {
   "cell_type": "code",
   "execution_count": 64,
   "id": "a1566995-3e47-4d5c-9a05-0a647805150d",
   "metadata": {},
   "outputs": [
    {
     "data": {
      "text/plain": [
       "[1, 2, 3]"
      ]
     },
     "execution_count": 64,
     "metadata": {},
     "output_type": "execute_result"
    }
   ],
   "source": [
    "numbers"
   ]
  },
  {
   "cell_type": "markdown",
   "id": "64d65278-aab6-4f5d-ba68-64690b5fea91",
   "metadata": {},
   "source": [
    "## Conditional logic\n",
    "\n",
    "Another important feature of Python is the ability to apply [conditional logic](https://www.w3schools.com/python/python_conditions.asp). Let's say we wanted to only print numbers larger than 1."
   ]
  },
  {
   "cell_type": "code",
   "execution_count": 65,
   "id": "9f0703a5-59b7-4eeb-91a0-b315e163e904",
   "metadata": {},
   "outputs": [
    {
     "name": "stdout",
     "output_type": "stream",
     "text": [
      "2\n",
      "3\n"
     ]
    }
   ],
   "source": [
    "for number in numbers:\n",
    "    if number > 1:\n",
    "        print(number)"
   ]
  },
  {
   "cell_type": "markdown",
   "id": "02477abe-9ac9-4d8c-8f3a-bd6f8a5b86b8",
   "metadata": {},
   "source": [
    "Now we have *two* (yes 2!!) levels of indentation (i.e. two code blocks):\n",
    "\n",
    "* The first four spaces are standard when looping. Here, we just have one `if` statement at this level.\n",
    "* Then, we have another four spaces for the `if` block. This ensures the `print` statement will only run if the number is greater than 1.\n",
    "\n",
    "So that's it (for now). We've only covered a fraction of Python syntax so far, but we're already approaching the point where we can start doing some useful work. \n",
    "\n",
    "## Reminder\n",
    "\n",
    "Again, unless you have a photographic memory (lucky you!), do *not* expect to remember most of what we just covered. \n",
    "\n",
    "Magic pixie dust will not immediately issue from your fingertips into the machine. Learning to code is a process. You're learning a new langauge. That was your first taste. Let's start burning these new bits into your synapses with a code challenge.\n",
    "\n",
    "## Code Challenge\n",
    "\n",
    "Try applying the skills we've covered (and a few new ones) to the following code challenge.\n",
    "\n",
    "* Copy this list to the interactive Python shell:\n",
    "   ```python\n",
    "   animals = ['cat', 'dog', 'canary', 'chihuahua', 'narwhal']\n",
    "   ```\n",
    "* Create an empty list called `filtered_animals = []`\n",
    "* Loop through the list of `animals`\n",
    "* If the animal's name starts with the letter \"c\":\n",
    "   * Print the name in capital letters\n",
    "   * Add the name to the `filtered_animals` list\n",
    "* Print the number of `filtered_animals`, preceded by the text `\"Number of C-animals: \"`. \n",
    "\n",
    "The code should output the following:\n",
    "\n",
    "\n",
    "```\n",
    "CAT\n",
    "CANARY\n",
    "CHIHUAHUA\n",
    "Number of C-animals: 3\n",
    "```\n",
    "\n",
    "For this exercise, you'll need to use functionality that is built into Python strings. Review these docs on [string methods](https://www.w3schools.com/python/python_strings_methods.asp) to figure out which ones you'll need. \n",
    "\n",
    "Depending on how you approach the problem, you may also need to learn how to [slice strings](https://www.w3schools.com/python/python_strings_slicing.asp) (e.g. select the first character from the animal name).\n",
    "\n",
    ">The Python walk-through above is sprinkled with links to documentation. Visit the links to refresh and learn more as you work through this code challenge. Reading documentation is a normal part of the coding process!\n",
    "\n"
   ]
  },
  {
   "cell_type": "code",
   "execution_count": null,
   "id": "dc81735a-3861-40be-abf8-c512745369ef",
   "metadata": {},
   "outputs": [],
   "source": []
  }
 ],
 "metadata": {
  "kernelspec": {
   "display_name": "Python 3 (ipykernel)",
   "language": "python",
   "name": "python3"
  },
  "language_info": {
   "codemirror_mode": {
    "name": "ipython",
    "version": 3
   },
   "file_extension": ".py",
   "mimetype": "text/x-python",
   "name": "python",
   "nbconvert_exporter": "python",
   "pygments_lexer": "ipython3",
   "version": "3.10.12"
  }
 },
 "nbformat": 4,
 "nbformat_minor": 5
}
