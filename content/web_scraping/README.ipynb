{
 "cells": [
  {
   "cell_type": "markdown",
   "id": "419a3741-87bb-49b4-a6c9-119e207df6ec",
   "metadata": {},
   "source": [
    "# Web Scraping\n",
    "\n",
    "Resources related to gathering web pages and other files from the Web.\n",
    "\n",
    "> **IMPORTANT**: These notebooks should be run locally or on GitHub Codespaces.\n",
    "\n",
    "- [Web Scraping for the News](web_scraping_for_news.ipynb) - Overview of scraping as it relates to the news (use cases, warnings, ethical and legal issues)\n",
    "- [Web Scraping 101](scraping_101.ipynb) - How to dissect a website; overview of common roadblocks (e.g. dynamic pages, CAPTCHAs, etc) and strategies\n",
    "- [Exercises](exercises.ipynb) - for practice and fun!\n",
    "- [Resources](resources.ipynb) - Where to learn more, or what to learn next"
   ]
  }
 ],
 "metadata": {
  "kernelspec": {
   "display_name": "Python 3 (ipykernel)",
   "language": "python",
   "name": "python3"
  },
  "language_info": {
   "codemirror_mode": {
    "name": "ipython",
    "version": 3
   },
   "file_extension": ".py",
   "mimetype": "text/x-python",
   "name": "python",
   "nbconvert_exporter": "python",
   "pygments_lexer": "ipython3",
   "version": "3.11.4"
  }
 },
 "nbformat": 4,
 "nbformat_minor": 5
}
