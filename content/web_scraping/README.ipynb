{
 "cells": [
  {
   "cell_type": "markdown",
   "id": "419a3741-87bb-49b4-a6c9-119e207df6ec",
   "metadata": {},
   "source": [
    "# Web Scraping\n",
    "\n",
    "Resources related to gathering web pages and other files from the Web.\n",
    "\n",
    "> **IMPORTANT**: These notebooks should be run locally or on GitHub Codespaces.\n",
    "\n",
    "- [Web Scraping for the News](web_scraping_for_news.ipynb) - Big picture\n",
    "- [Web Scraping 101](scraping_101.ipynb) - Landing page for technical nitty gritty \n",
    "- [Dissecting Websites](dissecting_websites.ipynb) - You're the doctor, the website is the patient\n",
    "- [Website Personalities](website_personalities.ipynb) - Common website traits (aka scraping challenges) and how to address them\n",
    "  - [Skip the Scraping. Cheat](skip_scraping_cheat.ipynb) - You'll thank us\n",
    "  - [WYSIWYG Scraping](wysiwyg_scraping.ipynb) - Old school, easy scrapes. We miss you, Internet 2005\n",
    "  - [Drive the Browser, Robot](drive_the_browser_robot.ipynb) - Sometimes it's easier to let machines do the work\n",
    "- [Scraping exercises](exercises.ipynb) - A few sites to challenge your scraping skills.\n",
    "- [Scraping resources](resources.ipynb) - Tutorials, key concepts, code libraries for scraping, etc."
   ]
  },
  {
   "cell_type": "code",
   "execution_count": null,
   "id": "81322b5c-5aac-4041-ae76-2a48849944fb",
   "metadata": {},
   "outputs": [],
   "source": []
  }
 ],
 "metadata": {
  "kernelspec": {
   "display_name": "Python 3 (ipykernel)",
   "language": "python",
   "name": "python3"
  },
  "language_info": {
   "codemirror_mode": {
    "name": "ipython",
    "version": 3
   },
   "file_extension": ".py",
   "mimetype": "text/x-python",
   "name": "python",
   "nbconvert_exporter": "python",
   "pygments_lexer": "ipython3",
   "version": "3.11.4"
  }
 },
 "nbformat": 4,
 "nbformat_minor": 5
}
