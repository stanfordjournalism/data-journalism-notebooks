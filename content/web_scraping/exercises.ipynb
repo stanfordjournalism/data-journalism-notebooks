{
 "cells": [
  {
   "cell_type": "markdown",
   "id": "e6a3d1b8",
   "metadata": {},
   "source": [
    "# Web Scraping Exercises\n",
    "\n",
    "Below are a few exercises to help practice web scraping.\n",
    "\n",
    "-   [Texas Executed Offenders][] - Scrape the list of offender data and save it to a CSV. *Bonus points*: Scrape the `Last Statement` for each offender. This will require extracting links from the `Last Statement` field and scraping those pages as well.\n",
    "-   [Stanford Events](https://events.stanford.edu/) - Scrape the event url and metadata.\n",
    "-   [Palo Alto Agendas and Minutes][] - Generate a CSV of links to all agendas for current year. *Bonus points*:Download the actual agendas and minutes.\n",
    "-   [FDIC failed banks][] - Generate a CSV containing all the bank data on the index page. *Bonus points*: Scrape two pieces of data from the balance sheet pages for each bank. This will require harvesting links from the `Bank Name` field and using those links to scrape the \"detail\" pages for each bank.\n",
    "\n",
    "\n",
    "[Texas Executed Offenders]: https://www.tdcj.texas.gov/death_row/dr_executed_offenders.html\n",
    "[FDIC failed banks]: https://www.fdic.gov/resources/resolutions/bank-failures/failed-bank-list/\n",
    "[Palo Alto Agendas and Minutes]:https://www.cityofpaloalto.org/Departments/City-Clerk/Council-Agendas-and-Minutes-2021-2022"
   ]
  }
 ],
 "metadata": {
  "kernelspec": {
   "display_name": "Python 3 (ipykernel)",
   "language": "python",
   "name": "python3"
  },
  "language_info": {
   "codemirror_mode": {
    "name": "ipython",
    "version": 3
   },
   "file_extension": ".py",
   "mimetype": "text/x-python",
   "name": "python",
   "nbconvert_exporter": "python",
   "pygments_lexer": "ipython3",
   "version": "3.11.4"
  }
 },
 "nbformat": 4,
 "nbformat_minor": 5
}
