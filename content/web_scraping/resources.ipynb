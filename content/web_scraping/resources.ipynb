{
 "cells": [
  {
   "cell_type": "markdown",
   "id": "e510c7aa",
   "metadata": {},
   "source": [
    "# Web Scraping Resources\n",
    "\n",
    "## Developer Tools\n",
    "\n",
    "To lift the hood on a website and see how it works, you'll need to use a browser's developer tools:\n",
    "\n",
    "-   [Chrome Developer Tools](https://developers.google.com/web/tools/chrome-devtools/)\n",
    "-   [Firefox Developer Tools](https://developer.mozilla.org/en-US/docs/Tools)\n",
    "\n",
    "\n",
    "## Python libraries\n",
    "\n",
    "Here are a few of the most popular workhorses in the Python community for web scraping tasks:\n",
    "\n",
    "-   [requests](https://requests.readthedocs.io/en/latest/) to fetch web pages/files\n",
    "-   [BeautifulSoup](https://www.crummy.com/software/BeautifulSoup/bs4/doc/) for parsing HTML\n",
    "-   [lxml](https://lxml.de/) for more serious HTML/XML parsing firepower (it's a \"heavy\" install but offers more speed and features than BeautifulSoup)\n",
    "-   [Selenium](https://selenium-python.readthedocs.io/index.html) for [stateful web scraping](101.md#stateful-web-scraping) and working with dynamic page content (among other thorny issues)\n",
    "\n",
    "\n",
    "## Relevant Reading\n",
    "\n",
    "-   [Getting Started with HTML](https://developer.mozilla.org/en-US/docs/Learn/HTML/Introduction_to_HTML/Getting_started) (Mozilla)\n",
    "-   [BeautifulSoup - HTML and XML](http://2017.compciv.org/guide/topics/python-nonstandard-libraries/beautifulsoup.html)\n",
    "-   Automate the Boring Stuff - [HTML section](https://automatetheboringstuff.com/2e/chapter12/#calibre_link-382) of Chapter 12\n",
    "-   [Inspecting the Web with Chrome's Dev Tools](http://www.compjour.org/tutorials/intro-to-the-web-inspector/) - work through all three sections for a primer on HTML, CSS and Dev Tools"
   ]
  }
 ],
 "metadata": {
  "kernelspec": {
   "display_name": "Python 3 (ipykernel)",
   "language": "python",
   "name": "python3"
  },
  "language_info": {
   "codemirror_mode": {
    "name": "ipython",
    "version": 3
   },
   "file_extension": ".py",
   "mimetype": "text/x-python",
   "name": "python",
   "nbconvert_exporter": "python",
   "pygments_lexer": "ipython3",
   "version": "3.11.4"
  }
 },
 "nbformat": 4,
 "nbformat_minor": 5
}
