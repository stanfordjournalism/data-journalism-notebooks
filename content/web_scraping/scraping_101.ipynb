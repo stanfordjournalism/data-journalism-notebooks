{
 "cells": [
  {
   "cell_type": "markdown",
   "id": "fda41716",
   "metadata": {},
   "source": [
    "# Web Scraping 101\n",
    "\n",
    "## Overview\n",
    "\n",
    "[Web scraping](web_scraping_for_news.ipynb) can be more or less difficult depending on the nature of a website. \n",
    "\n",
    "A simple site where all the data you require is embedded directly in the HTML is a rare and beautiful thing.\n",
    "\n",
    "These days, it's far more common to encounter a website \"featuring\" one or more of the below challenges:\n",
    "\n",
    "- Dynamically generated content\n",
    "- Paginated content and search results\n",
    "- Randomized URLs\n",
    "- [Sessions / Cookies](https://en.wikipedia.org/wiki/HTTP_cookie)\n",
    "- Login forms\n",
    "- CAPTCHAs\n",
    "- etc.\n",
    "\n",
    "That list is choc full of web coding jargon. If you're new to the lingo, head to [Website Personalities](website_personalities.ipynb) for some background.\n",
    "\n",
    "Or to start your scraping journey, check out the three primers on scraping below. They range from how to avoid scraping in the first place, to dealing with gnarly websites that pose one or more of the challenges listed above. \n",
    "\n",
    "In such cases, it's often easier to just have a robot drive a browser and gather data for you.\n",
    "\n",
    "- [Skip Scraping: Cheat with JSON](skip_scraping_cheat.ipynb) - Often, complex sites are easier to \"scrape\" than it seems.\n",
    "- [WYSIWYG Scraping](wysiwyg_scraping.ipynb) - Basic scrapes. Unicorns in the mist...\n",
    "- [Just Use a Browser, Robot](just_use_browser_robot.ipynb) - After a certain threshold, it's easier to mimic a human.\n"
   ]
  },
  {
   "cell_type": "code",
   "execution_count": null,
   "id": "f1e28c70-3829-4aa2-b09c-87bc453e9cfb",
   "metadata": {},
   "outputs": [],
   "source": []
  }
 ],
 "metadata": {
  "kernelspec": {
   "display_name": "Python 3 (ipykernel)",
   "language": "python",
   "name": "python3"
  },
  "language_info": {
   "codemirror_mode": {
    "name": "ipython",
    "version": 3
   },
   "file_extension": ".py",
   "mimetype": "text/x-python",
   "name": "python",
   "nbconvert_exporter": "python",
   "pygments_lexer": "ipython3",
   "version": "3.11.4"
  }
 },
 "nbformat": 4,
 "nbformat_minor": 5
}
